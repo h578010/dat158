{
 "cells": [
  {
   "cell_type": "markdown",
   "metadata": {},
   "source": [
    "# End-to-end machine learning project\n"
   ]
  },
  {
   "cell_type": "markdown",
   "metadata": {},
   "source": [
    "## 1. Frame the problem"
   ]
  },
  {
   "cell_type": "markdown",
   "metadata": {},
   "source": [
    "**Task / problem** <br>\n",
    "Create a model to predict median housing prices of districts in California.\n",
    "\n",
    "**Goal** <br>\n",
    "Get a good output from the model, ie. good predictions for housing prices. \n",
    "\n",
    "\n",
    "**The company's goal** <br>\n",
    "To feed the output of the model into another ML model which in the end will determine whether or not it is worth investing in a certain area. The current solution to the problem is to predict the housing prices manually. This is time consuming and not accurate (error rate up to 15%). \n",
    "\n",
    "**Solution to the problem:** <br>\n",
    "Making a model to predict the housing prices is a supervised learning task, since the training dataset consists of pairs of input values and desired output values. The task is also a multiple regression problem since the model will use multiple features to make a prediction. The problem will be solved by plain batch learning since there is no continous flow of data coming in and the dataset is small enough to fit in memory."
   ]
  },
  {
   "cell_type": "markdown",
   "metadata": {},
   "source": [
    "## 2. Look at the big picture"
   ]
  },
  {
   "cell_type": "markdown",
   "metadata": {},
   "source": [
    "A performance measure is neccessary to determine how well the model is performing. Two typical ways to measure performance is root mean square of error (RMSE) and Mean Absolute Error (MAE).<br><br>\n",
    "The MAE is a linear score which means that all the individual differences are weighted equally in the average.\n",
    "The RMSE is a quadratic scoring rule which measures the average magnitude of the error. \n",
    "Since the errors are squared before they are averaged, the RMSE gives a relatively high weight to large errors. This means the RMSE is most useful when large errors are particularly undesirable. MAE is useful when there are many outlier districts. \n",
    "<br><br>RMSE performs very well and is generally preferred, assuming that there are few outlier districts (like in a bell-shaped curve). "
   ]
  },
  {
   "cell_type": "markdown",
   "metadata": {},
   "source": [
    "$ RMSE (X, h) = \\sqrt{(\\frac{1}{m})\\sum_{i=1}^{m}(h(x^{i}) - y^{i})^{2}} $"
   ]
  },
  {
   "cell_type": "markdown",
   "metadata": {},
   "source": [
    "- m is the number of instances in the dataset you are measuring the RMSE on. <br>\n",
    "- $ x^{i} $ is a vector of all the feature values (excluding the label) of the ith instance in\n",
    "the dataset, and $ y^{i} $) is its label (the desired output value for that instance).<br>\n",
    "- X is a matrix containing all the feature values (excluding labels) of all instances in\n",
    "the dataset.<br>\n",
    "- h is your system’s prediction function, also called a hypothesis.<br>\n",
    "- RMSE(X,h) is the cost function measured on the set of examples using your\n",
    "hypothesis h."
   ]
  },
  {
   "cell_type": "markdown",
   "metadata": {},
   "source": [
    "## 3. Get the data"
   ]
  },
  {
   "cell_type": "markdown",
   "metadata": {},
   "source": [
    "The dataset, the California housing prices dataset from Sttlib, was downloaded from the Kaggle competition site. Each row in the dataset represents a housing district and each column is a property which describes the housing district.\n"
   ]
  },
  {
   "cell_type": "markdown",
   "metadata": {},
   "source": [
    "### Setup"
   ]
  },
  {
   "cell_type": "code",
   "execution_count": 5,
   "metadata": {
    "_cell_guid": "b1076dfc-b9ad-4769-8c92-a6c4dae69d19",
    "_uuid": "8f2839f25d086af736a60e9eeb907d3b93b6e0e5"
   },
   "outputs": [],
   "source": [
    "%matplotlib inline\n",
    "import numpy as np \n",
    "import pandas as pd\n",
    "import matplotlib.pyplot as plt\n",
    "import seaborn as sns\n",
    "from sklearn.model_selection import train_test_split\n",
    "from pandas.plotting import scatter_matrix\n",
    "from sklearn.model_selection import StratifiedShuffleSplit"
   ]
  },
  {
   "cell_type": "markdown",
   "metadata": {},
   "source": [
    "### Data"
   ]
  },
  {
   "cell_type": "markdown",
   "metadata": {},
   "source": [
    "To list the files in the data folder the following commmand can be used:"
   ]
  },
  {
   "cell_type": "code",
   "execution_count": 6,
   "metadata": {
    "_cell_guid": "79c7e3d0-c299-4dcb-8224-4455121ee9b0",
    "_uuid": "d629ff2d2480ee46fbb7e2d37f6b5fab8052498a"
   },
   "outputs": [
    {
     "name": "stdout",
     "output_type": "stream",
     "text": [
      "['housing_data.csv', 'housing_test_data.csv', 'openml', 'sample_submission.csv']\n"
     ]
    }
   ],
   "source": [
    "import os\n",
    "print(os.listdir(\"data\"))"
   ]
  },
  {
   "cell_type": "markdown",
   "metadata": {},
   "source": [
    "The functions below were used to create Pandas DataFrames containing the different datasets."
   ]
  },
  {
   "cell_type": "code",
   "execution_count": 7,
   "metadata": {},
   "outputs": [],
   "source": [
    "housing = pd.read_csv('data/housing_data.csv')\n",
    "test = pd.read_csv('data/housing_test_data.csv')"
   ]
  },
  {
   "cell_type": "markdown",
   "metadata": {},
   "source": [
    "To get a quick describtion of the data it is useful to inspect the datasets with the head and the info methods. The head method shows the first 10 rows, each representing one district. "
   ]
  },
  {
   "cell_type": "code",
   "execution_count": 8,
   "metadata": {
    "scrolled": true
   },
   "outputs": [
    {
     "data": {
      "text/html": [
       "<div>\n",
       "<style scoped>\n",
       "    .dataframe tbody tr th:only-of-type {\n",
       "        vertical-align: middle;\n",
       "    }\n",
       "\n",
       "    .dataframe tbody tr th {\n",
       "        vertical-align: top;\n",
       "    }\n",
       "\n",
       "    .dataframe thead th {\n",
       "        text-align: right;\n",
       "    }\n",
       "</style>\n",
       "<table border=\"1\" class=\"dataframe\">\n",
       "  <thead>\n",
       "    <tr style=\"text-align: right;\">\n",
       "      <th></th>\n",
       "      <th>longitude</th>\n",
       "      <th>latitude</th>\n",
       "      <th>housing_median_age</th>\n",
       "      <th>total_rooms</th>\n",
       "      <th>total_bedrooms</th>\n",
       "      <th>population</th>\n",
       "      <th>households</th>\n",
       "      <th>median_income</th>\n",
       "      <th>median_house_value</th>\n",
       "      <th>ocean_proximity</th>\n",
       "    </tr>\n",
       "  </thead>\n",
       "  <tbody>\n",
       "    <tr>\n",
       "      <th>0</th>\n",
       "      <td>-122.13</td>\n",
       "      <td>37.67</td>\n",
       "      <td>40.0</td>\n",
       "      <td>1748.0</td>\n",
       "      <td>318.0</td>\n",
       "      <td>914.0</td>\n",
       "      <td>317.0</td>\n",
       "      <td>3.8676</td>\n",
       "      <td>184000.0</td>\n",
       "      <td>NEAR BAY</td>\n",
       "    </tr>\n",
       "    <tr>\n",
       "      <th>1</th>\n",
       "      <td>-120.98</td>\n",
       "      <td>37.65</td>\n",
       "      <td>40.0</td>\n",
       "      <td>422.0</td>\n",
       "      <td>63.0</td>\n",
       "      <td>158.0</td>\n",
       "      <td>63.0</td>\n",
       "      <td>7.3841</td>\n",
       "      <td>172200.0</td>\n",
       "      <td>INLAND</td>\n",
       "    </tr>\n",
       "    <tr>\n",
       "      <th>2</th>\n",
       "      <td>-118.37</td>\n",
       "      <td>33.87</td>\n",
       "      <td>23.0</td>\n",
       "      <td>1829.0</td>\n",
       "      <td>331.0</td>\n",
       "      <td>891.0</td>\n",
       "      <td>356.0</td>\n",
       "      <td>6.5755</td>\n",
       "      <td>359900.0</td>\n",
       "      <td>&lt;1H OCEAN</td>\n",
       "    </tr>\n",
       "    <tr>\n",
       "      <th>3</th>\n",
       "      <td>-117.89</td>\n",
       "      <td>33.90</td>\n",
       "      <td>23.0</td>\n",
       "      <td>1533.0</td>\n",
       "      <td>226.0</td>\n",
       "      <td>693.0</td>\n",
       "      <td>230.0</td>\n",
       "      <td>7.8980</td>\n",
       "      <td>258200.0</td>\n",
       "      <td>&lt;1H OCEAN</td>\n",
       "    </tr>\n",
       "    <tr>\n",
       "      <th>4</th>\n",
       "      <td>-122.40</td>\n",
       "      <td>37.76</td>\n",
       "      <td>52.0</td>\n",
       "      <td>1529.0</td>\n",
       "      <td>385.0</td>\n",
       "      <td>1347.0</td>\n",
       "      <td>348.0</td>\n",
       "      <td>2.9312</td>\n",
       "      <td>239100.0</td>\n",
       "      <td>NEAR BAY</td>\n",
       "    </tr>\n",
       "    <tr>\n",
       "      <th>5</th>\n",
       "      <td>-118.10</td>\n",
       "      <td>33.90</td>\n",
       "      <td>40.0</td>\n",
       "      <td>1880.0</td>\n",
       "      <td>377.0</td>\n",
       "      <td>1229.0</td>\n",
       "      <td>378.0</td>\n",
       "      <td>4.4167</td>\n",
       "      <td>174600.0</td>\n",
       "      <td>&lt;1H OCEAN</td>\n",
       "    </tr>\n",
       "    <tr>\n",
       "      <th>6</th>\n",
       "      <td>-119.45</td>\n",
       "      <td>36.16</td>\n",
       "      <td>27.0</td>\n",
       "      <td>2119.0</td>\n",
       "      <td>373.0</td>\n",
       "      <td>1268.0</td>\n",
       "      <td>345.0</td>\n",
       "      <td>2.8152</td>\n",
       "      <td>106900.0</td>\n",
       "      <td>INLAND</td>\n",
       "    </tr>\n",
       "    <tr>\n",
       "      <th>7</th>\n",
       "      <td>-122.31</td>\n",
       "      <td>38.30</td>\n",
       "      <td>45.0</td>\n",
       "      <td>3023.0</td>\n",
       "      <td>659.0</td>\n",
       "      <td>1789.0</td>\n",
       "      <td>657.0</td>\n",
       "      <td>3.6039</td>\n",
       "      <td>126000.0</td>\n",
       "      <td>NEAR BAY</td>\n",
       "    </tr>\n",
       "    <tr>\n",
       "      <th>8</th>\n",
       "      <td>-121.45</td>\n",
       "      <td>38.48</td>\n",
       "      <td>28.0</td>\n",
       "      <td>2780.0</td>\n",
       "      <td>510.0</td>\n",
       "      <td>1638.0</td>\n",
       "      <td>533.0</td>\n",
       "      <td>2.9571</td>\n",
       "      <td>103100.0</td>\n",
       "      <td>INLAND</td>\n",
       "    </tr>\n",
       "    <tr>\n",
       "      <th>9</th>\n",
       "      <td>-118.96</td>\n",
       "      <td>35.37</td>\n",
       "      <td>41.0</td>\n",
       "      <td>1463.0</td>\n",
       "      <td>339.0</td>\n",
       "      <td>1066.0</td>\n",
       "      <td>318.0</td>\n",
       "      <td>1.7467</td>\n",
       "      <td>52400.0</td>\n",
       "      <td>INLAND</td>\n",
       "    </tr>\n",
       "  </tbody>\n",
       "</table>\n",
       "</div>"
      ],
      "text/plain": [
       "   longitude  latitude  housing_median_age  total_rooms  total_bedrooms  \\\n",
       "0    -122.13     37.67                40.0       1748.0           318.0   \n",
       "1    -120.98     37.65                40.0        422.0            63.0   \n",
       "2    -118.37     33.87                23.0       1829.0           331.0   \n",
       "3    -117.89     33.90                23.0       1533.0           226.0   \n",
       "4    -122.40     37.76                52.0       1529.0           385.0   \n",
       "5    -118.10     33.90                40.0       1880.0           377.0   \n",
       "6    -119.45     36.16                27.0       2119.0           373.0   \n",
       "7    -122.31     38.30                45.0       3023.0           659.0   \n",
       "8    -121.45     38.48                28.0       2780.0           510.0   \n",
       "9    -118.96     35.37                41.0       1463.0           339.0   \n",
       "\n",
       "   population  households  median_income  median_house_value ocean_proximity  \n",
       "0       914.0       317.0         3.8676            184000.0        NEAR BAY  \n",
       "1       158.0        63.0         7.3841            172200.0          INLAND  \n",
       "2       891.0       356.0         6.5755            359900.0       <1H OCEAN  \n",
       "3       693.0       230.0         7.8980            258200.0       <1H OCEAN  \n",
       "4      1347.0       348.0         2.9312            239100.0        NEAR BAY  \n",
       "5      1229.0       378.0         4.4167            174600.0       <1H OCEAN  \n",
       "6      1268.0       345.0         2.8152            106900.0          INLAND  \n",
       "7      1789.0       657.0         3.6039            126000.0        NEAR BAY  \n",
       "8      1638.0       533.0         2.9571            103100.0          INLAND  \n",
       "9      1066.0       318.0         1.7467             52400.0          INLAND  "
      ]
     },
     "execution_count": 8,
     "metadata": {},
     "output_type": "execute_result"
    }
   ],
   "source": [
    "housing.head(10)"
   ]
  },
  {
   "cell_type": "code",
   "execution_count": 9,
   "metadata": {},
   "outputs": [
    {
     "data": {
      "text/html": [
       "<div>\n",
       "<style scoped>\n",
       "    .dataframe tbody tr th:only-of-type {\n",
       "        vertical-align: middle;\n",
       "    }\n",
       "\n",
       "    .dataframe tbody tr th {\n",
       "        vertical-align: top;\n",
       "    }\n",
       "\n",
       "    .dataframe thead th {\n",
       "        text-align: right;\n",
       "    }\n",
       "</style>\n",
       "<table border=\"1\" class=\"dataframe\">\n",
       "  <thead>\n",
       "    <tr style=\"text-align: right;\">\n",
       "      <th></th>\n",
       "      <th>Id</th>\n",
       "      <th>longitude</th>\n",
       "      <th>latitude</th>\n",
       "      <th>housing_median_age</th>\n",
       "      <th>total_rooms</th>\n",
       "      <th>total_bedrooms</th>\n",
       "      <th>population</th>\n",
       "      <th>households</th>\n",
       "      <th>median_income</th>\n",
       "      <th>ocean_proximity</th>\n",
       "    </tr>\n",
       "  </thead>\n",
       "  <tbody>\n",
       "    <tr>\n",
       "      <th>0</th>\n",
       "      <td>0</td>\n",
       "      <td>-122.27</td>\n",
       "      <td>37.87</td>\n",
       "      <td>35.0</td>\n",
       "      <td>3218.0</td>\n",
       "      <td>1108.0</td>\n",
       "      <td>1675.0</td>\n",
       "      <td>1000.0</td>\n",
       "      <td>1.7464</td>\n",
       "      <td>NEAR BAY</td>\n",
       "    </tr>\n",
       "    <tr>\n",
       "      <th>1</th>\n",
       "      <td>1</td>\n",
       "      <td>-118.94</td>\n",
       "      <td>34.18</td>\n",
       "      <td>24.0</td>\n",
       "      <td>3689.0</td>\n",
       "      <td>585.0</td>\n",
       "      <td>1898.0</td>\n",
       "      <td>581.0</td>\n",
       "      <td>5.9224</td>\n",
       "      <td>&lt;1H OCEAN</td>\n",
       "    </tr>\n",
       "    <tr>\n",
       "      <th>2</th>\n",
       "      <td>2</td>\n",
       "      <td>-119.75</td>\n",
       "      <td>36.77</td>\n",
       "      <td>32.0</td>\n",
       "      <td>1962.0</td>\n",
       "      <td>399.0</td>\n",
       "      <td>1005.0</td>\n",
       "      <td>392.0</td>\n",
       "      <td>2.6726</td>\n",
       "      <td>INLAND</td>\n",
       "    </tr>\n",
       "    <tr>\n",
       "      <th>3</th>\n",
       "      <td>3</td>\n",
       "      <td>-118.34</td>\n",
       "      <td>33.93</td>\n",
       "      <td>32.0</td>\n",
       "      <td>1254.0</td>\n",
       "      <td>399.0</td>\n",
       "      <td>1281.0</td>\n",
       "      <td>386.0</td>\n",
       "      <td>2.2976</td>\n",
       "      <td>&lt;1H OCEAN</td>\n",
       "    </tr>\n",
       "    <tr>\n",
       "      <th>4</th>\n",
       "      <td>4</td>\n",
       "      <td>-119.00</td>\n",
       "      <td>35.36</td>\n",
       "      <td>35.0</td>\n",
       "      <td>1021.0</td>\n",
       "      <td>280.0</td>\n",
       "      <td>1258.0</td>\n",
       "      <td>239.0</td>\n",
       "      <td>1.7375</td>\n",
       "      <td>INLAND</td>\n",
       "    </tr>\n",
       "  </tbody>\n",
       "</table>\n",
       "</div>"
      ],
      "text/plain": [
       "   Id  longitude  latitude  housing_median_age  total_rooms  total_bedrooms  \\\n",
       "0   0    -122.27     37.87                35.0       3218.0          1108.0   \n",
       "1   1    -118.94     34.18                24.0       3689.0           585.0   \n",
       "2   2    -119.75     36.77                32.0       1962.0           399.0   \n",
       "3   3    -118.34     33.93                32.0       1254.0           399.0   \n",
       "4   4    -119.00     35.36                35.0       1021.0           280.0   \n",
       "\n",
       "   population  households  median_income ocean_proximity  \n",
       "0      1675.0      1000.0         1.7464        NEAR BAY  \n",
       "1      1898.0       581.0         5.9224       <1H OCEAN  \n",
       "2      1005.0       392.0         2.6726          INLAND  \n",
       "3      1281.0       386.0         2.2976       <1H OCEAN  \n",
       "4      1258.0       239.0         1.7375          INLAND  "
      ]
     },
     "execution_count": 9,
     "metadata": {},
     "output_type": "execute_result"
    }
   ],
   "source": [
    "test.head()"
   ]
  },
  {
   "cell_type": "markdown",
   "metadata": {},
   "source": [
    "The info method is useful to get a quick describtion of the data. This includes information such as the total number of rows, each attribute's type and how many non-null values there are for each attribute. "
   ]
  },
  {
   "cell_type": "code",
   "execution_count": 10,
   "metadata": {},
   "outputs": [
    {
     "name": "stdout",
     "output_type": "stream",
     "text": [
      "<class 'pandas.core.frame.DataFrame'>\n",
      "RangeIndex: 16512 entries, 0 to 16511\n",
      "Data columns (total 10 columns):\n",
      " #   Column              Non-Null Count  Dtype  \n",
      "---  ------              --------------  -----  \n",
      " 0   longitude           16512 non-null  float64\n",
      " 1   latitude            16512 non-null  float64\n",
      " 2   housing_median_age  16512 non-null  float64\n",
      " 3   total_rooms         16512 non-null  float64\n",
      " 4   total_bedrooms      16344 non-null  float64\n",
      " 5   population          16512 non-null  float64\n",
      " 6   households          16512 non-null  float64\n",
      " 7   median_income       16512 non-null  float64\n",
      " 8   median_house_value  16512 non-null  float64\n",
      " 9   ocean_proximity     16512 non-null  object \n",
      "dtypes: float64(9), object(1)\n",
      "memory usage: 1.3+ MB\n"
     ]
    }
   ],
   "source": [
    "housing.info()"
   ]
  },
  {
   "cell_type": "markdown",
   "metadata": {},
   "source": [
    "The data can also be represented in terms of numerical attributes. \n",
    "The table below includes count, mean, std, min, max as well as lower, 50 and upper percentiles. By default the lower percentile is 25 and the upper percentile is 75. A percentile is a measure used in statistics indicating the value below which a given percentage of observations in a group of observations falls. The 25th percentile is the value (or score) below which 25% of the observations may be found. The 50 percentile is the same as the median."
   ]
  },
  {
   "cell_type": "code",
   "execution_count": 11,
   "metadata": {},
   "outputs": [
    {
     "data": {
      "text/html": [
       "<div>\n",
       "<style scoped>\n",
       "    .dataframe tbody tr th:only-of-type {\n",
       "        vertical-align: middle;\n",
       "    }\n",
       "\n",
       "    .dataframe tbody tr th {\n",
       "        vertical-align: top;\n",
       "    }\n",
       "\n",
       "    .dataframe thead th {\n",
       "        text-align: right;\n",
       "    }\n",
       "</style>\n",
       "<table border=\"1\" class=\"dataframe\">\n",
       "  <thead>\n",
       "    <tr style=\"text-align: right;\">\n",
       "      <th></th>\n",
       "      <th>longitude</th>\n",
       "      <th>latitude</th>\n",
       "      <th>housing_median_age</th>\n",
       "      <th>total_rooms</th>\n",
       "      <th>total_bedrooms</th>\n",
       "      <th>population</th>\n",
       "      <th>households</th>\n",
       "      <th>median_income</th>\n",
       "      <th>median_house_value</th>\n",
       "    </tr>\n",
       "  </thead>\n",
       "  <tbody>\n",
       "    <tr>\n",
       "      <th>count</th>\n",
       "      <td>16512.000000</td>\n",
       "      <td>16512.000000</td>\n",
       "      <td>16512.000000</td>\n",
       "      <td>16512.000000</td>\n",
       "      <td>16344.000000</td>\n",
       "      <td>16512.000000</td>\n",
       "      <td>16512.000000</td>\n",
       "      <td>16512.000000</td>\n",
       "      <td>16512.000000</td>\n",
       "    </tr>\n",
       "    <tr>\n",
       "      <th>mean</th>\n",
       "      <td>-119.568763</td>\n",
       "      <td>35.630270</td>\n",
       "      <td>28.714571</td>\n",
       "      <td>2636.885841</td>\n",
       "      <td>537.999755</td>\n",
       "      <td>1425.131783</td>\n",
       "      <td>499.837936</td>\n",
       "      <td>3.871083</td>\n",
       "      <td>207262.390080</td>\n",
       "    </tr>\n",
       "    <tr>\n",
       "      <th>std</th>\n",
       "      <td>2.003747</td>\n",
       "      <td>2.137134</td>\n",
       "      <td>12.589203</td>\n",
       "      <td>2195.840228</td>\n",
       "      <td>422.944167</td>\n",
       "      <td>1126.453504</td>\n",
       "      <td>383.400473</td>\n",
       "      <td>1.909994</td>\n",
       "      <td>115838.329585</td>\n",
       "    </tr>\n",
       "    <tr>\n",
       "      <th>min</th>\n",
       "      <td>-124.350000</td>\n",
       "      <td>32.540000</td>\n",
       "      <td>1.000000</td>\n",
       "      <td>6.000000</td>\n",
       "      <td>1.000000</td>\n",
       "      <td>3.000000</td>\n",
       "      <td>1.000000</td>\n",
       "      <td>0.499900</td>\n",
       "      <td>14999.000000</td>\n",
       "    </tr>\n",
       "    <tr>\n",
       "      <th>25%</th>\n",
       "      <td>-121.790000</td>\n",
       "      <td>33.930000</td>\n",
       "      <td>18.000000</td>\n",
       "      <td>1445.000000</td>\n",
       "      <td>295.000000</td>\n",
       "      <td>787.000000</td>\n",
       "      <td>279.000000</td>\n",
       "      <td>2.562500</td>\n",
       "      <td>120000.000000</td>\n",
       "    </tr>\n",
       "    <tr>\n",
       "      <th>50%</th>\n",
       "      <td>-118.490000</td>\n",
       "      <td>34.260000</td>\n",
       "      <td>29.000000</td>\n",
       "      <td>2122.500000</td>\n",
       "      <td>434.000000</td>\n",
       "      <td>1163.000000</td>\n",
       "      <td>409.000000</td>\n",
       "      <td>3.529450</td>\n",
       "      <td>180400.000000</td>\n",
       "    </tr>\n",
       "    <tr>\n",
       "      <th>75%</th>\n",
       "      <td>-118.010000</td>\n",
       "      <td>37.710000</td>\n",
       "      <td>37.000000</td>\n",
       "      <td>3137.000000</td>\n",
       "      <td>646.000000</td>\n",
       "      <td>1723.000000</td>\n",
       "      <td>603.000000</td>\n",
       "      <td>4.746450</td>\n",
       "      <td>265100.000000</td>\n",
       "    </tr>\n",
       "    <tr>\n",
       "      <th>max</th>\n",
       "      <td>-114.310000</td>\n",
       "      <td>41.950000</td>\n",
       "      <td>52.000000</td>\n",
       "      <td>39320.000000</td>\n",
       "      <td>6210.000000</td>\n",
       "      <td>35682.000000</td>\n",
       "      <td>5358.000000</td>\n",
       "      <td>15.000100</td>\n",
       "      <td>500001.000000</td>\n",
       "    </tr>\n",
       "  </tbody>\n",
       "</table>\n",
       "</div>"
      ],
      "text/plain": [
       "          longitude      latitude  housing_median_age   total_rooms  \\\n",
       "count  16512.000000  16512.000000        16512.000000  16512.000000   \n",
       "mean    -119.568763     35.630270           28.714571   2636.885841   \n",
       "std        2.003747      2.137134           12.589203   2195.840228   \n",
       "min     -124.350000     32.540000            1.000000      6.000000   \n",
       "25%     -121.790000     33.930000           18.000000   1445.000000   \n",
       "50%     -118.490000     34.260000           29.000000   2122.500000   \n",
       "75%     -118.010000     37.710000           37.000000   3137.000000   \n",
       "max     -114.310000     41.950000           52.000000  39320.000000   \n",
       "\n",
       "       total_bedrooms    population    households  median_income  \\\n",
       "count    16344.000000  16512.000000  16512.000000   16512.000000   \n",
       "mean       537.999755   1425.131783    499.837936       3.871083   \n",
       "std        422.944167   1126.453504    383.400473       1.909994   \n",
       "min          1.000000      3.000000      1.000000       0.499900   \n",
       "25%        295.000000    787.000000    279.000000       2.562500   \n",
       "50%        434.000000   1163.000000    409.000000       3.529450   \n",
       "75%        646.000000   1723.000000    603.000000       4.746450   \n",
       "max       6210.000000  35682.000000   5358.000000      15.000100   \n",
       "\n",
       "       median_house_value  \n",
       "count        16512.000000  \n",
       "mean        207262.390080  \n",
       "std         115838.329585  \n",
       "min          14999.000000  \n",
       "25%         120000.000000  \n",
       "50%         180400.000000  \n",
       "75%         265100.000000  \n",
       "max         500001.000000  "
      ]
     },
     "execution_count": 11,
     "metadata": {},
     "output_type": "execute_result"
    }
   ],
   "source": [
    "housing.describe()"
   ]
  },
  {
   "cell_type": "markdown",
   "metadata": {},
   "source": [
    "It can be very useful to take a look at the dataset by plotting a histogram for each numerical attribute. A histogram shows the number of instances (on the vertical axis) that have a given value range (on the horizontal axis). <br>\n",
    " "
   ]
  },
  {
   "cell_type": "code",
   "execution_count": 12,
   "metadata": {},
   "outputs": [
    {
     "data": {
      "text/plain": [
       "array([[<matplotlib.axes._subplots.AxesSubplot object at 0x000001BE07B74370>,\n",
       "        <matplotlib.axes._subplots.AxesSubplot object at 0x000001BE0824E850>,\n",
       "        <matplotlib.axes._subplots.AxesSubplot object at 0x000001BE0827CCA0>],\n",
       "       [<matplotlib.axes._subplots.AxesSubplot object at 0x000001BE082B5160>,\n",
       "        <matplotlib.axes._subplots.AxesSubplot object at 0x000001BE082E35B0>,\n",
       "        <matplotlib.axes._subplots.AxesSubplot object at 0x000001BE0830F940>],\n",
       "       [<matplotlib.axes._subplots.AxesSubplot object at 0x000001BE0830FA30>,\n",
       "        <matplotlib.axes._subplots.AxesSubplot object at 0x000001BE0833AEE0>,\n",
       "        <matplotlib.axes._subplots.AxesSubplot object at 0x000001BE0839E730>]],\n",
       "      dtype=object)"
      ]
     },
     "execution_count": 12,
     "metadata": {},
     "output_type": "execute_result"
    },
    {
     "data": {
      "image/png": "[encoded data removed]",
      "text/plain": [
       "<Figure size 1440x1080 with 9 Axes>"
      ]
     },
     "metadata": {
      "needs_background": "light"
     },
     "output_type": "display_data"
    }
   ],
   "source": [
    "housing.hist(bins=50, figsize=(20,15))"
   ]
  },
  {
   "cell_type": "markdown",
   "metadata": {},
   "source": [
    "### Creating a test set"
   ]
  },
  {
   "cell_type": "markdown",
   "metadata": {},
   "source": [
    "The data set must be seperated into a training set and a test set. To avoid data snooping bias only the training set will be explored to gain insights about the data. "
   ]
  },
  {
   "cell_type": "code",
   "execution_count": 13,
   "metadata": {},
   "outputs": [],
   "source": [
    "train_set, test_set = train_test_split(housing, test_size = 0.2, random_state = 42)"
   ]
  },
  {
   "cell_type": "markdown",
   "metadata": {},
   "source": [
    "### Handling sampling bias"
   ]
  },
  {
   "cell_type": "markdown",
   "metadata": {},
   "source": [
    "Studying the histograms above, observe that the median income is clustered between 15 000 and 60 000. In order to avoid bias one need to ensure that the test set is representative of the various categories of income in the whole dataset. \n",
    "This is solved by making sure there are a sufficient number of instances in each stratum/class before doing the sampling."
   ]
  },
  {
   "cell_type": "code",
   "execution_count": 14,
   "metadata": {},
   "outputs": [
    {
     "data": {
      "text/plain": [
       "<matplotlib.axes._subplots.AxesSubplot at 0x1be08fed280>"
      ]
     },
     "execution_count": 14,
     "metadata": {},
     "output_type": "execute_result"
    },
    {
     "data": {
      "image/png": "[encoded data removed]",
      "text/plain": [
       "<Figure size 432x288 with 1 Axes>"
      ]
     },
     "metadata": {
      "needs_background": "light"
     },
     "output_type": "display_data"
    }
   ],
   "source": [
    "housing[\"income_cat\"] = pd.cut(housing[\"median_income\"], bins=[0, 1.5, 3.0, 4.5, 6.0, np.inf], labels=[1, 2, 3, 4, 5])\n",
    "housing[\"income_cat\"].hist()"
   ]
  },
  {
   "cell_type": "code",
   "execution_count": 15,
   "metadata": {},
   "outputs": [],
   "source": [
    "split = StratifiedShuffleSplit(n_splits=1, test_size=0.2, random_state = 42)\n",
    "for train_index, test_index in split.split(housing, housing[\"income_cat\"]):\n",
    "    strat_train_set = housing.loc[train_index]\n",
    "    strat_test_set = housing.loc[test_index]"
   ]
  },
  {
   "cell_type": "markdown",
   "metadata": {},
   "source": [
    "The income proportions in the test set is shown below. Comparing the proportions with the histogram showing the income categories it is concluded that the split was successful."
   ]
  },
  {
   "cell_type": "code",
   "execution_count": 16,
   "metadata": {},
   "outputs": [
    {
     "data": {
      "text/plain": [
       "3    0.350590\n",
       "2    0.318801\n",
       "4    0.176203\n",
       "5    0.114441\n",
       "1    0.039964\n",
       "Name: income_cat, dtype: float64"
      ]
     },
     "execution_count": 16,
     "metadata": {},
     "output_type": "execute_result"
    }
   ],
   "source": [
    "strat_test_set[\"income_cat\"].value_counts() / len (strat_test_set)"
   ]
  },
  {
   "cell_type": "markdown",
   "metadata": {},
   "source": [
    "To get the data set back to its original state after the splitting into a training and test set, the income categories are removed."
   ]
  },
  {
   "cell_type": "code",
   "execution_count": 17,
   "metadata": {},
   "outputs": [],
   "source": [
    "for set_ in (strat_train_set, strat_test_set):\n",
    "    set_.drop(\"income_cat\", axis=1, inplace=True)"
   ]
  },
  {
   "cell_type": "markdown",
   "metadata": {},
   "source": [
    "# 3. Explore the data and gain insights\n"
   ]
  },
  {
   "cell_type": "markdown",
   "metadata": {},
   "source": [
    "As mentioned when splitting the data set into a training and a test set, the test set will be set aside and not handled until the model is ready for testing. In order to examine the training set without any concern of harming it, a copy is made before exploring it in more depth."
   ]
  },
  {
   "cell_type": "code",
   "execution_count": 18,
   "metadata": {},
   "outputs": [],
   "source": [
    "housing = strat_train_set.copy()"
   ]
  },
  {
   "cell_type": "markdown",
   "metadata": {},
   "source": [
    "The data can be visualized by making a scatter plot of all the districts. Setting the values on the x-axis to lonigtude and the y-axis to latitude results in an image that resembles the map of California! <br><br>\n",
    "The house values are represented by color (red is high and blue is low) and population density by the size of the circles in the plot. Observations made include a high correlation between house prices and population density, the houses are more expensive closer to the big cities. There is also some correlation between housing prices and proximity to the sea, but this correlation is only high in the latitudes below 38 degrees. "
   ]
  },
  {
   "cell_type": "code",
   "execution_count": 19,
   "metadata": {},
   "outputs": [
    {
     "data": {
      "text/plain": [
       "<matplotlib.legend.Legend at 0x1be094981c0>"
      ]
     },
     "execution_count": 19,
     "metadata": {},
     "output_type": "execute_result"
    },
    {
     "data": {
      "image/png": "[encoded data removed]",
      "text/plain": [
       "<Figure size 720x504 with 2 Axes>"
      ]
     },
     "metadata": {
      "needs_background": "light"
     },
     "output_type": "display_data"
    }
   ],
   "source": [
    "housing.plot(kind=\"scatter\", x=\"longitude\", y=\"latitude\", alpha=0.4, s = housing[\"population\"]/100, label=\"population\", figsize=(10,7), c=\"median_house_value\", cmap=plt.get_cmap(\"jet\"), colorbar=True,)\n",
    "plt.legend()"
   ]
  },
  {
   "cell_type": "markdown",
   "metadata": {},
   "source": [
    "To further investigate correlations the standard correlation coefficient can be computed between every pair of attributes. Below the correlation between median house value and the other attributes is shown:"
   ]
  },
  {
   "cell_type": "code",
   "execution_count": 20,
   "metadata": {},
   "outputs": [],
   "source": [
    "corr_matrix = housing.corr()"
   ]
  },
  {
   "cell_type": "code",
   "execution_count": 21,
   "metadata": {},
   "outputs": [
    {
     "data": {
      "text/plain": [
       "median_house_value    1.000000\n",
       "median_income         0.685704\n",
       "total_rooms           0.133077\n",
       "housing_median_age    0.106092\n",
       "households            0.063955\n",
       "total_bedrooms        0.047995\n",
       "population           -0.026638\n",
       "longitude            -0.041681\n",
       "latitude             -0.149024\n",
       "Name: median_house_value, dtype: float64"
      ]
     },
     "execution_count": 21,
     "metadata": {},
     "output_type": "execute_result"
    }
   ],
   "source": [
    "corr_matrix[\"median_house_value\"].sort_values(ascending=False)"
   ]
  },
  {
   "cell_type": "markdown",
   "metadata": {},
   "source": [
    "A correlation coefficient close to 1 means that there is a strong correlation. If the coefficient is around 0 it means that there is no correlation. Finally, if the coefficient is -1 it means that there is a strong negative correlation.\n",
    "\n",
    "The correlation matrix above shows that housing prices have a slight tendency to decrease when one goes north. This corresponds well with the map created above, whereit can be observed that there are fewer expensive houses in the northern part of California. Another observation is that there is a strong correlation between median house value and median income, the housing prices tend to go up when median income goes up. \n",
    "\n",
    "Some of the attributes were chosen for a closer examination of the correlation with median housing value. The attributes that had the strongest correlation with median house value were chosen to do this."
   ]
  },
  {
   "cell_type": "code",
   "execution_count": 22,
   "metadata": {},
   "outputs": [
    {
     "data": {
      "text/plain": [
       "array([[<matplotlib.axes._subplots.AxesSubplot object at 0x000001BE0A6A34C0>,\n",
       "        <matplotlib.axes._subplots.AxesSubplot object at 0x000001BE0A6D6250>,\n",
       "        <matplotlib.axes._subplots.AxesSubplot object at 0x000001BE0A6FE9A0>,\n",
       "        <matplotlib.axes._subplots.AxesSubplot object at 0x000001BE0A735130>],\n",
       "       [<matplotlib.axes._subplots.AxesSubplot object at 0x000001BE0A75D8B0>,\n",
       "        <matplotlib.axes._subplots.AxesSubplot object at 0x000001BE0A7850D0>,\n",
       "        <matplotlib.axes._subplots.AxesSubplot object at 0x000001BE0A7910A0>,\n",
       "        <matplotlib.axes._subplots.AxesSubplot object at 0x000001BE0A7BC880>],\n",
       "       [<matplotlib.axes._subplots.AxesSubplot object at 0x000001BE0A819730>,\n",
       "        <matplotlib.axes._subplots.AxesSubplot object at 0x000001BE0A843EB0>,\n",
       "        <matplotlib.axes._subplots.AxesSubplot object at 0x000001BE0A878670>,\n",
       "        <matplotlib.axes._subplots.AxesSubplot object at 0x000001BE086461F0>],\n",
       "       [<matplotlib.axes._subplots.AxesSubplot object at 0x000001BE08847580>,\n",
       "        <matplotlib.axes._subplots.AxesSubplot object at 0x000001BE08FED580>,\n",
       "        <matplotlib.axes._subplots.AxesSubplot object at 0x000001BE08FFA5E0>,\n",
       "        <matplotlib.axes._subplots.AxesSubplot object at 0x000001BE0902E250>]],\n",
       "      dtype=object)"
      ]
     },
     "execution_count": 22,
     "metadata": {},
     "output_type": "execute_result"
    },
    {
     "data": {
      "image/png": "[encoded data removed]",
      "text/plain": [
       "<Figure size 864x576 with 16 Axes>"
      ]
     },
     "metadata": {
      "needs_background": "light"
     },
     "output_type": "display_data"
    }
   ],
   "source": [
    "attributes = [\"median_house_value\", \"median_income\", \"total_rooms\", \"housing_median_age\"];\n",
    "scatter_matrix(housing[attributes], figsize=(12,8))"
   ]
  },
  {
   "cell_type": "markdown",
   "metadata": {},
   "source": [
    "__Say something about one or two of the scatter plots__<br><br>\n",
    "__Observations:__<br>\n",
    "In the dataset there is a cap at 500,000 dollars for house price (all house prices above 500,000 dollars is plotted as 500,000 $). This can be seen as a straight line in the top histograms, showing median house value on the y-axis. "
   ]
  },
  {
   "cell_type": "markdown",
   "metadata": {},
   "source": [
    "### Attribute combinations"
   ]
  },
  {
   "cell_type": "markdown",
   "metadata": {},
   "source": [
    "Some of the attributes in the dataset are not very useful on their own. An example of this is the number of rooms in a district, clearly it is more interesing to know how many rooms there are per household. The code below creates three new attributes, rooms per household, a ratio between bedrooms and total rooms, and finally population per household."
   ]
  },
  {
   "cell_type": "code",
   "execution_count": 23,
   "metadata": {},
   "outputs": [],
   "source": [
    "housing[\"rooms_per_household\"] = housing[\"total_rooms\"]/housing[\"households\"]\n",
    "housing[\"bedrooms_per_room\"] = housing[\"total_bedrooms\"]/housing[\"total_rooms\"]\n",
    "housing[\"population_per_household\"] = housing[\"population\"]/housing[\"households\"]"
   ]
  },
  {
   "cell_type": "code",
   "execution_count": 24,
   "metadata": {},
   "outputs": [
    {
     "data": {
      "text/plain": [
       "median_house_value          1.000000\n",
       "median_income               0.685704\n",
       "rooms_per_household         0.193628\n",
       "total_rooms                 0.133077\n",
       "housing_median_age          0.106092\n",
       "households                  0.063955\n",
       "total_bedrooms              0.047995\n",
       "population_per_household   -0.025622\n",
       "population                 -0.026638\n",
       "longitude                  -0.041681\n",
       "latitude                   -0.149024\n",
       "bedrooms_per_room          -0.255611\n",
       "Name: median_house_value, dtype: float64"
      ]
     },
     "execution_count": 24,
     "metadata": {},
     "output_type": "execute_result"
    }
   ],
   "source": [
    "corr_matrix = housing.corr()\n",
    "corr_matrix[\"median_house_value\"].sort_values(ascending=False)"
   ]
  },
  {
   "cell_type": "markdown",
   "metadata": {},
   "source": [
    "Looking at the correlation between median house value and the new attributes it is now clear that the ratio between bedrooms and total rooms correlates to the housing price. A lower bedroom/room ratio tend to be more expensive."
   ]
  },
  {
   "cell_type": "markdown",
   "metadata": {},
   "source": [
    "# 4. Prepare the data to better expose the underlying data patterns to machine learning algorithms"
   ]
  },
  {
   "cell_type": "markdown",
   "metadata": {},
   "source": [
    "By once more copying the stratified training set results in a clean training set before data cleaning. The predictors (X) are seperated from the labels/targets (y) and stored in two different datasets. \n"
   ]
  },
  {
   "cell_type": "code",
   "execution_count": 25,
   "metadata": {},
   "outputs": [],
   "source": [
    "housing = strat_train_set.drop(\"median_house_value\", axis=1)\n",
    "housing_labels = strat_train_set[\"median_house_value\"].copy()"
   ]
  },
  {
   "cell_type": "markdown",
   "metadata": {},
   "source": [
    "### Data cleaning"
   ]
  },
  {
   "cell_type": "markdown",
   "metadata": {},
   "source": [
    "Most algorithms cannot work with missing values so this needs to be handled. It is a common practise to compute the median values and fill them in where values are missing in the trainig set. Thee value is saved so that it can be used in the test set later. "
   ]
  },
  {
   "cell_type": "code",
   "execution_count": 26,
   "metadata": {},
   "outputs": [],
   "source": [
    "from sklearn.impute import SimpleImputer\n",
    "imputer = SimpleImputer(strategy=\"median\")"
   ]
  },
  {
   "cell_type": "markdown",
   "metadata": {},
   "source": [
    "Non-numerical features must be removed before computing the medians for each feature. In this dataset the ocean proximity is the only non-numerical feature. "
   ]
  },
  {
   "cell_type": "code",
   "execution_count": 27,
   "metadata": {},
   "outputs": [],
   "source": [
    "housing_num = housing.drop(\"ocean_proximity\", axis=1)"
   ]
  },
  {
   "cell_type": "code",
   "execution_count": 28,
   "metadata": {},
   "outputs": [
    {
     "data": {
      "text/plain": [
       "array([-118.49  ,   34.25  ,   29.    , 2116.    ,  433.    , 1163.    ,\n",
       "        409.    ,    3.5288])"
      ]
     },
     "execution_count": 28,
     "metadata": {},
     "output_type": "execute_result"
    }
   ],
   "source": [
    "imputer.fit(housing_num)\n",
    "imputer.statistics_"
   ]
  },
  {
   "cell_type": "markdown",
   "metadata": {},
   "source": [
    "The array above shows the calculated medians for eight of the ten features in our dataset. Ocean proximity was dropped since it was not a numerical feature, and the labels are not calculated for obvious reasons. By using the imputers's transform method, all the missing values in the dataset will be replaced with the median value. Since the result is a numpy array it needs to be put back into a pandas DataFrame. "
   ]
  },
  {
   "cell_type": "code",
   "execution_count": 29,
   "metadata": {},
   "outputs": [],
   "source": [
    "housing_transformed = imputer.transform(housing_num)\n",
    "housing_tr = pd.DataFrame(housing_transformed, columns=housing_num.columns, index=housing_num.index)"
   ]
  },
  {
   "cell_type": "markdown",
   "metadata": {},
   "source": [
    "### Text values"
   ]
  },
  {
   "cell_type": "markdown",
   "metadata": {},
   "source": [
    "To deal with the non-numerical features, like the ocean proximity, the different text values can be converted into numbers."
   ]
  },
  {
   "cell_type": "code",
   "execution_count": 30,
   "metadata": {},
   "outputs": [],
   "source": [
    "housing_cat = housing[[\"ocean_proximity\"]]"
   ]
  },
  {
   "cell_type": "code",
   "execution_count": 31,
   "metadata": {},
   "outputs": [],
   "source": [
    "from sklearn.preprocessing import OrdinalEncoder\n",
    "ord_enc = OrdinalEncoder()\n",
    "housing_cat_encoded = ord_enc.fit_transform(housing_cat)"
   ]
  },
  {
   "cell_type": "markdown",
   "metadata": {},
   "source": [
    "Changing the text values to numbers will make the ML algorithms think that the numeric values (0-4) will have a meaning. For example that two nearby categories will be similar. This is not the case for the values for ocean proximity, the categories are not sorted in any way. Two categories that are similar will not neccessarily be next to each other. This can make the model perform different than how it is supposed to. This is handled by using a binary attribute for every category. The resulting sparse matrix is then converted to a NumPy array."
   ]
  },
  {
   "cell_type": "code",
   "execution_count": 32,
   "metadata": {},
   "outputs": [
    {
     "data": {
      "text/plain": [
       "array([[1., 0., 0., 0., 0.],\n",
       "       [1., 0., 0., 0., 0.],\n",
       "       [0., 1., 0., 0., 0.],\n",
       "       ...,\n",
       "       [1., 0., 0., 0., 0.],\n",
       "       [1., 0., 0., 0., 0.],\n",
       "       [1., 0., 0., 0., 0.]])"
      ]
     },
     "execution_count": 32,
     "metadata": {},
     "output_type": "execute_result"
    }
   ],
   "source": [
    "from sklearn.preprocessing import OneHotEncoder\n",
    "encoder = OneHotEncoder()\n",
    "housing_cat_hot = encoder.fit_transform(housing_cat_encoded)\n",
    "housing_cat_hot\n",
    "housing_cat_hot.toarray()"
   ]
  },
  {
   "cell_type": "markdown",
   "metadata": {},
   "source": [
    "The non-numerical categories and the corresponding numerical categories are shown below. "
   ]
  },
  {
   "cell_type": "code",
   "execution_count": 33,
   "metadata": {},
   "outputs": [
    {
     "data": {
      "text/plain": [
       "[array(['<1H OCEAN', 'INLAND', 'ISLAND', 'NEAR BAY', 'NEAR OCEAN'],\n",
       "       dtype=object)]"
      ]
     },
     "execution_count": 33,
     "metadata": {},
     "output_type": "execute_result"
    }
   ],
   "source": [
    "ord_enc.categories_"
   ]
  },
  {
   "cell_type": "code",
   "execution_count": 34,
   "metadata": {},
   "outputs": [
    {
     "data": {
      "text/plain": [
       "[array([0., 1., 2., 3., 4.])]"
      ]
     },
     "execution_count": 34,
     "metadata": {},
     "output_type": "execute_result"
    }
   ],
   "source": [
    "encoder.categories_"
   ]
  },
  {
   "cell_type": "markdown",
   "metadata": {},
   "source": [
    "Below is how the ocean proximity, represented by binary attributes, will be shown in the dataset:"
   ]
  },
  {
   "cell_type": "code",
   "execution_count": 35,
   "metadata": {},
   "outputs": [
    {
     "data": {
      "text/html": [
       "<div>\n",
       "<style scoped>\n",
       "    .dataframe tbody tr th:only-of-type {\n",
       "        vertical-align: middle;\n",
       "    }\n",
       "\n",
       "    .dataframe tbody tr th {\n",
       "        vertical-align: top;\n",
       "    }\n",
       "\n",
       "    .dataframe thead th {\n",
       "        text-align: right;\n",
       "    }\n",
       "</style>\n",
       "<table border=\"1\" class=\"dataframe\">\n",
       "  <thead>\n",
       "    <tr style=\"text-align: right;\">\n",
       "      <th></th>\n",
       "      <th>0</th>\n",
       "      <th>1</th>\n",
       "      <th>2</th>\n",
       "      <th>3</th>\n",
       "      <th>4</th>\n",
       "    </tr>\n",
       "  </thead>\n",
       "  <tbody>\n",
       "    <tr>\n",
       "      <th>0</th>\n",
       "      <td>1.0</td>\n",
       "      <td>0.0</td>\n",
       "      <td>0.0</td>\n",
       "      <td>0.0</td>\n",
       "      <td>0.0</td>\n",
       "    </tr>\n",
       "    <tr>\n",
       "      <th>1</th>\n",
       "      <td>1.0</td>\n",
       "      <td>0.0</td>\n",
       "      <td>0.0</td>\n",
       "      <td>0.0</td>\n",
       "      <td>0.0</td>\n",
       "    </tr>\n",
       "    <tr>\n",
       "      <th>2</th>\n",
       "      <td>0.0</td>\n",
       "      <td>1.0</td>\n",
       "      <td>0.0</td>\n",
       "      <td>0.0</td>\n",
       "      <td>0.0</td>\n",
       "    </tr>\n",
       "    <tr>\n",
       "      <th>3</th>\n",
       "      <td>1.0</td>\n",
       "      <td>0.0</td>\n",
       "      <td>0.0</td>\n",
       "      <td>0.0</td>\n",
       "      <td>0.0</td>\n",
       "    </tr>\n",
       "    <tr>\n",
       "      <th>4</th>\n",
       "      <td>0.0</td>\n",
       "      <td>0.0</td>\n",
       "      <td>0.0</td>\n",
       "      <td>1.0</td>\n",
       "      <td>0.0</td>\n",
       "    </tr>\n",
       "  </tbody>\n",
       "</table>\n",
       "</div>"
      ],
      "text/plain": [
       "     0    1    2    3    4\n",
       "0  1.0  0.0  0.0  0.0  0.0\n",
       "1  1.0  0.0  0.0  0.0  0.0\n",
       "2  0.0  1.0  0.0  0.0  0.0\n",
       "3  1.0  0.0  0.0  0.0  0.0\n",
       "4  0.0  0.0  0.0  1.0  0.0"
      ]
     },
     "execution_count": 35,
     "metadata": {},
     "output_type": "execute_result"
    }
   ],
   "source": [
    "housing_binary = pd.DataFrame(housing_cat_hot.toarray())\n",
    "housing_binary.head()"
   ]
  },
  {
   "cell_type": "markdown",
   "metadata": {},
   "source": [
    "### Custom transformers"
   ]
  },
  {
   "cell_type": "markdown",
   "metadata": {},
   "source": [
    "It is useful to make a function for combining attributes (like done before to check for correlation between rooms and house prices). This transformer has a hyperparameter, add_bedrooms_per_room, set to True. This parameter will help determine if adding this attribute helps the machine learning algorithms or not. "
   ]
  },
  {
   "cell_type": "code",
   "execution_count": 36,
   "metadata": {},
   "outputs": [],
   "source": [
    "from sklearn.base import BaseEstimator, TransformerMixin\n",
    "rooms_ix, bedrooms_ix, population_ix, households_ix = 3, 4, 5, 6\n",
    "\n",
    "class CombinedAttributesAdder(BaseEstimator, TransformerMixin):\n",
    "    def __init__(self, add_bedrooms_per_room=True):\n",
    "        self.add_bedrooms_per_room = add_bedrooms_per_room\n",
    "    def fit(self, X, y=None):\n",
    "        return self\n",
    "    def transform(self, X, y=None):\n",
    "        rooms_per_household = X[:, rooms_ix] / X[:, households_ix]\n",
    "        population_per_household = X[:, population_ix] / X[:, households_ix]\n",
    "        if self.add_bedrooms_per_room:\n",
    "            bedrooms_per_room = X[:, bedrooms_ix] / X[:, rooms_ix]\n",
    "            return np.c_[X, rooms_per_household, population_per_household, bedrooms_per_room]\n",
    "        else:\n",
    "            return np.c_[X, rooms_per_household, population_per_household]"
   ]
  },
  {
   "cell_type": "code",
   "execution_count": 37,
   "metadata": {},
   "outputs": [],
   "source": [
    "attr_adder = CombinedAttributesAdder(add_bedrooms_per_room=False)\n",
    "housing_extra_attribs = attr_adder.transform(housing.values)"
   ]
  },
  {
   "cell_type": "code",
   "execution_count": 38,
   "metadata": {},
   "outputs": [
    {
     "data": {
      "text/html": [
       "<div>\n",
       "<style scoped>\n",
       "    .dataframe tbody tr th:only-of-type {\n",
       "        vertical-align: middle;\n",
       "    }\n",
       "\n",
       "    .dataframe tbody tr th {\n",
       "        vertical-align: top;\n",
       "    }\n",
       "\n",
       "    .dataframe thead th {\n",
       "        text-align: right;\n",
       "    }\n",
       "</style>\n",
       "<table border=\"1\" class=\"dataframe\">\n",
       "  <thead>\n",
       "    <tr style=\"text-align: right;\">\n",
       "      <th></th>\n",
       "      <th>longitude</th>\n",
       "      <th>latitude</th>\n",
       "      <th>housing_median_age</th>\n",
       "      <th>total_rooms</th>\n",
       "      <th>total_bedrooms</th>\n",
       "      <th>population</th>\n",
       "      <th>households</th>\n",
       "      <th>median_income</th>\n",
       "      <th>ocean_proximity</th>\n",
       "      <th>rooms_per_household</th>\n",
       "      <th>population_per_household</th>\n",
       "    </tr>\n",
       "  </thead>\n",
       "  <tbody>\n",
       "    <tr>\n",
       "      <th>0</th>\n",
       "      <td>-118.15</td>\n",
       "      <td>34.12</td>\n",
       "      <td>52</td>\n",
       "      <td>1518</td>\n",
       "      <td>344</td>\n",
       "      <td>725</td>\n",
       "      <td>296</td>\n",
       "      <td>3.4018</td>\n",
       "      <td>&lt;1H OCEAN</td>\n",
       "      <td>5.12838</td>\n",
       "      <td>2.44932</td>\n",
       "    </tr>\n",
       "    <tr>\n",
       "      <th>1</th>\n",
       "      <td>-117.88</td>\n",
       "      <td>34.12</td>\n",
       "      <td>34</td>\n",
       "      <td>912</td>\n",
       "      <td>165</td>\n",
       "      <td>522</td>\n",
       "      <td>150</td>\n",
       "      <td>4.0417</td>\n",
       "      <td>&lt;1H OCEAN</td>\n",
       "      <td>6.08</td>\n",
       "      <td>3.48</td>\n",
       "    </tr>\n",
       "    <tr>\n",
       "      <th>2</th>\n",
       "      <td>-121.09</td>\n",
       "      <td>37.33</td>\n",
       "      <td>40</td>\n",
       "      <td>524</td>\n",
       "      <td>112</td>\n",
       "      <td>329</td>\n",
       "      <td>96</td>\n",
       "      <td>1.7188</td>\n",
       "      <td>INLAND</td>\n",
       "      <td>5.45833</td>\n",
       "      <td>3.42708</td>\n",
       "    </tr>\n",
       "    <tr>\n",
       "      <th>3</th>\n",
       "      <td>-118.24</td>\n",
       "      <td>33.99</td>\n",
       "      <td>41</td>\n",
       "      <td>1425</td>\n",
       "      <td>372</td>\n",
       "      <td>1803</td>\n",
       "      <td>353</td>\n",
       "      <td>1.6731</td>\n",
       "      <td>&lt;1H OCEAN</td>\n",
       "      <td>4.03683</td>\n",
       "      <td>5.10765</td>\n",
       "    </tr>\n",
       "    <tr>\n",
       "      <th>4</th>\n",
       "      <td>-122.4</td>\n",
       "      <td>37.72</td>\n",
       "      <td>37</td>\n",
       "      <td>971</td>\n",
       "      <td>248</td>\n",
       "      <td>647</td>\n",
       "      <td>208</td>\n",
       "      <td>2.1187</td>\n",
       "      <td>NEAR BAY</td>\n",
       "      <td>4.66827</td>\n",
       "      <td>3.11058</td>\n",
       "    </tr>\n",
       "  </tbody>\n",
       "</table>\n",
       "</div>"
      ],
      "text/plain": [
       "  longitude latitude housing_median_age total_rooms total_bedrooms population  \\\n",
       "0   -118.15    34.12                 52        1518            344        725   \n",
       "1   -117.88    34.12                 34         912            165        522   \n",
       "2   -121.09    37.33                 40         524            112        329   \n",
       "3   -118.24    33.99                 41        1425            372       1803   \n",
       "4    -122.4    37.72                 37         971            248        647   \n",
       "\n",
       "  households median_income ocean_proximity rooms_per_household  \\\n",
       "0        296        3.4018       <1H OCEAN             5.12838   \n",
       "1        150        4.0417       <1H OCEAN                6.08   \n",
       "2         96        1.7188          INLAND             5.45833   \n",
       "3        353        1.6731       <1H OCEAN             4.03683   \n",
       "4        208        2.1187        NEAR BAY             4.66827   \n",
       "\n",
       "  population_per_household  \n",
       "0                  2.44932  \n",
       "1                     3.48  \n",
       "2                  3.42708  \n",
       "3                  5.10765  \n",
       "4                  3.11058  "
      ]
     },
     "execution_count": 38,
     "metadata": {},
     "output_type": "execute_result"
    }
   ],
   "source": [
    "housing_extra_attribs = pd.DataFrame(\n",
    "    housing_extra_attribs,\n",
    "    columns=list(housing.columns)+[\"rooms_per_household\", \"population_per_household\"])\n",
    "housing_extra_attribs.head()"
   ]
  },
  {
   "cell_type": "markdown",
   "metadata": {},
   "source": [
    "Above is the dataset with the new columns for rooms per household and population per household. "
   ]
  },
  {
   "cell_type": "markdown",
   "metadata": {},
   "source": [
    "### Feature scaling"
   ]
  },
  {
   "cell_type": "markdown",
   "metadata": {},
   "source": [
    "Machine Learning algorithms don't perform well when the input numerical attributes have very different scales. There are two ways to get all the attributes to have the same scale, min-max scaling (normalization) and standardization. "
   ]
  },
  {
   "cell_type": "markdown",
   "metadata": {},
   "source": [
    "Standardization transforms data to have a mean of zero and a standard deviation of 1. For this model standardization will be used. Since there are many transformation steps to be executed it can be handy to use Scikit-Learn's Pipeline class to help with the sequences of transformations. The following code will perform the previous described transformations of: \n",
    "- replacing missing values with the median value, \n",
    "- combining attributes to make new attributes,\n",
    "- standardization. "
   ]
  },
  {
   "cell_type": "code",
   "execution_count": 39,
   "metadata": {},
   "outputs": [],
   "source": [
    "from sklearn.pipeline import Pipeline\n",
    "from sklearn.preprocessing import StandardScaler\n",
    "\n",
    "num_pipeline = Pipeline([\n",
    "    ('imputer', SimpleImputer(strategy=\"median\")),\n",
    "    ('attribs_adder', CombinedAttributesAdder()),\n",
    "    ('std_scaler', StandardScaler()),\n",
    "])\n",
    "\n",
    "housing_num_tr = num_pipeline.fit_transform(housing_num)"
   ]
  },
  {
   "cell_type": "markdown",
   "metadata": {},
   "source": [
    "The transformation of the ocean proximity text values into binary attributes is handled by Scikit-Learn's ColumnTransformer.  The appropriate transformations are applied to the data in sequence."
   ]
  },
  {
   "cell_type": "code",
   "execution_count": 40,
   "metadata": {},
   "outputs": [],
   "source": [
    "from sklearn.compose import ColumnTransformer\n",
    "\n",
    "num_attribs = list(housing_num)\n",
    "cat_attribs = [\"ocean_proximity\"]\n",
    "\n",
    "full_pipeline = ColumnTransformer([\n",
    "    (\"num\", num_pipeline, num_attribs),\n",
    "    (\"cat\", OneHotEncoder(), cat_attribs),\n",
    "])"
   ]
  },
  {
   "cell_type": "code",
   "execution_count": 41,
   "metadata": {},
   "outputs": [],
   "source": [
    "housing_prepared = full_pipeline.fit_transform(housing)"
   ]
  },
  {
   "cell_type": "code",
   "execution_count": 42,
   "metadata": {},
   "outputs": [
    {
     "data": {
      "text/html": [
       "<div>\n",
       "<style scoped>\n",
       "    .dataframe tbody tr th:only-of-type {\n",
       "        vertical-align: middle;\n",
       "    }\n",
       "\n",
       "    .dataframe tbody tr th {\n",
       "        vertical-align: top;\n",
       "    }\n",
       "\n",
       "    .dataframe thead th {\n",
       "        text-align: right;\n",
       "    }\n",
       "</style>\n",
       "<table border=\"1\" class=\"dataframe\">\n",
       "  <thead>\n",
       "    <tr style=\"text-align: right;\">\n",
       "      <th></th>\n",
       "      <th>longitude</th>\n",
       "      <th>latitude</th>\n",
       "      <th>housing_median_age</th>\n",
       "      <th>total_rooms</th>\n",
       "      <th>total_bedrooms</th>\n",
       "      <th>population</th>\n",
       "      <th>households</th>\n",
       "      <th>median_income</th>\n",
       "      <th>rooms_per_household</th>\n",
       "      <th>population_per_household</th>\n",
       "      <th>bedrooms_per_room</th>\n",
       "      <th>bin0</th>\n",
       "      <th>bin1</th>\n",
       "      <th>bin2</th>\n",
       "      <th>bin3</th>\n",
       "      <th>bin4</th>\n",
       "    </tr>\n",
       "  </thead>\n",
       "  <tbody>\n",
       "    <tr>\n",
       "      <th>0</th>\n",
       "      <td>0.707978</td>\n",
       "      <td>-0.703639</td>\n",
       "      <td>1.857386</td>\n",
       "      <td>-0.510659</td>\n",
       "      <td>-0.460042</td>\n",
       "      <td>-0.621227</td>\n",
       "      <td>-0.533127</td>\n",
       "      <td>-0.247245</td>\n",
       "      <td>-0.139493</td>\n",
       "      <td>-0.053438</td>\n",
       "      <td>0.193052</td>\n",
       "      <td>1.0</td>\n",
       "      <td>0.0</td>\n",
       "      <td>0.0</td>\n",
       "      <td>0.0</td>\n",
       "      <td>0.0</td>\n",
       "    </tr>\n",
       "    <tr>\n",
       "      <th>1</th>\n",
       "      <td>0.843185</td>\n",
       "      <td>-0.703639</td>\n",
       "      <td>0.422241</td>\n",
       "      <td>-0.787398</td>\n",
       "      <td>-0.886967</td>\n",
       "      <td>-0.800501</td>\n",
       "      <td>-0.914085</td>\n",
       "      <td>0.087831</td>\n",
       "      <td>0.361095</td>\n",
       "      <td>0.031175</td>\n",
       "      <td>-0.500171</td>\n",
       "      <td>1.0</td>\n",
       "      <td>0.0</td>\n",
       "      <td>0.0</td>\n",
       "      <td>0.0</td>\n",
       "      <td>0.0</td>\n",
       "    </tr>\n",
       "    <tr>\n",
       "      <th>2</th>\n",
       "      <td>-0.764279</td>\n",
       "      <td>0.802627</td>\n",
       "      <td>0.900622</td>\n",
       "      <td>-0.964584</td>\n",
       "      <td>-1.013375</td>\n",
       "      <td>-0.970944</td>\n",
       "      <td>-1.054988</td>\n",
       "      <td>-1.128529</td>\n",
       "      <td>0.034075</td>\n",
       "      <td>0.026831</td>\n",
       "      <td>-0.002257</td>\n",
       "      <td>0.0</td>\n",
       "      <td>1.0</td>\n",
       "      <td>0.0</td>\n",
       "      <td>0.0</td>\n",
       "      <td>0.0</td>\n",
       "    </tr>\n",
       "    <tr>\n",
       "      <th>3</th>\n",
       "      <td>0.662909</td>\n",
       "      <td>-0.764640</td>\n",
       "      <td>0.980353</td>\n",
       "      <td>-0.553128</td>\n",
       "      <td>-0.393260</td>\n",
       "      <td>0.330778</td>\n",
       "      <td>-0.384396</td>\n",
       "      <td>-1.152459</td>\n",
       "      <td>-0.713689</td>\n",
       "      <td>0.164798</td>\n",
       "      <td>0.715533</td>\n",
       "      <td>1.0</td>\n",
       "      <td>0.0</td>\n",
       "      <td>0.0</td>\n",
       "      <td>0.0</td>\n",
       "      <td>0.0</td>\n",
       "    </tr>\n",
       "    <tr>\n",
       "      <th>4</th>\n",
       "      <td>-1.420285</td>\n",
       "      <td>0.985631</td>\n",
       "      <td>0.661431</td>\n",
       "      <td>-0.760455</td>\n",
       "      <td>-0.689007</td>\n",
       "      <td>-0.690111</td>\n",
       "      <td>-0.762746</td>\n",
       "      <td>-0.919126</td>\n",
       "      <td>-0.381528</td>\n",
       "      <td>0.000848</td>\n",
       "      <td>0.629878</td>\n",
       "      <td>0.0</td>\n",
       "      <td>0.0</td>\n",
       "      <td>0.0</td>\n",
       "      <td>1.0</td>\n",
       "      <td>0.0</td>\n",
       "    </tr>\n",
       "    <tr>\n",
       "      <th>5</th>\n",
       "      <td>1.283861</td>\n",
       "      <td>-0.342323</td>\n",
       "      <td>0.023589</td>\n",
       "      <td>0.000350</td>\n",
       "      <td>-0.059352</td>\n",
       "      <td>-0.212342</td>\n",
       "      <td>-0.141731</td>\n",
       "      <td>-0.462880</td>\n",
       "      <td>0.273013</td>\n",
       "      <td>-0.035841</td>\n",
       "      <td>-0.299318</td>\n",
       "      <td>0.0</td>\n",
       "      <td>1.0</td>\n",
       "      <td>0.0</td>\n",
       "      <td>0.0</td>\n",
       "      <td>0.0</td>\n",
       "    </tr>\n",
       "    <tr>\n",
       "      <th>6</th>\n",
       "      <td>0.637870</td>\n",
       "      <td>-0.727101</td>\n",
       "      <td>-0.375063</td>\n",
       "      <td>0.632376</td>\n",
       "      <td>2.790793</td>\n",
       "      <td>2.029906</td>\n",
       "      <td>2.684147</td>\n",
       "      <td>-1.119260</td>\n",
       "      <td>-1.453825</td>\n",
       "      <td>-0.054405</td>\n",
       "      <td>3.195572</td>\n",
       "      <td>1.0</td>\n",
       "      <td>0.0</td>\n",
       "      <td>0.0</td>\n",
       "      <td>0.0</td>\n",
       "      <td>0.0</td>\n",
       "    </tr>\n",
       "    <tr>\n",
       "      <th>7</th>\n",
       "      <td>-1.104801</td>\n",
       "      <td>0.614930</td>\n",
       "      <td>-0.693984</td>\n",
       "      <td>-0.022483</td>\n",
       "      <td>0.024125</td>\n",
       "      <td>0.093219</td>\n",
       "      <td>0.103544</td>\n",
       "      <td>-0.752190</td>\n",
       "      <td>-0.317103</td>\n",
       "      <td>-0.021305</td>\n",
       "      <td>-0.037130</td>\n",
       "      <td>1.0</td>\n",
       "      <td>0.0</td>\n",
       "      <td>0.0</td>\n",
       "      <td>0.0</td>\n",
       "      <td>0.0</td>\n",
       "    </tr>\n",
       "    <tr>\n",
       "      <th>8</th>\n",
       "      <td>0.597809</td>\n",
       "      <td>-0.802180</td>\n",
       "      <td>0.980353</td>\n",
       "      <td>-0.350369</td>\n",
       "      <td>-0.262082</td>\n",
       "      <td>-0.083406</td>\n",
       "      <td>-0.170433</td>\n",
       "      <td>0.032220</td>\n",
       "      <td>-0.577065</td>\n",
       "      <td>-0.002757</td>\n",
       "      <td>0.221125</td>\n",
       "      <td>1.0</td>\n",
       "      <td>0.0</td>\n",
       "      <td>0.0</td>\n",
       "      <td>0.0</td>\n",
       "      <td>0.0</td>\n",
       "    </tr>\n",
       "    <tr>\n",
       "      <th>9</th>\n",
       "      <td>-1.650638</td>\n",
       "      <td>2.318278</td>\n",
       "      <td>-1.331827</td>\n",
       "      <td>-0.587378</td>\n",
       "      <td>-0.564984</td>\n",
       "      <td>-0.887930</td>\n",
       "      <td>-0.856681</td>\n",
       "      <td>-1.117794</td>\n",
       "      <td>1.291568</td>\n",
       "      <td>-0.052619</td>\n",
       "      <td>0.126423</td>\n",
       "      <td>0.0</td>\n",
       "      <td>1.0</td>\n",
       "      <td>0.0</td>\n",
       "      <td>0.0</td>\n",
       "      <td>0.0</td>\n",
       "    </tr>\n",
       "  </tbody>\n",
       "</table>\n",
       "</div>"
      ],
      "text/plain": [
       "   longitude  latitude  housing_median_age  total_rooms  total_bedrooms  \\\n",
       "0   0.707978 -0.703639            1.857386    -0.510659       -0.460042   \n",
       "1   0.843185 -0.703639            0.422241    -0.787398       -0.886967   \n",
       "2  -0.764279  0.802627            0.900622    -0.964584       -1.013375   \n",
       "3   0.662909 -0.764640            0.980353    -0.553128       -0.393260   \n",
       "4  -1.420285  0.985631            0.661431    -0.760455       -0.689007   \n",
       "5   1.283861 -0.342323            0.023589     0.000350       -0.059352   \n",
       "6   0.637870 -0.727101           -0.375063     0.632376        2.790793   \n",
       "7  -1.104801  0.614930           -0.693984    -0.022483        0.024125   \n",
       "8   0.597809 -0.802180            0.980353    -0.350369       -0.262082   \n",
       "9  -1.650638  2.318278           -1.331827    -0.587378       -0.564984   \n",
       "\n",
       "   population  households  median_income  rooms_per_household  \\\n",
       "0   -0.621227   -0.533127      -0.247245            -0.139493   \n",
       "1   -0.800501   -0.914085       0.087831             0.361095   \n",
       "2   -0.970944   -1.054988      -1.128529             0.034075   \n",
       "3    0.330778   -0.384396      -1.152459            -0.713689   \n",
       "4   -0.690111   -0.762746      -0.919126            -0.381528   \n",
       "5   -0.212342   -0.141731      -0.462880             0.273013   \n",
       "6    2.029906    2.684147      -1.119260            -1.453825   \n",
       "7    0.093219    0.103544      -0.752190            -0.317103   \n",
       "8   -0.083406   -0.170433       0.032220            -0.577065   \n",
       "9   -0.887930   -0.856681      -1.117794             1.291568   \n",
       "\n",
       "   population_per_household  bedrooms_per_room  bin0  bin1  bin2  bin3  bin4  \n",
       "0                 -0.053438           0.193052   1.0   0.0   0.0   0.0   0.0  \n",
       "1                  0.031175          -0.500171   1.0   0.0   0.0   0.0   0.0  \n",
       "2                  0.026831          -0.002257   0.0   1.0   0.0   0.0   0.0  \n",
       "3                  0.164798           0.715533   1.0   0.0   0.0   0.0   0.0  \n",
       "4                  0.000848           0.629878   0.0   0.0   0.0   1.0   0.0  \n",
       "5                 -0.035841          -0.299318   0.0   1.0   0.0   0.0   0.0  \n",
       "6                 -0.054405           3.195572   1.0   0.0   0.0   0.0   0.0  \n",
       "7                 -0.021305          -0.037130   1.0   0.0   0.0   0.0   0.0  \n",
       "8                 -0.002757           0.221125   1.0   0.0   0.0   0.0   0.0  \n",
       "9                 -0.052619           0.126423   0.0   1.0   0.0   0.0   0.0  "
      ]
     },
     "execution_count": 42,
     "metadata": {},
     "output_type": "execute_result"
    }
   ],
   "source": [
    "housing_prepared_df = pd.DataFrame(\n",
    "    housing_prepared, \n",
    "    columns=list(housing_num.columns)+[\"rooms_per_household\", \"population_per_household\", \"bedrooms_per_room\",  \"bin0\", \"bin1\", \"bin2\", \"bin3\", \"bin4\"])\n",
    "housing_prepared_df.head(10)"
   ]
  },
  {
   "cell_type": "markdown",
   "metadata": {},
   "source": [
    "Above a preview of the dataset is shown, after it has been through the transformation pipeline. "
   ]
  },
  {
   "cell_type": "markdown",
   "metadata": {},
   "source": [
    "# 5. Explore many different models and short-list the best ones"
   ]
  },
  {
   "cell_type": "markdown",
   "metadata": {},
   "source": [
    "### Training and evaluating on the training set"
   ]
  },
  {
   "cell_type": "markdown",
   "metadata": {},
   "source": [
    "#### Linear regression"
   ]
  },
  {
   "cell_type": "markdown",
   "metadata": {},
   "source": [
    "The following code trains a linear regression model on the prepared training set."
   ]
  },
  {
   "cell_type": "code",
   "execution_count": 43,
   "metadata": {},
   "outputs": [
    {
     "data": {
      "text/plain": [
       "LinearRegression()"
      ]
     },
     "execution_count": 43,
     "metadata": {},
     "output_type": "execute_result"
    }
   ],
   "source": [
    "from sklearn.linear_model import LinearRegression\n",
    "lin_reg = LinearRegression()\n",
    "lin_reg.fit(housing_prepared, housing_labels)"
   ]
  },
  {
   "cell_type": "markdown",
   "metadata": {},
   "source": [
    "The model can be tested with some instances from the training set."
   ]
  },
  {
   "cell_type": "code",
   "execution_count": 44,
   "metadata": {},
   "outputs": [
    {
     "name": "stdout",
     "output_type": "stream",
     "text": [
      "The predicted values:\t [229160.3070257  212665.75854606  98082.80265673 122004.73357883\n",
      " 176186.91927408]\n",
      "The actual values:\t [204500.0, 178000.0, 112500.0, 88200.0, 239300.0]\n"
     ]
    }
   ],
   "source": [
    "some_data = housing.iloc[:5]\n",
    "some_labels = housing_labels.iloc[:5]\n",
    "some_data_prepared = full_pipeline.transform(some_data)\n",
    "print(\"The predicted values:\\t\", lin_reg.predict(some_data_prepared))\n",
    "print(\"The actual values:\\t\", list(some_labels))"
   ]
  },
  {
   "cell_type": "markdown",
   "metadata": {},
   "source": [
    "Observe that the predictions are not very accurate. Measuring RMSE on the training set shows a typical prediction error of around 69,000 $:"
   ]
  },
  {
   "cell_type": "code",
   "execution_count": 45,
   "metadata": {},
   "outputs": [
    {
     "data": {
      "text/plain": [
       "69189.070349375"
      ]
     },
     "execution_count": 45,
     "metadata": {},
     "output_type": "execute_result"
    }
   ],
   "source": [
    "from sklearn.metrics import mean_squared_error\n",
    "housing_predictions = lin_reg.predict(housing_prepared)\n",
    "lin_mse = mean_squared_error(housing_labels, housing_predictions)\n",
    "lin_rmse = np.sqrt(lin_mse)\n",
    "lin_rmse"
   ]
  },
  {
   "cell_type": "markdown",
   "metadata": {},
   "source": [
    "This is an example of model underfitting and it is probably because the features do not provide enough information to make good predictions. Another possibility is that the model is not poweful enough. There are three options to deal with underfitting:"
   ]
  },
  {
   "cell_type": "markdown",
   "metadata": {},
   "source": [
    "- select a more powerful model\n",
    "- feed the training algorithm better features\n",
    "- reduce the constraints on the model"
   ]
  },
  {
   "cell_type": "markdown",
   "metadata": {},
   "source": [
    "In this situation a more powerful model is probably a good way to try to improve the predictions."
   ]
  },
  {
   "cell_type": "markdown",
   "metadata": {},
   "source": [
    "#### Decision tree regressor"
   ]
  },
  {
   "cell_type": "markdown",
   "metadata": {},
   "source": [
    "Decision trees are versatile algorithms that can perform both classification and regression tasks. They are capapable of fitting complex datasets. "
   ]
  },
  {
   "cell_type": "code",
   "execution_count": 46,
   "metadata": {},
   "outputs": [
    {
     "data": {
      "text/plain": [
       "DecisionTreeRegressor()"
      ]
     },
     "execution_count": 46,
     "metadata": {},
     "output_type": "execute_result"
    }
   ],
   "source": [
    "from sklearn.tree import DecisionTreeRegressor\n",
    "\n",
    "tree_reg = DecisionTreeRegressor()\n",
    "tree_reg.fit(housing_prepared, housing_labels)"
   ]
  },
  {
   "cell_type": "code",
   "execution_count": 47,
   "metadata": {},
   "outputs": [
    {
     "data": {
      "text/plain": [
       "0.0"
      ]
     },
     "execution_count": 47,
     "metadata": {},
     "output_type": "execute_result"
    }
   ],
   "source": [
    "housing_predictions = tree_reg.predict(housing_prepared)\n",
    "tree_mse = mean_squared_error(housing_labels, housing_predictions)\n",
    "tree_rmse = np.sqrt(tree_mse)\n",
    "tree_rmse"
   ]
  },
  {
   "cell_type": "markdown",
   "metadata": {},
   "source": [
    "It is not very likely that the error is zero, that would mean that the perfect model has been created. A disadvantage of decision tree regressors are that overcomplex trees can be created, these trees do not generalize the data well. This is called overfitting and that is most likely what is happening here. To find out how the model performs a validation dataset can be used. This is a sample of data held back from training your model. It is used to give an estimate of the model performance and decide a model among different models. "
   ]
  },
  {
   "cell_type": "markdown",
   "metadata": {},
   "source": [
    "### Cross-validation"
   ]
  },
  {
   "cell_type": "markdown",
   "metadata": {},
   "source": [
    "There are different ways to create and use a validation set. The hold-out method is the simplest kind of validation. The data set is separated into two sets, a training set and the validating set. The model can then be tested on the validation set. "
   ]
  },
  {
   "cell_type": "markdown",
   "metadata": {},
   "source": [
    "Cross-validation, or k-fold cross-validation, is when the dataset is randomly split up into k groups. One of the groups is used as the validating set and the rest are used as the training set. The model is trained on the training set and scored on the validating set. Then the process is repeated until each unique group as been used as the validating set."
   ]
  },
  {
   "cell_type": "markdown",
   "metadata": {},
   "source": [
    "When the results are satisfactory, the model can finally be tested with the test set that was set aside in the beginning of the project."
   ]
  },
  {
   "cell_type": "markdown",
   "metadata": {},
   "source": [
    "Cross-validation is usually the preferred method because it gives the model the opportunity to train on multiple train-validation splits. This gives you a better indication of how well your model will perform on unseen data. "
   ]
  },
  {
   "cell_type": "code",
   "execution_count": 48,
   "metadata": {},
   "outputs": [],
   "source": [
    "from sklearn.model_selection import cross_val_score\n",
    "scores = cross_val_score(tree_reg, housing_prepared, housing_labels, scoring=\"neg_mean_squared_error\", cv=10)\n",
    "tree_rmse_scores = np.sqrt(-scores)"
   ]
  },
  {
   "cell_type": "code",
   "execution_count": 49,
   "metadata": {},
   "outputs": [],
   "source": [
    "def display_scores(scores):\n",
    "    print(\"Scores: \", scores)\n",
    "    print(\"Mean: \", scores.mean())\n",
    "    print(\"Standard deviation: \", scores.std())"
   ]
  },
  {
   "cell_type": "code",
   "execution_count": 50,
   "metadata": {},
   "outputs": [
    {
     "name": "stdout",
     "output_type": "stream",
     "text": [
      "Scores:  [68572.36554746 71661.74374639 74128.676248   69835.3625787\n",
      " 71358.29304158 71310.92640912 77698.59591599 72824.9923486\n",
      " 69572.56928903 74556.79298794]\n",
      "Mean:  72152.03181127983\n",
      "Standard deviation:  2594.6041030232172\n"
     ]
    }
   ],
   "source": [
    "display_scores(tree_rmse_scores)"
   ]
  },
  {
   "cell_type": "markdown",
   "metadata": {},
   "source": [
    "The results are not as good as hoped for, the score is appoximately 71,500, generally +/- 2,900. The standard deviation shows how precise the estimate of the performance is. To compare the decision tree model, cross-validation is performed for the linear model as well:"
   ]
  },
  {
   "cell_type": "code",
   "execution_count": 51,
   "metadata": {},
   "outputs": [
    {
     "name": "stdout",
     "output_type": "stream",
     "text": [
      "Scores:  [67425.31111647 70545.68245901 65275.34487036 72985.99852065\n",
      " 66010.80255207 70540.06026376 73335.57983319 70614.41958818\n",
      " 71803.70040712 67678.50408007]\n",
      "Mean:  69621.54036908635\n",
      "Standard deviation:  2703.417700170707\n"
     ]
    }
   ],
   "source": [
    "lin_scores = cross_val_score(lin_reg, housing_prepared, housing_labels, scoring=\"neg_mean_squared_error\", cv=10)\n",
    "lin_rmse_scores = np.sqrt(-lin_scores)\n",
    "display_scores(lin_rmse_scores)"
   ]
  },
  {
   "cell_type": "markdown",
   "metadata": {},
   "source": [
    "The linear model actually performs a little better, showing how bad the overfitting of the decision tree model is. Let's try some more models."
   ]
  },
  {
   "cell_type": "markdown",
   "metadata": {},
   "source": [
    "#### Random forest regressor"
   ]
  },
  {
   "cell_type": "code",
   "execution_count": 52,
   "metadata": {},
   "outputs": [
    {
     "name": "stdout",
     "output_type": "stream",
     "text": [
      "Scores:  [50603.5877079  52365.77917907 49888.50951315 48998.39691431\n",
      " 48883.99985807 53785.17349218 56163.66774743 50746.9187311\n",
      " 50823.99565568 49241.6227504 ]\n",
      "Mean:  51150.16515492922\n",
      "Standard deviation:  2216.3902306814753\n"
     ]
    }
   ],
   "source": [
    "from sklearn.ensemble import RandomForestRegressor\n",
    "\n",
    "forest_reg = RandomForestRegressor()\n",
    "forest_reg.fit(housing_prepared, housing_labels)\n",
    "\n",
    "forest_scores = cross_val_score(forest_reg, housing_prepared, housing_labels,scoring=\"neg_mean_squared_error\", cv=10)\n",
    "forest_rmse_scores = np.sqrt(-forest_scores)\n",
    "display_scores(forest_rmse_scores)"
   ]
  },
  {
   "cell_type": "markdown",
   "metadata": {},
   "source": [
    "The cross validation of the random forests model looks better than the previous two models, although the model is still overfitting the training set. "
   ]
  },
  {
   "cell_type": "markdown",
   "metadata": {},
   "source": [
    "# Fine-tune the models and combine them into a great solution"
   ]
  },
  {
   "cell_type": "markdown",
   "metadata": {},
   "source": [
    "### Grid search"
   ]
  },
  {
   "cell_type": "markdown",
   "metadata": {},
   "source": [
    "Instead of manually changing the hyperparameters until finding a great combination, one option is to perform a grid search. This method uses cross-validation to evaluate possible combinations of selected hyperparameters values. "
   ]
  },
  {
   "cell_type": "code",
   "execution_count": 69,
   "metadata": {},
   "outputs": [
    {
     "data": {
      "text/plain": [
       "GridSearchCV(cv=5, estimator=RandomForestRegressor(random_state=42),\n",
       "             param_grid=[{'max_features': [2, 4, 5, 6],\n",
       "                          'n_estimators': [3, 10, 40]},\n",
       "                         {'bootstrap': [False], 'max_features': [2, 3, 4],\n",
       "                          'n_estimators': [3, 10]}],\n",
       "             return_train_score=True, scoring='neg_mean_squared_error')"
      ]
     },
     "execution_count": 69,
     "metadata": {},
     "output_type": "execute_result"
    }
   ],
   "source": [
    "from sklearn.model_selection import GridSearchCV\n",
    "\n",
    "param_grid = [{'n_estimators': [3, 10, 40], 'max_features' : [2, 4, 5, 6]},\n",
    "    {'bootstrap':[False], 'n_estimators': [3, 10], 'max_features': [2, 3, 4]}]\n",
    "\n",
    "forest_reg = RandomForestRegressor(random_state=42)\n",
    "grid_search = GridSearchCV(forest_reg, param_grid, cv = 5, scoring = 'neg_mean_squared_error', return_train_score=True)\n",
    "grid_search.fit(housing_prepared, housing_labels)"
   ]
  },
  {
   "cell_type": "markdown",
   "metadata": {},
   "source": [
    "The best combination of parameters turns out to be 5 and 40:"
   ]
  },
  {
   "cell_type": "code",
   "execution_count": 70,
   "metadata": {},
   "outputs": [
    {
     "data": {
      "text/plain": [
       "{'max_features': 5, 'n_estimators': 40}"
      ]
     },
     "execution_count": 70,
     "metadata": {},
     "output_type": "execute_result"
    }
   ],
   "source": [
    "grid_search.best_params_"
   ]
  },
  {
   "cell_type": "markdown",
   "metadata": {},
   "source": [
    "Checking out the evaluation scores confirms this. Setting the max_features to 5 and the n_estimators to 40 gives a RMSE score of 50,881 which is slightly better than the RMSE score from the random forest model of 51,143. "
   ]
  },
  {
   "cell_type": "code",
   "execution_count": 71,
   "metadata": {},
   "outputs": [
    {
     "name": "stdout",
     "output_type": "stream",
     "text": [
      "64456.53755736674 {'max_features': 2, 'n_estimators': 3}\n",
      "56212.549607526664 {'max_features': 2, 'n_estimators': 10}\n",
      "53180.8373629973 {'max_features': 2, 'n_estimators': 40}\n",
      "60758.91138440394 {'max_features': 4, 'n_estimators': 3}\n",
      "53948.65181002317 {'max_features': 4, 'n_estimators': 10}\n",
      "51215.778984467026 {'max_features': 4, 'n_estimators': 40}\n",
      "61472.92366460231 {'max_features': 5, 'n_estimators': 3}\n",
      "54360.86836420878 {'max_features': 5, 'n_estimators': 10}\n",
      "50881.27680634082 {'max_features': 5, 'n_estimators': 40}\n",
      "59589.10501235491 {'max_features': 6, 'n_estimators': 3}\n",
      "52968.40337999665 {'max_features': 6, 'n_estimators': 10}\n",
      "51029.00878068642 {'max_features': 6, 'n_estimators': 40}\n",
      "63129.31651768439 {'bootstrap': False, 'max_features': 2, 'n_estimators': 3}\n",
      "54783.01842237063 {'bootstrap': False, 'max_features': 2, 'n_estimators': 10}\n",
      "60728.179712757665 {'bootstrap': False, 'max_features': 3, 'n_estimators': 3}\n",
      "53862.955974355915 {'bootstrap': False, 'max_features': 3, 'n_estimators': 10}\n",
      "58814.99600864229 {'bootstrap': False, 'max_features': 4, 'n_estimators': 3}\n",
      "52194.20034048196 {'bootstrap': False, 'max_features': 4, 'n_estimators': 10}\n"
     ]
    }
   ],
   "source": [
    "cvres = grid_search.cv_results_\n",
    "for mean_score, params in zip(cvres[\"mean_test_score\"], cvres[\"params\"]):\n",
    "    print(np.sqrt(-mean_score), params)"
   ]
  },
  {
   "cell_type": "markdown",
   "metadata": {},
   "source": [
    "#### Randomized search"
   ]
  },
  {
   "cell_type": "markdown",
   "metadata": {},
   "source": [
    "For comparison a randomized search was performed. The result here is to set the n_estimator to 44 and the max_features to 5. This gives a RMSE score of 50,838. This is close to the RMSE score from the grid search."
   ]
  },
  {
   "cell_type": "code",
   "execution_count": 75,
   "metadata": {},
   "outputs": [],
   "source": [
    "from sklearn.model_selection import RandomizedSearchCV\n",
    "\n",
    "param_ran = {'n_estimators': list(range(1,100)), 'max_features': list(range(1, 10))}\n",
    "clf = RandomizedSearchCV(forest_reg, param_distributions=param_ran, random_state=42, cv=5, scoring='neg_mean_squared_error',)\n",
    "ran_search = clf.fit(housing_prepared, housing_labels)"
   ]
  },
  {
   "cell_type": "code",
   "execution_count": 76,
   "metadata": {},
   "outputs": [
    {
     "data": {
      "text/plain": [
       "{'n_estimators': 44, 'max_features': 5}"
      ]
     },
     "execution_count": 76,
     "metadata": {},
     "output_type": "execute_result"
    }
   ],
   "source": [
    "ran_search.best_params_"
   ]
  },
  {
   "cell_type": "code",
   "execution_count": 77,
   "metadata": {},
   "outputs": [
    {
     "name": "stdout",
     "output_type": "stream",
     "text": [
      "52017.167893397775 {'n_estimators': 17, 'max_features': 8}\n",
      "50838.436001487404 {'n_estimators': 44, 'max_features': 5}\n",
      "50914.80005973583 {'n_estimators': 49, 'max_features': 9}\n",
      "51302.36486680338 {'n_estimators': 28, 'max_features': 8}\n",
      "55765.640006782894 {'n_estimators': 40, 'max_features': 1}\n",
      "51145.99514955714 {'n_estimators': 93, 'max_features': 3}\n",
      "58142.07328453113 {'n_estimators': 4, 'max_features': 4}\n",
      "51253.620136439415 {'n_estimators': 37, 'max_features': 4}\n",
      "54501.9874254014 {'n_estimators': 11, 'max_features': 3}\n",
      "53242.60955243234 {'n_estimators': 38, 'max_features': 2}\n"
     ]
    }
   ],
   "source": [
    "ran_cvres = ran_search.cv_results_\n",
    "for mean_score, params in zip(ran_cvres[\"mean_test_score\"], ran_cvres[\"params\"]):\n",
    "    print(np.sqrt(-mean_score), params)"
   ]
  },
  {
   "cell_type": "markdown",
   "metadata": {},
   "source": [
    "#### Analyze the model and its errors"
   ]
  },
  {
   "cell_type": "markdown",
   "metadata": {},
   "source": [
    "Inspecting the model can indicate the relative importance of each attribute for making accurate predictions:"
   ]
  },
  {
   "cell_type": "code",
   "execution_count": 72,
   "metadata": {},
   "outputs": [
    {
     "data": {
      "text/plain": [
       "array([0.0748187 , 0.06848348, 0.04264568, 0.02088776, 0.01874604,\n",
       "       0.02048508, 0.01893562, 0.31740228, 0.06857602, 0.10724477,\n",
       "       0.0826846 , 0.01349175, 0.13607912, 0.00033752, 0.00284029,\n",
       "       0.0063413 ])"
      ]
     },
     "execution_count": 72,
     "metadata": {},
     "output_type": "execute_result"
    }
   ],
   "source": [
    "feature_importances = grid_search.best_estimator_.feature_importances_\n",
    "feature_importances"
   ]
  },
  {
   "cell_type": "code",
   "execution_count": 73,
   "metadata": {},
   "outputs": [
    {
     "data": {
      "text/plain": [
       "[(0.3174022833278303, 'median_income'),\n",
       " (0.1360791150720603, 'INLAND'),\n",
       " (0.10724477062590854, 'population_per_household'),\n",
       " (0.08268459689298549, 'bedrooms_per_room'),\n",
       " (0.0748186987750621, 'longitude'),\n",
       " (0.06857601975009081, 'rooms_per_household'),\n",
       " (0.06848347971797611, 'latitude'),\n",
       " (0.0426456764030867, 'housing_median_age'),\n",
       " (0.020887757632918308, 'total_rooms'),\n",
       " (0.020485080192261817, 'population'),\n",
       " (0.018935616719191563, 'households'),\n",
       " (0.01874603722599567, 'total_bedrooms'),\n",
       " (0.013491753464299119, '<1H OCEAN'),\n",
       " (0.006341295393227461, 'NEAR OCEAN'),\n",
       " (0.002840293932904009, 'NEAR BAY'),\n",
       " (0.0003375248742017836, 'ISLAND')]"
      ]
     },
     "execution_count": 73,
     "metadata": {},
     "output_type": "execute_result"
    }
   ],
   "source": [
    "extra_attribs = [\"rooms_per_household\", \"population_per_household\", \"bedrooms_per_room\"]\n",
    "cat_encoder = full_pipeline.named_transformers_[\"cat\"]\n",
    "cat_one_hot_attribs = list(cat_encoder.categories_[0])\n",
    "attributes = num_attribs + extra_attribs + cat_one_hot_attribs\n",
    "sorted(zip(feature_importances, attributes), reverse=True)"
   ]
  },
  {
   "cell_type": "markdown",
   "metadata": {},
   "source": [
    "With this kind of information one can consider to drop some of the less useful features from the model. Observe that only one of the ocean proximity categories are useful."
   ]
  },
  {
   "cell_type": "markdown",
   "metadata": {},
   "source": [
    "#### Evaluate the system on the test set"
   ]
  },
  {
   "cell_type": "code",
   "execution_count": 97,
   "metadata": {},
   "outputs": [
    {
     "data": {
      "text/plain": [
       "49735.3951890455"
      ]
     },
     "execution_count": 97,
     "metadata": {},
     "output_type": "execute_result"
    }
   ],
   "source": [
    "final_model = grid_search.best_estimator_\n",
    "\n",
    "X_test = strat_test_set.drop(\"median_house_value\", axis=1)\n",
    "y_test = strat_test_set[\"median_house_value\"].copy()\n",
    "\n",
    "X_test_prepared = full_pipeline.transform(X_test)\n",
    "final_prediction = final_model.predict(X_test_prepared)\n",
    "final_mse = mean_squared_error(y_test, final_prediction)\n",
    "final_rmse = np.sqrt(final_mse)\n",
    "final_rmse"
   ]
  },
  {
   "cell_type": "markdown",
   "metadata": {},
   "source": [
    "#### Computing a 95% Confidence interval"
   ]
  },
  {
   "cell_type": "code",
   "execution_count": 80,
   "metadata": {},
   "outputs": [
    {
     "data": {
      "text/plain": [
       "array([47067.56860106, 52160.025803  ])"
      ]
     },
     "execution_count": 80,
     "metadata": {},
     "output_type": "execute_result"
    }
   ],
   "source": [
    "from scipy import stats\n",
    "\n",
    "confidence  = 0.95\n",
    "squared_errors = (final_predictions - y_test) ** 2\n",
    "np.sqrt(stats.t.interval(confidence, len(squared_errors) - 1,\n",
    "                         loc=squared_errors.mean(),\n",
    "                         scale=stats.sem(squared_errors)))"
   ]
  },
  {
   "cell_type": "code",
   "execution_count": 81,
   "metadata": {},
   "outputs": [
    {
     "data": {
      "text/plain": [
       "0.8136039179920763"
      ]
     },
     "execution_count": 81,
     "metadata": {},
     "output_type": "execute_result"
    }
   ],
   "source": [
    "final_model.score(X_test_prepared, y_test)"
   ]
  },
  {
   "cell_type": "markdown",
   "metadata": {},
   "source": [
    "#### XGBoost"
   ]
  },
  {
   "cell_type": "markdown",
   "metadata": {},
   "source": [
    "In order to perform better in the Kaggle competition, we wanted to try out XGBoost. <br> __Describe XGBoost!__"
   ]
  },
  {
   "cell_type": "code",
   "execution_count": 57,
   "metadata": {},
   "outputs": [
    {
     "name": "stdout",
     "output_type": "stream",
     "text": [
      "Requirement already satisfied: xgboost in c:\\users\\synno\\anaconda3\\lib\\site-packages (1.2.0)\n",
      "Requirement already satisfied: scipy in c:\\users\\synno\\anaconda3\\lib\\site-packages (from xgboost) (1.5.0)\n",
      "Requirement already satisfied: numpy in c:\\users\\synno\\anaconda3\\lib\\site-packages (from xgboost) (1.18.5)\n"
     ]
    }
   ],
   "source": [
    "import sys\n",
    "!{sys.executable} -m pip install xgboost"
   ]
  },
  {
   "cell_type": "code",
   "execution_count": 58,
   "metadata": {},
   "outputs": [
    {
     "data": {
      "text/plain": [
       "XGBRegressor(base_score=0.5, booster='gbtree', colsample_bylevel=1,\n",
       "             colsample_bynode=1, colsample_bytree=1, gamma=0, gpu_id=-1,\n",
       "             importance_type='gain', interaction_constraints='',\n",
       "             learning_rate=0.300000012, max_delta_step=0, max_depth=6,\n",
       "             min_child_weight=1, missing=nan, monotone_constraints='()',\n",
       "             n_estimators=100, n_jobs=0, num_parallel_tree=1, random_state=0,\n",
       "             reg_alpha=0, reg_lambda=1, scale_pos_weight=1, subsample=1,\n",
       "             tree_method='exact', validate_parameters=1, verbosity=None)"
      ]
     },
     "execution_count": 58,
     "metadata": {},
     "output_type": "execute_result"
    }
   ],
   "source": [
    "import xgboost\n",
    "xgb_reg = xgboost.XGBRegressor()\n",
    "xgb_reg.fit(housing_prepared, housing_labels)"
   ]
  },
  {
   "cell_type": "code",
   "execution_count": 59,
   "metadata": {},
   "outputs": [
    {
     "name": "stdout",
     "output_type": "stream",
     "text": [
      "Scores:  [50500.19797218 47808.07553065 47270.14533036 45910.64031548\n",
      " 46451.11583465 50680.86062043 52459.3873726  48067.01876313\n",
      " 47177.74626856 44552.93998027]\n",
      "Mean:  48087.81279883117\n",
      "Standard deviation:  2305.294619166342\n"
     ]
    }
   ],
   "source": [
    "xgb_scores = cross_val_score(xgb_reg, housing_prepared, housing_labels,scoring=\"neg_mean_squared_error\", cv=10)\n",
    "xgb_rmse_scores = np.sqrt(-xgb_scores)\n",
    "display_scores(xgb_rmse_scores)"
   ]
  },
  {
   "cell_type": "markdown",
   "metadata": {},
   "source": [
    "This model performs better than our previous models. Let's use it on our test set!"
   ]
  },
  {
   "cell_type": "code",
   "execution_count": 60,
   "metadata": {},
   "outputs": [
    {
     "data": {
      "text/plain": [
       "47676.88791186405"
      ]
     },
     "execution_count": 60,
     "metadata": {},
     "output_type": "execute_result"
    }
   ],
   "source": [
    "final_model = xgb_reg\n",
    "\n",
    "X_test = strat_test_set.drop(\"median_house_value\", axis=1)\n",
    "y_test = strat_test_set[\"median_house_value\"].copy()\n",
    "\n",
    "X_test_prepared = full_pipeline.transform(X_test)\n",
    "final_prediction = final_model.predict(X_test_prepared)\n",
    "final_mse = mean_squared_error(y_test, final_prediction)\n",
    "final_rmse = np.sqrt(final_mse)\n",
    "final_rmse"
   ]
  },
  {
   "cell_type": "code",
   "execution_count": 61,
   "metadata": {},
   "outputs": [
    {
     "data": {
      "text/plain": [
       "0.8283257004845245"
      ]
     },
     "execution_count": 61,
     "metadata": {},
     "output_type": "execute_result"
    }
   ],
   "source": [
    "final_model.score(X_test_prepared, y_test)"
   ]
  },
  {
   "cell_type": "markdown",
   "metadata": {},
   "source": [
    "# Present the solution"
   ]
  },
  {
   "cell_type": "markdown",
   "metadata": {},
   "source": [
    "#### Evaluation and conclusion"
   ]
  },
  {
   "cell_type": "markdown",
   "metadata": {},
   "source": [
    "In this project the California Housing Prices dataset has been analyzed. The dataset had the following features per district in California:\n",
    "\n",
    "- location in terms of longitude and latitude\n",
    "- median age of housing\n",
    "- total rooms\n",
    "- total bedrooms\n",
    "- total population\n",
    "- total households\n",
    "- median income\n",
    "- median housing price\n",
    "- ocean proximity\n",
    "\n",
    "Which properties had the highest correlations was analyzed, and it was concluded that the number one predictor of housing prices was the median income. \n",
    "\n",
    "The following steps have been done: \n",
    "- exploring the data, \n",
    "- transforming data to better fit into the machine learning algorithms, \n",
    "- testing different models,\n",
    "- picking one model and fine-tuning it.\n",
    "\n",
    "The result was an accuracy of 81,3 %.\n",
    "\n",
    "The final performance is not better than the manual predictions of the experts. But the model will still free up a lot of time by automating the task of predicting housing prices.\n"
   ]
  },
  {
   "cell_type": "markdown",
   "metadata": {},
   "source": [
    "# Launch, monitor and maintain the system"
   ]
  },
  {
   "cell_type": "markdown",
   "metadata": {},
   "source": [
    "After creating the model the following work needs to be done:\n",
    "\n",
    "- Write monitoring code for checking performance.\n",
    "- Human evaluation.\n",
    "- Evaluate the input data quality.\n",
    "- Monitoring\n",
    "- collect fresh data\n",
    "- Train and fine-tune the model automatically\n",
    "- Evaluate the new versions of the model compared to the older ones\n",
    "- ...\n",
    "\n",
    "\n",
    "When the system is lauched its important to write monitoring code to check the system's live performance. Models tend's to \"rot\" over time if the models is not being trained on fresh data.\n",
    "\n",
    "Maybe the most important thing is to be sure that the system's input data quality is good. If the data quality decreases it may take some time before the monitoring systems pick this up for the system.\n",
    "\n",
    "It's important to train the models on regular basis, or else the system's performance will decrease drastically over time. If the system is an online learning system a good thing to do is taking snapshot. Such that if the performance decreases because of bad data, we can allways roll back to a previously state."
   ]
  },
  {
   "cell_type": "markdown",
   "metadata": {},
   "source": [
    "# Submission"
   ]
  },
  {
   "cell_type": "markdown",
   "metadata": {},
   "source": [
    "After you have trained your model and have found predictions on your test data, you must create a csv-file that contains 'Id' and your predictions in two coloums\n",
    "\n",
    "We have assumed that you have called your predicitons 'median_house_value' after you have trained your model\n",
    "\n",
    "This is just for demonstrational purposes, that is why all our predictions is zero. Yours will be filled with numbers\n"
   ]
  },
  {
   "cell_type": "code",
   "execution_count": 62,
   "metadata": {},
   "outputs": [],
   "source": [
    "median_house_value = [0 for i in test['Id']]"
   ]
  },
  {
   "cell_type": "code",
   "execution_count": 63,
   "metadata": {},
   "outputs": [
    {
     "name": "stderr",
     "output_type": "stream",
     "text": [
      "C:\\Users\\synno\\anaconda3\\lib\\site-packages\\sklearn\\compose\\_column_transformer.py:437: FutureWarning: Given feature/column names or counts do not match the ones for the data given during fit. This will fail from v0.24.\n",
      "  warnings.warn(\"Given feature/column names or counts do not match \"\n"
     ]
    }
   ],
   "source": [
    "test_prepared = full_pipeline.transform(test)"
   ]
  },
  {
   "cell_type": "code",
   "execution_count": 64,
   "metadata": {},
   "outputs": [],
   "source": [
    "predictions = final_model.predict(test_prepared)"
   ]
  },
  {
   "cell_type": "code",
   "execution_count": 65,
   "metadata": {},
   "outputs": [],
   "source": [
    "submission = pd.DataFrame({'Id': test['Id'], 'median_house_value': predictions})"
   ]
  },
  {
   "cell_type": "code",
   "execution_count": 66,
   "metadata": {},
   "outputs": [
    {
     "data": {
      "text/html": [
       "<div>\n",
       "<style scoped>\n",
       "    .dataframe tbody tr th:only-of-type {\n",
       "        vertical-align: middle;\n",
       "    }\n",
       "\n",
       "    .dataframe tbody tr th {\n",
       "        vertical-align: top;\n",
       "    }\n",
       "\n",
       "    .dataframe thead th {\n",
       "        text-align: right;\n",
       "    }\n",
       "</style>\n",
       "<table border=\"1\" class=\"dataframe\">\n",
       "  <thead>\n",
       "    <tr style=\"text-align: right;\">\n",
       "      <th></th>\n",
       "      <th>Id</th>\n",
       "      <th>median_house_value</th>\n",
       "    </tr>\n",
       "  </thead>\n",
       "  <tbody>\n",
       "    <tr>\n",
       "      <th>0</th>\n",
       "      <td>0</td>\n",
       "      <td>243964.531250</td>\n",
       "    </tr>\n",
       "    <tr>\n",
       "      <th>1</th>\n",
       "      <td>1</td>\n",
       "      <td>278206.812500</td>\n",
       "    </tr>\n",
       "    <tr>\n",
       "      <th>2</th>\n",
       "      <td>2</td>\n",
       "      <td>73514.703125</td>\n",
       "    </tr>\n",
       "    <tr>\n",
       "      <th>3</th>\n",
       "      <td>3</td>\n",
       "      <td>145786.234375</td>\n",
       "    </tr>\n",
       "    <tr>\n",
       "      <th>4</th>\n",
       "      <td>4</td>\n",
       "      <td>45178.953125</td>\n",
       "    </tr>\n",
       "  </tbody>\n",
       "</table>\n",
       "</div>"
      ],
      "text/plain": [
       "   Id  median_house_value\n",
       "0   0       243964.531250\n",
       "1   1       278206.812500\n",
       "2   2        73514.703125\n",
       "3   3       145786.234375\n",
       "4   4        45178.953125"
      ]
     },
     "execution_count": 66,
     "metadata": {},
     "output_type": "execute_result"
    }
   ],
   "source": [
    "submission.head()"
   ]
  },
  {
   "cell_type": "code",
   "execution_count": 67,
   "metadata": {},
   "outputs": [],
   "source": [
    "# Stores a csv file to submit to the kaggle competition\n",
    "submission.to_csv('submission.csv', index=False)"
   ]
  },
  {
   "cell_type": "code",
   "execution_count": null,
   "metadata": {},
   "outputs": [],
   "source": []
  }
 ],
 "metadata": {
  "kernelspec": {
   "display_name": "Python 3",
   "language": "python",
   "name": "python3"
  },
  "language_info": {
   "codemirror_mode": {
    "name": "ipython",
    "version": 3
   },
   "file_extension": ".py",
   "mimetype": "text/x-python",
   "name": "python",
   "nbconvert_exporter": "python",
   "pygments_lexer": "ipython3",
   "version": "3.8.3"
  }
 },
 "nbformat": 4,
 "nbformat_minor": 4
}
