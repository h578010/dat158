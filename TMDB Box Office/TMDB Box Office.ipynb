{
 "cells": [
  {
   "cell_type": "markdown",
   "metadata": {},
   "source": [
    "# Box Office Prediction"
   ]
  },
  {
   "cell_type": "markdown",
   "metadata": {},
   "source": [
    "Synnøve Sørensen, november 2020"
   ]
  },
  {
   "cell_type": "markdown",
   "metadata": {},
   "source": [
    "## 1. Frame the problem"
   ]
  },
  {
   "cell_type": "markdown",
   "metadata": {},
   "source": [
    "The goal of this assigment is to try to predict a movie's overall worldwide box office revenue. The data points provided include cast, plot keywords, budget, release dates, languages and more. The total number of features in the training set is 23, including revenue. This feature is not included when testing the model, making the total number of features 22 in the test set.\n",
    "\n",
    "This is a regression challenge and it will be solved with SkiKit-learn machine learning library.\n",
    "\n",
    "The notebook is dived into chapters based on these main steps:\n",
    "\n",
    "1. Frame the problem\n",
    "2. Get the data\n",
    "3. Explore the data to gain insights\n",
    "4. Prepare the data \n",
    "5. Explore different models \n",
    "6. Fine-tune the models\n",
    "7. Present the solution\n",
    "8. Launch, monitor and maintain the system"
   ]
  },
  {
   "cell_type": "markdown",
   "metadata": {},
   "source": [
    "A performance measure is neccessary to determine how well the model is performing. RMSE performs very well and is generally preferred, assuming that there are few outliers (like in a bell-shaped curve). \n",
    "\n",
    "RMSLE is better suited if there are outliers, extreme values that deviate from other observations in the dataset. \n",
    "\n",
    "RMSE was chosen for solving this task, __because__"
   ]
  },
  {
   "cell_type": "markdown",
   "metadata": {},
   "source": [
    "$ RMSE (X, h) = \\sqrt{(\\frac{1}{m})\\sum_{i=1}^{m}(h(x^{i}) - y^{i})^{2}} $"
   ]
  },
  {
   "cell_type": "markdown",
   "metadata": {},
   "source": [
    "- m is the number of instances in the dataset you are measuring the RMSE on. <br>\n",
    "- $ x^{i} $ is a vector of all the feature values (excluding the label) of the ith instance in\n",
    "the dataset, and $ y^{i} $) is its label (the desired output value for that instance).<br>\n",
    "- X is a matrix containing all the feature values (excluding labels) of all instances in\n",
    "the dataset.<br>\n",
    "- h is your system’s prediction function, also called a hypothesis.<br>\n",
    "- RMSE(X,h) is the cost function measured on the set of examples using your\n",
    "hypothesis h."
   ]
  },
  {
   "cell_type": "markdown",
   "metadata": {},
   "source": [
    "## 2. Get the data"
   ]
  },
  {
   "cell_type": "markdown",
   "metadata": {},
   "source": [
    "The dataset was downloaded from the Kaggle competition website. \n",
    "\n",
    "The dataset contains 7398 movies and a variety of metadata obtained from The Movie Database (https://www.themoviedb.org/). The training and test sets has respectively 3000 and 4398 instances each. "
   ]
  },
  {
   "cell_type": "markdown",
   "metadata": {},
   "source": [
    "### Setup\n"
   ]
  },
  {
   "cell_type": "code",
   "execution_count": 2,
   "metadata": {},
   "outputs": [],
   "source": [
    "%matplotlib inline\n",
    "import numpy as np \n",
    "import pandas as pd\n",
    "import matplotlib.pyplot as plt\n",
    "import seaborn as sns\n",
    "from sklearn.model_selection import train_test_split\n",
    "from pandas.plotting import scatter_matrix\n",
    "from sklearn.model_selection import StratifiedShuffleSplit\n",
    "from sklearn.metrics import mean_squared_error, mean_squared_log_error\n",
    "import ast"
   ]
  },
  {
   "cell_type": "code",
   "execution_count": 88,
   "metadata": {},
   "outputs": [],
   "source": [
    "seed = 42\n",
    "np.random.seed(seed)"
   ]
  },
  {
   "cell_type": "markdown",
   "metadata": {},
   "source": [
    "### Data"
   ]
  },
  {
   "cell_type": "code",
   "execution_count": 3,
   "metadata": {},
   "outputs": [
    {
     "name": "stdout",
     "output_type": "stream",
     "text": [
      "['sample_submission.csv', 'test.csv', 'train.csv']\n"
     ]
    }
   ],
   "source": [
    "import os\n",
    "print(os.listdir(\"../box_office_data\"))"
   ]
  },
  {
   "cell_type": "code",
   "execution_count": 4,
   "metadata": {},
   "outputs": [],
   "source": [
    "movies = pd.read_csv('../box_office_data/train.csv')\n",
    "test = pd.read_csv('../box_office_data/test.csv')"
   ]
  },
  {
   "cell_type": "code",
   "execution_count": 5,
   "metadata": {},
   "outputs": [
    {
     "data": {
      "text/plain": [
       "(3000, 4398)"
      ]
     },
     "execution_count": 5,
     "metadata": {},
     "output_type": "execute_result"
    }
   ],
   "source": [
    "len (movies), len (test)"
   ]
  },
  {
   "cell_type": "code",
   "execution_count": 6,
   "metadata": {},
   "outputs": [
    {
     "data": {
      "text/html": [
       "<div>\n",
       "<style scoped>\n",
       "    .dataframe tbody tr th:only-of-type {\n",
       "        vertical-align: middle;\n",
       "    }\n",
       "\n",
       "    .dataframe tbody tr th {\n",
       "        vertical-align: top;\n",
       "    }\n",
       "\n",
       "    .dataframe thead th {\n",
       "        text-align: right;\n",
       "    }\n",
       "</style>\n",
       "<table border=\"1\" class=\"dataframe\">\n",
       "  <thead>\n",
       "    <tr style=\"text-align: right;\">\n",
       "      <th></th>\n",
       "      <th>id</th>\n",
       "      <th>belongs_to_collection</th>\n",
       "      <th>budget</th>\n",
       "      <th>genres</th>\n",
       "      <th>homepage</th>\n",
       "      <th>imdb_id</th>\n",
       "      <th>original_language</th>\n",
       "      <th>original_title</th>\n",
       "      <th>overview</th>\n",
       "      <th>popularity</th>\n",
       "      <th>...</th>\n",
       "      <th>release_date</th>\n",
       "      <th>runtime</th>\n",
       "      <th>spoken_languages</th>\n",
       "      <th>status</th>\n",
       "      <th>tagline</th>\n",
       "      <th>title</th>\n",
       "      <th>Keywords</th>\n",
       "      <th>cast</th>\n",
       "      <th>crew</th>\n",
       "      <th>revenue</th>\n",
       "    </tr>\n",
       "  </thead>\n",
       "  <tbody>\n",
       "    <tr>\n",
       "      <th>0</th>\n",
       "      <td>1</td>\n",
       "      <td>[{'id': 313576, 'name': 'Hot Tub Time Machine ...</td>\n",
       "      <td>14000000</td>\n",
       "      <td>[{'id': 35, 'name': 'Comedy'}]</td>\n",
       "      <td>NaN</td>\n",
       "      <td>tt2637294</td>\n",
       "      <td>en</td>\n",
       "      <td>Hot Tub Time Machine 2</td>\n",
       "      <td>When Lou, who has become the \"father of the In...</td>\n",
       "      <td>6.575393</td>\n",
       "      <td>...</td>\n",
       "      <td>2/20/15</td>\n",
       "      <td>93.0</td>\n",
       "      <td>[{'iso_639_1': 'en', 'name': 'English'}]</td>\n",
       "      <td>Released</td>\n",
       "      <td>The Laws of Space and Time are About to be Vio...</td>\n",
       "      <td>Hot Tub Time Machine 2</td>\n",
       "      <td>[{'id': 4379, 'name': 'time travel'}, {'id': 9...</td>\n",
       "      <td>[{'cast_id': 4, 'character': 'Lou', 'credit_id...</td>\n",
       "      <td>[{'credit_id': '59ac067c92514107af02c8c8', 'de...</td>\n",
       "      <td>12314651</td>\n",
       "    </tr>\n",
       "    <tr>\n",
       "      <th>1</th>\n",
       "      <td>2</td>\n",
       "      <td>[{'id': 107674, 'name': 'The Princess Diaries ...</td>\n",
       "      <td>40000000</td>\n",
       "      <td>[{'id': 35, 'name': 'Comedy'}, {'id': 18, 'nam...</td>\n",
       "      <td>NaN</td>\n",
       "      <td>tt0368933</td>\n",
       "      <td>en</td>\n",
       "      <td>The Princess Diaries 2: Royal Engagement</td>\n",
       "      <td>Mia Thermopolis is now a college graduate and ...</td>\n",
       "      <td>8.248895</td>\n",
       "      <td>...</td>\n",
       "      <td>8/6/04</td>\n",
       "      <td>113.0</td>\n",
       "      <td>[{'iso_639_1': 'en', 'name': 'English'}]</td>\n",
       "      <td>Released</td>\n",
       "      <td>It can take a lifetime to find true love; she'...</td>\n",
       "      <td>The Princess Diaries 2: Royal Engagement</td>\n",
       "      <td>[{'id': 2505, 'name': 'coronation'}, {'id': 42...</td>\n",
       "      <td>[{'cast_id': 1, 'character': 'Mia Thermopolis'...</td>\n",
       "      <td>[{'credit_id': '52fe43fe9251416c7502563d', 'de...</td>\n",
       "      <td>95149435</td>\n",
       "    </tr>\n",
       "    <tr>\n",
       "      <th>2</th>\n",
       "      <td>3</td>\n",
       "      <td>NaN</td>\n",
       "      <td>3300000</td>\n",
       "      <td>[{'id': 18, 'name': 'Drama'}]</td>\n",
       "      <td>http://sonyclassics.com/whiplash/</td>\n",
       "      <td>tt2582802</td>\n",
       "      <td>en</td>\n",
       "      <td>Whiplash</td>\n",
       "      <td>Under the direction of a ruthless instructor, ...</td>\n",
       "      <td>64.299990</td>\n",
       "      <td>...</td>\n",
       "      <td>10/10/14</td>\n",
       "      <td>105.0</td>\n",
       "      <td>[{'iso_639_1': 'en', 'name': 'English'}]</td>\n",
       "      <td>Released</td>\n",
       "      <td>The road to greatness can take you to the edge.</td>\n",
       "      <td>Whiplash</td>\n",
       "      <td>[{'id': 1416, 'name': 'jazz'}, {'id': 1523, 'n...</td>\n",
       "      <td>[{'cast_id': 5, 'character': 'Andrew Neimann',...</td>\n",
       "      <td>[{'credit_id': '54d5356ec3a3683ba0000039', 'de...</td>\n",
       "      <td>13092000</td>\n",
       "    </tr>\n",
       "    <tr>\n",
       "      <th>3</th>\n",
       "      <td>4</td>\n",
       "      <td>NaN</td>\n",
       "      <td>1200000</td>\n",
       "      <td>[{'id': 53, 'name': 'Thriller'}, {'id': 18, 'n...</td>\n",
       "      <td>http://kahaanithefilm.com/</td>\n",
       "      <td>tt1821480</td>\n",
       "      <td>hi</td>\n",
       "      <td>Kahaani</td>\n",
       "      <td>Vidya Bagchi (Vidya Balan) arrives in Kolkata ...</td>\n",
       "      <td>3.174936</td>\n",
       "      <td>...</td>\n",
       "      <td>3/9/12</td>\n",
       "      <td>122.0</td>\n",
       "      <td>[{'iso_639_1': 'en', 'name': 'English'}, {'iso...</td>\n",
       "      <td>Released</td>\n",
       "      <td>NaN</td>\n",
       "      <td>Kahaani</td>\n",
       "      <td>[{'id': 10092, 'name': 'mystery'}, {'id': 1054...</td>\n",
       "      <td>[{'cast_id': 1, 'character': 'Vidya Bagchi', '...</td>\n",
       "      <td>[{'credit_id': '52fe48779251416c9108d6eb', 'de...</td>\n",
       "      <td>16000000</td>\n",
       "    </tr>\n",
       "    <tr>\n",
       "      <th>4</th>\n",
       "      <td>5</td>\n",
       "      <td>NaN</td>\n",
       "      <td>0</td>\n",
       "      <td>[{'id': 28, 'name': 'Action'}, {'id': 53, 'nam...</td>\n",
       "      <td>NaN</td>\n",
       "      <td>tt1380152</td>\n",
       "      <td>ko</td>\n",
       "      <td>마린보이</td>\n",
       "      <td>Marine Boy is the story of a former national s...</td>\n",
       "      <td>1.148070</td>\n",
       "      <td>...</td>\n",
       "      <td>2/5/09</td>\n",
       "      <td>118.0</td>\n",
       "      <td>[{'iso_639_1': 'ko', 'name': '한국어/조선말'}]</td>\n",
       "      <td>Released</td>\n",
       "      <td>NaN</td>\n",
       "      <td>Marine Boy</td>\n",
       "      <td>NaN</td>\n",
       "      <td>[{'cast_id': 3, 'character': 'Chun-soo', 'cred...</td>\n",
       "      <td>[{'credit_id': '52fe464b9251416c75073b43', 'de...</td>\n",
       "      <td>3923970</td>\n",
       "    </tr>\n",
       "  </tbody>\n",
       "</table>\n",
       "<p>5 rows × 23 columns</p>\n",
       "</div>"
      ],
      "text/plain": [
       "   id                              belongs_to_collection    budget  \\\n",
       "0   1  [{'id': 313576, 'name': 'Hot Tub Time Machine ...  14000000   \n",
       "1   2  [{'id': 107674, 'name': 'The Princess Diaries ...  40000000   \n",
       "2   3                                                NaN   3300000   \n",
       "3   4                                                NaN   1200000   \n",
       "4   5                                                NaN         0   \n",
       "\n",
       "                                              genres  \\\n",
       "0                     [{'id': 35, 'name': 'Comedy'}]   \n",
       "1  [{'id': 35, 'name': 'Comedy'}, {'id': 18, 'nam...   \n",
       "2                      [{'id': 18, 'name': 'Drama'}]   \n",
       "3  [{'id': 53, 'name': 'Thriller'}, {'id': 18, 'n...   \n",
       "4  [{'id': 28, 'name': 'Action'}, {'id': 53, 'nam...   \n",
       "\n",
       "                            homepage    imdb_id original_language  \\\n",
       "0                                NaN  tt2637294                en   \n",
       "1                                NaN  tt0368933                en   \n",
       "2  http://sonyclassics.com/whiplash/  tt2582802                en   \n",
       "3         http://kahaanithefilm.com/  tt1821480                hi   \n",
       "4                                NaN  tt1380152                ko   \n",
       "\n",
       "                             original_title  \\\n",
       "0                    Hot Tub Time Machine 2   \n",
       "1  The Princess Diaries 2: Royal Engagement   \n",
       "2                                  Whiplash   \n",
       "3                                   Kahaani   \n",
       "4                                      마린보이   \n",
       "\n",
       "                                            overview  popularity  ...  \\\n",
       "0  When Lou, who has become the \"father of the In...    6.575393  ...   \n",
       "1  Mia Thermopolis is now a college graduate and ...    8.248895  ...   \n",
       "2  Under the direction of a ruthless instructor, ...   64.299990  ...   \n",
       "3  Vidya Bagchi (Vidya Balan) arrives in Kolkata ...    3.174936  ...   \n",
       "4  Marine Boy is the story of a former national s...    1.148070  ...   \n",
       "\n",
       "  release_date runtime                                   spoken_languages  \\\n",
       "0      2/20/15    93.0           [{'iso_639_1': 'en', 'name': 'English'}]   \n",
       "1       8/6/04   113.0           [{'iso_639_1': 'en', 'name': 'English'}]   \n",
       "2     10/10/14   105.0           [{'iso_639_1': 'en', 'name': 'English'}]   \n",
       "3       3/9/12   122.0  [{'iso_639_1': 'en', 'name': 'English'}, {'iso...   \n",
       "4       2/5/09   118.0           [{'iso_639_1': 'ko', 'name': '한국어/조선말'}]   \n",
       "\n",
       "     status                                            tagline  \\\n",
       "0  Released  The Laws of Space and Time are About to be Vio...   \n",
       "1  Released  It can take a lifetime to find true love; she'...   \n",
       "2  Released    The road to greatness can take you to the edge.   \n",
       "3  Released                                                NaN   \n",
       "4  Released                                                NaN   \n",
       "\n",
       "                                      title  \\\n",
       "0                    Hot Tub Time Machine 2   \n",
       "1  The Princess Diaries 2: Royal Engagement   \n",
       "2                                  Whiplash   \n",
       "3                                   Kahaani   \n",
       "4                                Marine Boy   \n",
       "\n",
       "                                            Keywords  \\\n",
       "0  [{'id': 4379, 'name': 'time travel'}, {'id': 9...   \n",
       "1  [{'id': 2505, 'name': 'coronation'}, {'id': 42...   \n",
       "2  [{'id': 1416, 'name': 'jazz'}, {'id': 1523, 'n...   \n",
       "3  [{'id': 10092, 'name': 'mystery'}, {'id': 1054...   \n",
       "4                                                NaN   \n",
       "\n",
       "                                                cast  \\\n",
       "0  [{'cast_id': 4, 'character': 'Lou', 'credit_id...   \n",
       "1  [{'cast_id': 1, 'character': 'Mia Thermopolis'...   \n",
       "2  [{'cast_id': 5, 'character': 'Andrew Neimann',...   \n",
       "3  [{'cast_id': 1, 'character': 'Vidya Bagchi', '...   \n",
       "4  [{'cast_id': 3, 'character': 'Chun-soo', 'cred...   \n",
       "\n",
       "                                                crew   revenue  \n",
       "0  [{'credit_id': '59ac067c92514107af02c8c8', 'de...  12314651  \n",
       "1  [{'credit_id': '52fe43fe9251416c7502563d', 'de...  95149435  \n",
       "2  [{'credit_id': '54d5356ec3a3683ba0000039', 'de...  13092000  \n",
       "3  [{'credit_id': '52fe48779251416c9108d6eb', 'de...  16000000  \n",
       "4  [{'credit_id': '52fe464b9251416c75073b43', 'de...   3923970  \n",
       "\n",
       "[5 rows x 23 columns]"
      ]
     },
     "execution_count": 6,
     "metadata": {},
     "output_type": "execute_result"
    }
   ],
   "source": [
    "movies.head()"
   ]
  },
  {
   "cell_type": "code",
   "execution_count": 150,
   "metadata": {},
   "outputs": [
    {
     "name": "stdout",
     "output_type": "stream",
     "text": [
      "<class 'pandas.core.frame.DataFrame'>\n",
      "RangeIndex: 4398 entries, 0 to 4397\n",
      "Data columns (total 22 columns):\n",
      " #   Column                 Non-Null Count  Dtype  \n",
      "---  ------                 --------------  -----  \n",
      " 0   id                     4398 non-null   int64  \n",
      " 1   belongs_to_collection  877 non-null    object \n",
      " 2   budget                 4398 non-null   int64  \n",
      " 3   genres                 4382 non-null   object \n",
      " 4   homepage               1420 non-null   object \n",
      " 5   imdb_id                4398 non-null   object \n",
      " 6   original_language      4398 non-null   object \n",
      " 7   original_title         4398 non-null   object \n",
      " 8   overview               4384 non-null   object \n",
      " 9   popularity             4398 non-null   float64\n",
      " 10  poster_path            4397 non-null   object \n",
      " 11  production_companies   4140 non-null   object \n",
      " 12  production_countries   4296 non-null   object \n",
      " 13  release_date           4397 non-null   object \n",
      " 14  runtime                4394 non-null   float64\n",
      " 15  spoken_languages       4356 non-null   object \n",
      " 16  status                 4396 non-null   object \n",
      " 17  tagline                3535 non-null   object \n",
      " 18  title                  4395 non-null   object \n",
      " 19  Keywords               4005 non-null   object \n",
      " 20  cast                   4385 non-null   object \n",
      " 21  crew                   4376 non-null   object \n",
      "dtypes: float64(2), int64(2), object(18)\n",
      "memory usage: 756.0+ KB\n"
     ]
    }
   ],
   "source": [
    "test.info()"
   ]
  },
  {
   "cell_type": "code",
   "execution_count": 7,
   "metadata": {},
   "outputs": [
    {
     "name": "stdout",
     "output_type": "stream",
     "text": [
      "<class 'pandas.core.frame.DataFrame'>\n",
      "RangeIndex: 3000 entries, 0 to 2999\n",
      "Data columns (total 23 columns):\n",
      " #   Column                 Non-Null Count  Dtype  \n",
      "---  ------                 --------------  -----  \n",
      " 0   id                     3000 non-null   int64  \n",
      " 1   belongs_to_collection  604 non-null    object \n",
      " 2   budget                 3000 non-null   int64  \n",
      " 3   genres                 2993 non-null   object \n",
      " 4   homepage               946 non-null    object \n",
      " 5   imdb_id                3000 non-null   object \n",
      " 6   original_language      3000 non-null   object \n",
      " 7   original_title         3000 non-null   object \n",
      " 8   overview               2992 non-null   object \n",
      " 9   popularity             3000 non-null   float64\n",
      " 10  poster_path            2999 non-null   object \n",
      " 11  production_companies   2844 non-null   object \n",
      " 12  production_countries   2945 non-null   object \n",
      " 13  release_date           3000 non-null   object \n",
      " 14  runtime                2998 non-null   float64\n",
      " 15  spoken_languages       2980 non-null   object \n",
      " 16  status                 3000 non-null   object \n",
      " 17  tagline                2403 non-null   object \n",
      " 18  title                  3000 non-null   object \n",
      " 19  Keywords               2724 non-null   object \n",
      " 20  cast                   2987 non-null   object \n",
      " 21  crew                   2984 non-null   object \n",
      " 22  revenue                3000 non-null   int64  \n",
      "dtypes: float64(2), int64(3), object(18)\n",
      "memory usage: 539.2+ KB\n"
     ]
    }
   ],
   "source": [
    "movies.info()"
   ]
  },
  {
   "cell_type": "markdown",
   "metadata": {},
   "source": [
    "There are several attributes which have instances with null values, these will be dealt with when cleaning the data set. \n",
    "\n",
    "There are five numeric features in the dataset. The first one is an identifier used in the database and since it will not contribute anything useful to the model it can be removed from the dataset. \n",
    "\n",
    "In order to work with the data sets without any concern of harming them, I'll make copies named movies_rel and test_rel that can be altered and updated when cleaning and preparing the data."
   ]
  },
  {
   "cell_type": "code",
   "execution_count": 8,
   "metadata": {},
   "outputs": [],
   "source": [
    "movies_rel = movies.drop(columns=['id'])"
   ]
  },
  {
   "cell_type": "code",
   "execution_count": 9,
   "metadata": {},
   "outputs": [],
   "source": [
    "test_rel = test.drop(columns=['id'])"
   ]
  },
  {
   "cell_type": "markdown",
   "metadata": {},
   "source": [
    "Let's start by taking a look at the attributes with numeric values. "
   ]
  },
  {
   "cell_type": "code",
   "execution_count": 10,
   "metadata": {},
   "outputs": [
    {
     "data": {
      "text/html": [
       "<div>\n",
       "<style scoped>\n",
       "    .dataframe tbody tr th:only-of-type {\n",
       "        vertical-align: middle;\n",
       "    }\n",
       "\n",
       "    .dataframe tbody tr th {\n",
       "        vertical-align: top;\n",
       "    }\n",
       "\n",
       "    .dataframe thead th {\n",
       "        text-align: right;\n",
       "    }\n",
       "</style>\n",
       "<table border=\"1\" class=\"dataframe\">\n",
       "  <thead>\n",
       "    <tr style=\"text-align: right;\">\n",
       "      <th></th>\n",
       "      <th>budget</th>\n",
       "      <th>popularity</th>\n",
       "      <th>runtime</th>\n",
       "      <th>revenue</th>\n",
       "    </tr>\n",
       "  </thead>\n",
       "  <tbody>\n",
       "    <tr>\n",
       "      <th>count</th>\n",
       "      <td>3.000000e+03</td>\n",
       "      <td>3000.000000</td>\n",
       "      <td>2998.000000</td>\n",
       "      <td>3.000000e+03</td>\n",
       "    </tr>\n",
       "    <tr>\n",
       "      <th>mean</th>\n",
       "      <td>2.253133e+07</td>\n",
       "      <td>8.463274</td>\n",
       "      <td>107.856571</td>\n",
       "      <td>6.672585e+07</td>\n",
       "    </tr>\n",
       "    <tr>\n",
       "      <th>std</th>\n",
       "      <td>3.702609e+07</td>\n",
       "      <td>12.104000</td>\n",
       "      <td>22.086434</td>\n",
       "      <td>1.375323e+08</td>\n",
       "    </tr>\n",
       "    <tr>\n",
       "      <th>min</th>\n",
       "      <td>0.000000e+00</td>\n",
       "      <td>0.000001</td>\n",
       "      <td>0.000000</td>\n",
       "      <td>1.000000e+00</td>\n",
       "    </tr>\n",
       "    <tr>\n",
       "      <th>25%</th>\n",
       "      <td>0.000000e+00</td>\n",
       "      <td>4.018053</td>\n",
       "      <td>94.000000</td>\n",
       "      <td>2.379808e+06</td>\n",
       "    </tr>\n",
       "    <tr>\n",
       "      <th>50%</th>\n",
       "      <td>8.000000e+06</td>\n",
       "      <td>7.374861</td>\n",
       "      <td>104.000000</td>\n",
       "      <td>1.680707e+07</td>\n",
       "    </tr>\n",
       "    <tr>\n",
       "      <th>75%</th>\n",
       "      <td>2.900000e+07</td>\n",
       "      <td>10.890983</td>\n",
       "      <td>118.000000</td>\n",
       "      <td>6.891920e+07</td>\n",
       "    </tr>\n",
       "    <tr>\n",
       "      <th>max</th>\n",
       "      <td>3.800000e+08</td>\n",
       "      <td>294.337037</td>\n",
       "      <td>338.000000</td>\n",
       "      <td>1.519558e+09</td>\n",
       "    </tr>\n",
       "  </tbody>\n",
       "</table>\n",
       "</div>"
      ],
      "text/plain": [
       "             budget   popularity      runtime       revenue\n",
       "count  3.000000e+03  3000.000000  2998.000000  3.000000e+03\n",
       "mean   2.253133e+07     8.463274   107.856571  6.672585e+07\n",
       "std    3.702609e+07    12.104000    22.086434  1.375323e+08\n",
       "min    0.000000e+00     0.000001     0.000000  1.000000e+00\n",
       "25%    0.000000e+00     4.018053    94.000000  2.379808e+06\n",
       "50%    8.000000e+06     7.374861   104.000000  1.680707e+07\n",
       "75%    2.900000e+07    10.890983   118.000000  6.891920e+07\n",
       "max    3.800000e+08   294.337037   338.000000  1.519558e+09"
      ]
     },
     "execution_count": 10,
     "metadata": {},
     "output_type": "execute_result"
    }
   ],
   "source": [
    "movies_rel.describe()"
   ]
  },
  {
   "cell_type": "code",
   "execution_count": 11,
   "metadata": {},
   "outputs": [
    {
     "data": {
      "text/plain": [
       "array([[<matplotlib.axes._subplots.AxesSubplot object at 0x0000026F0B0C0430>,\n",
       "        <matplotlib.axes._subplots.AxesSubplot object at 0x0000026F0B79D8E0>],\n",
       "       [<matplotlib.axes._subplots.AxesSubplot object at 0x0000026F0B7CCD30>,\n",
       "        <matplotlib.axes._subplots.AxesSubplot object at 0x0000026F0B8041F0>]],\n",
       "      dtype=object)"
      ]
     },
     "execution_count": 11,
     "metadata": {},
     "output_type": "execute_result"
    },
    {
     "data": {
      "image/png": "[encoded data removed]",
      "text/plain": [
       "<Figure size 432x288 with 4 Axes>"
      ]
     },
     "metadata": {
      "needs_background": "light"
     },
     "output_type": "display_data"
    }
   ],
   "source": [
    "movies_rel.hist()"
   ]
  },
  {
   "cell_type": "markdown",
   "metadata": {},
   "source": [
    "The distributions of budget, popularity and revenue have a lot more data points clustered at the low end of that scale. The values can be normalized using the logarithmic scale. This makes it easier for the models like linear regression to fit the data."
   ]
  },
  {
   "cell_type": "code",
   "execution_count": 125,
   "metadata": {},
   "outputs": [
    {
     "data": {
      "text/plain": [
       "Text(0.5, 1.0, 'Distribution of popularity, logaritmic')"
      ]
     },
     "execution_count": 125,
     "metadata": {},
     "output_type": "execute_result"
    },
    {
     "data": {
      "image/png": "[encoded data removed]",
      "text/plain": [
       "<Figure size 1152x288 with 3 Axes>"
      ]
     },
     "metadata": {},
     "output_type": "display_data"
    }
   ],
   "source": [
    "fig, ax = plt.subplots(figsize = (16, 4))\n",
    "plt.subplot(1, 3, 1) \n",
    "plt.hist(movies_rel['revenue'].apply(np.log1p));\n",
    "plt.title('Distribution of revenue, logaritmic')\n",
    "plt.subplot(1, 3, 2) \n",
    "plt.hist(movies_rel['budget'].apply(np.log1p))\n",
    "plt.title('Distribution of budget, logaritmic')\n",
    "plt.subplot(1, 3, 3)\n",
    "plt.hist(movies_rel['popularity'].apply(np.log1p));\n",
    "plt.title('Distribution of popularity, logaritmic')"
   ]
  },
  {
   "cell_type": "markdown",
   "metadata": {},
   "source": [
    "Budget, revenue and popularity will be changed to a logaritmic scale when training the models in section 5. "
   ]
  },
  {
   "cell_type": "markdown",
   "metadata": {},
   "source": [
    "## 3. Explore the data to gain insight"
   ]
  },
  {
   "cell_type": "markdown",
   "metadata": {},
   "source": [
    "Let's have a closer look at the correlation between the features with numeric values:"
   ]
  },
  {
   "cell_type": "code",
   "execution_count": 13,
   "metadata": {},
   "outputs": [],
   "source": [
    "corr_matrix = movies_rel.corr()"
   ]
  },
  {
   "cell_type": "code",
   "execution_count": 14,
   "metadata": {},
   "outputs": [
    {
     "data": {
      "text/plain": [
       "revenue       1.000000\n",
       "budget        0.752965\n",
       "popularity    0.461460\n",
       "runtime       0.216380\n",
       "Name: revenue, dtype: float64"
      ]
     },
     "execution_count": 14,
     "metadata": {},
     "output_type": "execute_result"
    }
   ],
   "source": [
    "corr_matrix[\"revenue\"].sort_values(ascending=False)"
   ]
  },
  {
   "cell_type": "code",
   "execution_count": 16,
   "metadata": {},
   "outputs": [
    {
     "data": {
      "text/plain": [
       "<matplotlib.axes._subplots.AxesSubplot at 0x26f0cda70a0>"
      ]
     },
     "execution_count": 16,
     "metadata": {},
     "output_type": "execute_result"
    },
    {
     "data": {
      "image/png": "[encoded data removed]",
      "text/plain": [
       "<Figure size 1152x288 with 3 Axes>"
      ]
     },
     "metadata": {},
     "output_type": "display_data"
    }
   ],
   "source": [
    "plt.figure(figsize=(16, 4))\n",
    "plt.subplot(1, 3, 1)\n",
    "sns.scatterplot(x='budget', y='revenue', data = movies_rel, color='b')\n",
    "plt.subplot(1, 3, 2)\n",
    "sns.scatterplot(x='popularity', y='revenue', data = movies_rel, color='m')\n",
    "plt.subplot(1, 3, 3)\n",
    "sns.scatterplot(x='runtime', y='revenue', data = movies_rel, color='g')"
   ]
  },
  {
   "cell_type": "markdown",
   "metadata": {},
   "source": [
    "As expected, there is a good correlation between a movie's budget and it's revenue. There is a moderate correlation between popularity and revenue, and a weak correlation between runtime and revenue. This is often easier to visualize with a heatmap:"
   ]
  },
  {
   "cell_type": "code",
   "execution_count": 15,
   "metadata": {},
   "outputs": [
    {
     "data": {
      "text/plain": [
       "<matplotlib.axes._subplots.AxesSubplot at 0x26f0cc460a0>"
      ]
     },
     "execution_count": 15,
     "metadata": {},
     "output_type": "execute_result"
    },
    {
     "data": {
      "image/png": "[encoded data removed]",
      "text/plain": [
       "<Figure size 864x576 with 2 Axes>"
      ]
     },
     "metadata": {},
     "output_type": "display_data"
    }
   ],
   "source": [
    "sns.set(context=\"paper\",font=\"monospace\")\n",
    "fig, axe = plt.subplots(figsize=(12,8))\n",
    "cmap = 'Blues'\n",
    "sns.heatmap(corr_matrix,vmax=1,square =True, cmap=cmap,annot=True )\n"
   ]
  },
  {
   "cell_type": "markdown",
   "metadata": {},
   "source": [
    "## 4. Prepare the data"
   ]
  },
  {
   "cell_type": "markdown",
   "metadata": {},
   "source": [
    "### Data cleaning"
   ]
  },
  {
   "cell_type": "markdown",
   "metadata": {},
   "source": [
    "Most algorithms cannot work with missing values. It is a common practise to compute the median values and fill them in where values are missing in the training set. This method will be used to fill in missing values for the features that has numeric values. In this case the only feature with missing numeric values is runtime. \n",
    "\n",
    "Many of the features has values that are objects. There are different options regarding how to extract information that the models can use from these objects. Some of these objects, for example the homepage of a movie, can be treated as a boolean value. One can look for correlations between revenue and whether or not a movie has a homepage. \n",
    "\n",
    "Features like genres and spoken languages can be counted. Is there a correlation between revenue and how many genres a movies is associated with? Does revenue go up when there is more than one language being spoken in the movie? \n",
    "\n",
    "It is also possible to extract all genres and transform them to boolean values, this can be done with One Hot Encoder. By doing this the dataset will have a feature for each genre and the values will be 0 or 1 (false or true). \n",
    "\n",
    "After adding new attributes to the dataset, the original attributes and their object values can be dropped.\n",
    "\n",
    "In order to keep the assignment within a reasonable size, some features will be dropped. These features include id, IMDB id, overview, poster path, production companies, production countries, status, keywords and crew."
   ]
  },
  {
   "cell_type": "markdown",
   "metadata": {},
   "source": [
    "#### Runtime"
   ]
  },
  {
   "cell_type": "code",
   "execution_count": 17,
   "metadata": {},
   "outputs": [],
   "source": [
    "movies_rel['runtime'].fillna((movies_rel['runtime'].mean()), inplace=True)"
   ]
  },
  {
   "cell_type": "code",
   "execution_count": 18,
   "metadata": {},
   "outputs": [
    {
     "data": {
      "text/plain": [
       "0"
      ]
     },
     "execution_count": 18,
     "metadata": {},
     "output_type": "execute_result"
    }
   ],
   "source": [
    "movies_rel['runtime'].isnull().sum()"
   ]
  },
  {
   "cell_type": "markdown",
   "metadata": {},
   "source": [
    "#### Movie collections"
   ]
  },
  {
   "cell_type": "code",
   "execution_count": 20,
   "metadata": {},
   "outputs": [
    {
     "data": {
      "text/plain": [
       "<seaborn.axisgrid.FacetGrid at 0x26f0b856f40>"
      ]
     },
     "execution_count": 20,
     "metadata": {},
     "output_type": "execute_result"
    },
    {
     "data": {
      "image/png": "[encoded data removed]",
      "text/plain": [
       "<Figure size 360x360 with 1 Axes>"
      ]
     },
     "metadata": {},
     "output_type": "display_data"
    }
   ],
   "source": [
    "movies_rel['has_collection'] = movies_rel['belongs_to_collection'].notnull()\n",
    "sns.catplot(x = 'has_collection', y = 'revenue', data = movies_rel)"
   ]
  },
  {
   "cell_type": "markdown",
   "metadata": {},
   "source": [
    "The plot indicates that movies that are a part of a collection has a total revenue that is higher than the total revenue of movies that are not part of a collection. There might be a correlation between revenue and movie collections, and this new feature will be added to the dataset. \n",
    "\n",
    "The following features will be handled the same way: homepage, tagline and title vs. original title. These features will be added to the dataset as a boolean value."
   ]
  },
  {
   "cell_type": "markdown",
   "metadata": {},
   "source": [
    "#### Homepage"
   ]
  },
  {
   "cell_type": "code",
   "execution_count": 21,
   "metadata": {},
   "outputs": [
    {
     "data": {
      "text/plain": [
       "<seaborn.axisgrid.FacetGrid at 0x26f0f1821f0>"
      ]
     },
     "execution_count": 21,
     "metadata": {},
     "output_type": "execute_result"
    },
    {
     "data": {
      "image/png": "[encoded data removed]",
      "text/plain": [
       "<Figure size 360x360 with 1 Axes>"
      ]
     },
     "metadata": {},
     "output_type": "display_data"
    }
   ],
   "source": [
    "movies_rel['has_homepage'] = movies_rel['homepage'].notnull()\n",
    "sns.catplot(x = 'has_homepage', y = 'revenue', data = movies_rel)"
   ]
  },
  {
   "cell_type": "markdown",
   "metadata": {},
   "source": [
    "#### Tagline"
   ]
  },
  {
   "cell_type": "code",
   "execution_count": 22,
   "metadata": {},
   "outputs": [
    {
     "data": {
      "text/plain": [
       "<seaborn.axisgrid.FacetGrid at 0x26f0cd4bf10>"
      ]
     },
     "execution_count": 22,
     "metadata": {},
     "output_type": "execute_result"
    },
    {
     "data": {
      "image/png": "[encoded data removed]",
      "text/plain": [
       "<Figure size 360x360 with 1 Axes>"
      ]
     },
     "metadata": {},
     "output_type": "display_data"
    }
   ],
   "source": [
    "movies_rel['has_tagline'] = movies_rel['tagline'].notnull()\n",
    "sns.catplot(x = 'has_tagline', y = 'revenue', data = movies_rel)"
   ]
  },
  {
   "cell_type": "markdown",
   "metadata": {},
   "source": [
    "#### Title vs. original title"
   ]
  },
  {
   "cell_type": "code",
   "execution_count": 23,
   "metadata": {},
   "outputs": [
    {
     "data": {
      "text/plain": [
       "<seaborn.axisgrid.FacetGrid at 0x26f0ce324f0>"
      ]
     },
     "execution_count": 23,
     "metadata": {},
     "output_type": "execute_result"
    },
    {
     "data": {
      "image/png": "[encoded data removed]",
      "text/plain": [
       "<Figure size 360x360 with 1 Axes>"
      ]
     },
     "metadata": {},
     "output_type": "display_data"
    }
   ],
   "source": [
    "movies_rel['titleMatch'] = movies_rel['title'] == movies_rel['original_title']\n",
    "sns.catplot(x = 'titleMatch', y = 'revenue', data = movies_rel)"
   ]
  },
  {
   "cell_type": "markdown",
   "metadata": {},
   "source": [
    "#### Release dates"
   ]
  },
  {
   "cell_type": "markdown",
   "metadata": {},
   "source": [
    "In order to look for correlations between revenue and release dates, the release dates will be split into days, months and years. \n",
    "\n",
    "The following plots show the correlations between revenue and day, monts and year. It is easy to see that newer movies is accosiated with higher revenues. There might be more than one reason for this, inflation being the top contender. To make sure that the acheivements of older movies are not eroded, a feature for inflated revenue needs to be added to the dataset.  "
   ]
  },
  {
   "cell_type": "code",
   "execution_count": 24,
   "metadata": {},
   "outputs": [],
   "source": [
    "def trans_release_date(data):\n",
    "    data[['release_month','release_day','release_year']]=data['release_date'].str.split('/',expand=True).replace(np.nan, 0).astype(int)\n",
    "    data['release_year'] = data['release_year']\n",
    "    data.loc[ (data['release_year'] <= 18) & (data['release_year'] < 100), \"release_year\"] += 2000\n",
    "    data.loc[ (data['release_year'] > 18)  & (data['release_year'] < 100), \"release_year\"] += 1900\n",
    "    \n",
    "    return data"
   ]
  },
  {
   "cell_type": "code",
   "execution_count": 25,
   "metadata": {},
   "outputs": [],
   "source": [
    "movies_rel = trans_release_date(movies_rel)"
   ]
  },
  {
   "cell_type": "code",
   "execution_count": 26,
   "metadata": {},
   "outputs": [
    {
     "data": {
      "text/plain": [
       "<matplotlib.axes._subplots.AxesSubplot at 0x26f0f2b3610>"
      ]
     },
     "execution_count": 26,
     "metadata": {},
     "output_type": "execute_result"
    },
    {
     "data": {
      "image/png": "[encoded data removed]",
      "text/plain": [
       "<Figure size 1152x288 with 3 Axes>"
      ]
     },
     "metadata": {},
     "output_type": "display_data"
    }
   ],
   "source": [
    "plt.figure(figsize=(16, 4))\n",
    "plt.subplot(1, 3, 1)\n",
    "sns.scatterplot(x='release_day', y='revenue', data = movies_rel, color='b')\n",
    "plt.subplot(1, 3, 2)\n",
    "sns.scatterplot(x='release_month', y='revenue', data = movies_rel, color='m')\n",
    "plt.subplot(1, 3, 3)\n",
    "sns.scatterplot(x='release_year', y='revenue', data = movies_rel, color='g')"
   ]
  },
  {
   "cell_type": "markdown",
   "metadata": {},
   "source": [
    "#### Inflated revenue"
   ]
  },
  {
   "cell_type": "code",
   "execution_count": null,
   "metadata": {},
   "outputs": [],
   "source": []
  },
  {
   "cell_type": "code",
   "execution_count": null,
   "metadata": {},
   "outputs": [],
   "source": []
  },
  {
   "cell_type": "markdown",
   "metadata": {},
   "source": [
    "#### Languages"
   ]
  },
  {
   "cell_type": "markdown",
   "metadata": {},
   "source": [
    "There are several ways to extract information from the language features. In order to keep the assignment within a reasonable size, original language will be handled as a boolean for English."
   ]
  },
  {
   "cell_type": "code",
   "execution_count": 27,
   "metadata": {},
   "outputs": [
    {
     "data": {
      "text/plain": [
       "<seaborn.axisgrid.FacetGrid at 0x26f0f2b3640>"
      ]
     },
     "execution_count": 27,
     "metadata": {},
     "output_type": "execute_result"
    },
    {
     "data": {
      "image/png": "[encoded data removed]",
      "text/plain": [
       "<Figure size 360x360 with 1 Axes>"
      ]
     },
     "metadata": {},
     "output_type": "display_data"
    }
   ],
   "source": [
    "movies_rel['orig_lang_en'] = movies_rel['original_language'] == 'en'\n",
    "sns.catplot(x = 'orig_lang_en', y = 'revenue', data = movies_rel)"
   ]
  },
  {
   "cell_type": "markdown",
   "metadata": {},
   "source": [
    "The spoken languages will be handles as a count of how many languages that are spoken in each movie.\n",
    "The values for spoken languages is a dictionary with keys for ISO  name codes and name of the language. The corresponding values consist of a language code and the language represented as a string. A lambda function is used to extract the ISO name codes for each film and then count how many languages are spoken in each film. "
   ]
  },
  {
   "cell_type": "code",
   "execution_count": 28,
   "metadata": {},
   "outputs": [
    {
     "data": {
      "text/plain": [
       "0              [{'iso_639_1': 'en', 'name': 'English'}]\n",
       "1              [{'iso_639_1': 'en', 'name': 'English'}]\n",
       "2              [{'iso_639_1': 'en', 'name': 'English'}]\n",
       "3     [{'iso_639_1': 'en', 'name': 'English'}, {'iso...\n",
       "4              [{'iso_639_1': 'ko', 'name': '한국어/조선말'}]\n",
       "5              [{'iso_639_1': 'en', 'name': 'English'}]\n",
       "6              [{'iso_639_1': 'en', 'name': 'English'}]\n",
       "7     [{'iso_639_1': 'ar', 'name': 'العربية'}, {'iso...\n",
       "8              [{'iso_639_1': 'en', 'name': 'English'}]\n",
       "9              [{'iso_639_1': 'en', 'name': 'English'}]\n",
       "10             [{'iso_639_1': 'en', 'name': 'English'}]\n",
       "11             [{'iso_639_1': 'en', 'name': 'English'}]\n",
       "12             [{'iso_639_1': 'en', 'name': 'English'}]\n",
       "13    [{'iso_639_1': 'en', 'name': 'English'}, {'iso...\n",
       "14    [{'iso_639_1': 'en', 'name': 'English'}, {'iso...\n",
       "15              [{'iso_639_1': 'sr', 'name': 'Srpski'}]\n",
       "16    [{'iso_639_1': 'en', 'name': 'English'}, {'iso...\n",
       "17             [{'iso_639_1': 'en', 'name': 'English'}]\n",
       "18    [{'iso_639_1': 'de', 'name': 'Deutsch'}, {'iso...\n",
       "19    [{'iso_639_1': 'en', 'name': 'English'}, {'iso...\n",
       "Name: spoken_languages, dtype: object"
      ]
     },
     "execution_count": 28,
     "metadata": {},
     "output_type": "execute_result"
    }
   ],
   "source": [
    "movies_rel['spoken_languages'].head(20)"
   ]
  },
  {
   "cell_type": "code",
   "execution_count": 29,
   "metadata": {},
   "outputs": [],
   "source": [
    "movies_rel['spoken_languages'] = movies_rel['spoken_languages'].apply(lambda x: list(map(lambda d: list(d.values())[0], ast.literal_eval(x)) if isinstance(x, str) else []))\n",
    "movies_rel['no_languages'] = movies_rel['spoken_languages'].apply(lambda x: len(x))"
   ]
  },
  {
   "cell_type": "code",
   "execution_count": 30,
   "metadata": {},
   "outputs": [
    {
     "data": {
      "text/html": [
       "<div>\n",
       "<style scoped>\n",
       "    .dataframe tbody tr th:only-of-type {\n",
       "        vertical-align: middle;\n",
       "    }\n",
       "\n",
       "    .dataframe tbody tr th {\n",
       "        vertical-align: top;\n",
       "    }\n",
       "\n",
       "    .dataframe thead th {\n",
       "        text-align: right;\n",
       "    }\n",
       "</style>\n",
       "<table border=\"1\" class=\"dataframe\">\n",
       "  <thead>\n",
       "    <tr style=\"text-align: right;\">\n",
       "      <th></th>\n",
       "      <th>spoken_languages</th>\n",
       "      <th>no_languages</th>\n",
       "    </tr>\n",
       "  </thead>\n",
       "  <tbody>\n",
       "    <tr>\n",
       "      <th>0</th>\n",
       "      <td>[en]</td>\n",
       "      <td>1</td>\n",
       "    </tr>\n",
       "    <tr>\n",
       "      <th>1</th>\n",
       "      <td>[en]</td>\n",
       "      <td>1</td>\n",
       "    </tr>\n",
       "    <tr>\n",
       "      <th>2</th>\n",
       "      <td>[en]</td>\n",
       "      <td>1</td>\n",
       "    </tr>\n",
       "    <tr>\n",
       "      <th>3</th>\n",
       "      <td>[en, hi]</td>\n",
       "      <td>2</td>\n",
       "    </tr>\n",
       "    <tr>\n",
       "      <th>4</th>\n",
       "      <td>[ko]</td>\n",
       "      <td>1</td>\n",
       "    </tr>\n",
       "    <tr>\n",
       "      <th>...</th>\n",
       "      <td>...</td>\n",
       "      <td>...</td>\n",
       "    </tr>\n",
       "    <tr>\n",
       "      <th>2995</th>\n",
       "      <td>[en]</td>\n",
       "      <td>1</td>\n",
       "    </tr>\n",
       "    <tr>\n",
       "      <th>2996</th>\n",
       "      <td>[sv]</td>\n",
       "      <td>1</td>\n",
       "    </tr>\n",
       "    <tr>\n",
       "      <th>2997</th>\n",
       "      <td>[en]</td>\n",
       "      <td>1</td>\n",
       "    </tr>\n",
       "    <tr>\n",
       "      <th>2998</th>\n",
       "      <td>[en]</td>\n",
       "      <td>1</td>\n",
       "    </tr>\n",
       "    <tr>\n",
       "      <th>2999</th>\n",
       "      <td>[en]</td>\n",
       "      <td>1</td>\n",
       "    </tr>\n",
       "  </tbody>\n",
       "</table>\n",
       "<p>3000 rows × 2 columns</p>\n",
       "</div>"
      ],
      "text/plain": [
       "     spoken_languages  no_languages\n",
       "0                [en]             1\n",
       "1                [en]             1\n",
       "2                [en]             1\n",
       "3            [en, hi]             2\n",
       "4                [ko]             1\n",
       "...               ...           ...\n",
       "2995             [en]             1\n",
       "2996             [sv]             1\n",
       "2997             [en]             1\n",
       "2998             [en]             1\n",
       "2999             [en]             1\n",
       "\n",
       "[3000 rows x 2 columns]"
      ]
     },
     "execution_count": 30,
     "metadata": {},
     "output_type": "execute_result"
    }
   ],
   "source": [
    "movies_rel.loc[:, ['spoken_languages', 'no_languages']]"
   ]
  },
  {
   "cell_type": "code",
   "execution_count": 31,
   "metadata": {},
   "outputs": [
    {
     "data": {
      "text/plain": [
       "<seaborn.axisgrid.FacetGrid at 0x26f0f566f40>"
      ]
     },
     "execution_count": 31,
     "metadata": {},
     "output_type": "execute_result"
    },
    {
     "data": {
      "image/png": "[encoded data removed]",
      "text/plain": [
       "<Figure size 360x360 with 1 Axes>"
      ]
     },
     "metadata": {},
     "output_type": "display_data"
    }
   ],
   "source": [
    "sns.catplot(x = 'no_languages', y = 'revenue', data = movies_rel)"
   ]
  },
  {
   "cell_type": "markdown",
   "metadata": {},
   "source": [
    "#### Genres"
   ]
  },
  {
   "cell_type": "markdown",
   "metadata": {},
   "source": [
    "The genre values for each film are dictionaries of genre id and genre names. A lambda function is used to extract the genre names and quantities associated with each film. "
   ]
  },
  {
   "cell_type": "code",
   "execution_count": 32,
   "metadata": {},
   "outputs": [
    {
     "data": {
      "text/plain": [
       "0                       [{'id': 35, 'name': 'Comedy'}]\n",
       "1    [{'id': 35, 'name': 'Comedy'}, {'id': 18, 'nam...\n",
       "2                        [{'id': 18, 'name': 'Drama'}]\n",
       "3    [{'id': 53, 'name': 'Thriller'}, {'id': 18, 'n...\n",
       "4    [{'id': 28, 'name': 'Action'}, {'id': 53, 'nam...\n",
       "Name: genres, dtype: object"
      ]
     },
     "execution_count": 32,
     "metadata": {},
     "output_type": "execute_result"
    }
   ],
   "source": [
    "movies_rel['genres'].head()"
   ]
  },
  {
   "cell_type": "code",
   "execution_count": 33,
   "metadata": {},
   "outputs": [],
   "source": [
    "movies_rel['genres'] = movies_rel['genres'].apply(lambda x: list(map(lambda d: list(d.values())[1], ast.literal_eval(x)) if isinstance(x, str) else []))\n",
    "movies_rel['no_genres'] = movies_rel['genres'].apply(lambda x: len(x))"
   ]
  },
  {
   "cell_type": "code",
   "execution_count": 34,
   "metadata": {},
   "outputs": [
    {
     "data": {
      "text/html": [
       "<div>\n",
       "<style scoped>\n",
       "    .dataframe tbody tr th:only-of-type {\n",
       "        vertical-align: middle;\n",
       "    }\n",
       "\n",
       "    .dataframe tbody tr th {\n",
       "        vertical-align: top;\n",
       "    }\n",
       "\n",
       "    .dataframe thead th {\n",
       "        text-align: right;\n",
       "    }\n",
       "</style>\n",
       "<table border=\"1\" class=\"dataframe\">\n",
       "  <thead>\n",
       "    <tr style=\"text-align: right;\">\n",
       "      <th></th>\n",
       "      <th>genres</th>\n",
       "      <th>no_genres</th>\n",
       "    </tr>\n",
       "  </thead>\n",
       "  <tbody>\n",
       "    <tr>\n",
       "      <th>0</th>\n",
       "      <td>[Comedy]</td>\n",
       "      <td>1</td>\n",
       "    </tr>\n",
       "    <tr>\n",
       "      <th>1</th>\n",
       "      <td>[Comedy, Drama, Family, Romance]</td>\n",
       "      <td>4</td>\n",
       "    </tr>\n",
       "    <tr>\n",
       "      <th>2</th>\n",
       "      <td>[Drama]</td>\n",
       "      <td>1</td>\n",
       "    </tr>\n",
       "    <tr>\n",
       "      <th>3</th>\n",
       "      <td>[Thriller, Drama]</td>\n",
       "      <td>2</td>\n",
       "    </tr>\n",
       "    <tr>\n",
       "      <th>4</th>\n",
       "      <td>[Action, Thriller]</td>\n",
       "      <td>2</td>\n",
       "    </tr>\n",
       "    <tr>\n",
       "      <th>...</th>\n",
       "      <td>...</td>\n",
       "      <td>...</td>\n",
       "    </tr>\n",
       "    <tr>\n",
       "      <th>2995</th>\n",
       "      <td>[Comedy, Romance]</td>\n",
       "      <td>2</td>\n",
       "    </tr>\n",
       "    <tr>\n",
       "      <th>2996</th>\n",
       "      <td>[Drama, Music]</td>\n",
       "      <td>2</td>\n",
       "    </tr>\n",
       "    <tr>\n",
       "      <th>2997</th>\n",
       "      <td>[Crime, Action, Mystery, Thriller]</td>\n",
       "      <td>4</td>\n",
       "    </tr>\n",
       "    <tr>\n",
       "      <th>2998</th>\n",
       "      <td>[Comedy, Romance]</td>\n",
       "      <td>2</td>\n",
       "    </tr>\n",
       "    <tr>\n",
       "      <th>2999</th>\n",
       "      <td>[Thriller, Action, Mystery]</td>\n",
       "      <td>3</td>\n",
       "    </tr>\n",
       "  </tbody>\n",
       "</table>\n",
       "<p>3000 rows × 2 columns</p>\n",
       "</div>"
      ],
      "text/plain": [
       "                                  genres  no_genres\n",
       "0                               [Comedy]          1\n",
       "1       [Comedy, Drama, Family, Romance]          4\n",
       "2                                [Drama]          1\n",
       "3                      [Thriller, Drama]          2\n",
       "4                     [Action, Thriller]          2\n",
       "...                                  ...        ...\n",
       "2995                   [Comedy, Romance]          2\n",
       "2996                      [Drama, Music]          2\n",
       "2997  [Crime, Action, Mystery, Thriller]          4\n",
       "2998                   [Comedy, Romance]          2\n",
       "2999         [Thriller, Action, Mystery]          3\n",
       "\n",
       "[3000 rows x 2 columns]"
      ]
     },
     "execution_count": 34,
     "metadata": {},
     "output_type": "execute_result"
    }
   ],
   "source": [
    "movies_rel.loc[:, ['genres', 'no_genres']]"
   ]
  },
  {
   "cell_type": "code",
   "execution_count": 35,
   "metadata": {},
   "outputs": [
    {
     "data": {
      "text/plain": [
       "<seaborn.axisgrid.FacetGrid at 0x26f0f393640>"
      ]
     },
     "execution_count": 35,
     "metadata": {},
     "output_type": "execute_result"
    },
    {
     "data": {
      "image/png": "[encoded data removed]",
      "text/plain": [
       "<Figure size 360x360 with 1 Axes>"
      ]
     },
     "metadata": {},
     "output_type": "display_data"
    }
   ],
   "source": [
    "sns.catplot(x = 'no_genres', y = 'revenue', data = movies_rel)"
   ]
  },
  {
   "cell_type": "markdown",
   "metadata": {},
   "source": [
    "#### Cast"
   ]
  },
  {
   "cell_type": "markdown",
   "metadata": {},
   "source": [
    "There is probably a strong correlation between revenue and certain actors. __But ...__ "
   ]
  },
  {
   "cell_type": "code",
   "execution_count": 36,
   "metadata": {},
   "outputs": [],
   "source": [
    "movies_rel['cast_names'] = movies_rel['cast'].apply(lambda x: list(map(lambda d: list(d.values())[5], ast.literal_eval(x)) if isinstance(x, str) else []))\n",
    "movies_rel['no_cast'] = movies_rel['cast_names'].apply(lambda x: len(x))"
   ]
  },
  {
   "cell_type": "code",
   "execution_count": 37,
   "metadata": {},
   "outputs": [
    {
     "data": {
      "text/html": [
       "<div>\n",
       "<style scoped>\n",
       "    .dataframe tbody tr th:only-of-type {\n",
       "        vertical-align: middle;\n",
       "    }\n",
       "\n",
       "    .dataframe tbody tr th {\n",
       "        vertical-align: top;\n",
       "    }\n",
       "\n",
       "    .dataframe thead th {\n",
       "        text-align: right;\n",
       "    }\n",
       "</style>\n",
       "<table border=\"1\" class=\"dataframe\">\n",
       "  <thead>\n",
       "    <tr style=\"text-align: right;\">\n",
       "      <th></th>\n",
       "      <th>cast_names</th>\n",
       "      <th>no_cast</th>\n",
       "    </tr>\n",
       "  </thead>\n",
       "  <tbody>\n",
       "    <tr>\n",
       "      <th>0</th>\n",
       "      <td>[Rob Corddry, Craig Robinson, Clark Duke, Adam...</td>\n",
       "      <td>24</td>\n",
       "    </tr>\n",
       "    <tr>\n",
       "      <th>1</th>\n",
       "      <td>[Anne Hathaway, Julie Andrews, H√©ctor Elizond...</td>\n",
       "      <td>20</td>\n",
       "    </tr>\n",
       "    <tr>\n",
       "      <th>2</th>\n",
       "      <td>[Miles Teller, J.K. Simmons, Melissa Benoist, ...</td>\n",
       "      <td>51</td>\n",
       "    </tr>\n",
       "    <tr>\n",
       "      <th>3</th>\n",
       "      <td>[Vidya Balan, Nawazuddin Siddiqui, Parambrata ...</td>\n",
       "      <td>7</td>\n",
       "    </tr>\n",
       "    <tr>\n",
       "      <th>4</th>\n",
       "      <td>[Kim Kang-woo, Jo Jae-hyeon, Park Si-yeon, Kim...</td>\n",
       "      <td>4</td>\n",
       "    </tr>\n",
       "    <tr>\n",
       "      <th>...</th>\n",
       "      <td>...</td>\n",
       "      <td>...</td>\n",
       "    </tr>\n",
       "    <tr>\n",
       "      <th>2995</th>\n",
       "      <td>[Tom Berenger, William McNamara, –≠—Ä–∏–∫–∞ –≠...</td>\n",
       "      <td>15</td>\n",
       "    </tr>\n",
       "    <tr>\n",
       "      <th>2996</th>\n",
       "      <td>[Mira Barkhammar, Mira Grosin, Liv LeMoyne, Da...</td>\n",
       "      <td>11</td>\n",
       "    </tr>\n",
       "    <tr>\n",
       "      <th>2997</th>\n",
       "      <td>[Geena Davis, Samuel L. Jackson, Yvonne Zima, ...</td>\n",
       "      <td>15</td>\n",
       "    </tr>\n",
       "    <tr>\n",
       "      <th>2998</th>\n",
       "      <td>[Ben Stiller, Jennifer Aniston, Philip Seymour...</td>\n",
       "      <td>26</td>\n",
       "    </tr>\n",
       "    <tr>\n",
       "      <th>2999</th>\n",
       "      <td>[Taylor Lautner, Lily Collins, Alfred Molina, ...</td>\n",
       "      <td>34</td>\n",
       "    </tr>\n",
       "  </tbody>\n",
       "</table>\n",
       "<p>3000 rows × 2 columns</p>\n",
       "</div>"
      ],
      "text/plain": [
       "                                             cast_names  no_cast\n",
       "0     [Rob Corddry, Craig Robinson, Clark Duke, Adam...       24\n",
       "1     [Anne Hathaway, Julie Andrews, H√©ctor Elizond...       20\n",
       "2     [Miles Teller, J.K. Simmons, Melissa Benoist, ...       51\n",
       "3     [Vidya Balan, Nawazuddin Siddiqui, Parambrata ...        7\n",
       "4     [Kim Kang-woo, Jo Jae-hyeon, Park Si-yeon, Kim...        4\n",
       "...                                                 ...      ...\n",
       "2995  [Tom Berenger, William McNamara, –≠—Ä–∏–∫–∞ –≠...       15\n",
       "2996  [Mira Barkhammar, Mira Grosin, Liv LeMoyne, Da...       11\n",
       "2997  [Geena Davis, Samuel L. Jackson, Yvonne Zima, ...       15\n",
       "2998  [Ben Stiller, Jennifer Aniston, Philip Seymour...       26\n",
       "2999  [Taylor Lautner, Lily Collins, Alfred Molina, ...       34\n",
       "\n",
       "[3000 rows x 2 columns]"
      ]
     },
     "execution_count": 37,
     "metadata": {},
     "output_type": "execute_result"
    }
   ],
   "source": [
    "movies_rel.loc[:, ['cast_names', 'no_cast']]"
   ]
  },
  {
   "cell_type": "markdown",
   "metadata": {},
   "source": [
    "### Pipeline for data cleaning"
   ]
  },
  {
   "cell_type": "code",
   "execution_count": 38,
   "metadata": {},
   "outputs": [],
   "source": [
    "def pipeline(dataset):\n",
    "    data_rel = dataset.filter(['belongs_to_collection', 'budget', 'genres', 'homepage', 'original_language', 'original_title', 'popularity', 'release_date', 'runtime', 'spoken_languages', 'tagline', 'title', 'revenue'])\n",
    "    data_rel['runtime'] = dataset['runtime'].fillna(dataset['runtime'].mean())\n",
    "    data_rel['has_collection'] = dataset['belongs_to_collection'].notnull()\n",
    "    data_rel['has_homepage'] = dataset['homepage'].notnull()\n",
    "    data_rel['has_tagline'] = dataset['tagline'].notnull()\n",
    "    data_rel['titleMatch'] = dataset['title'] == dataset['original_title']\n",
    "    trans_release_date(data_rel)\n",
    "    data_rel['orig_lang_en'] = dataset['original_language'] == 'en'\n",
    "    \n",
    "    data_rel['spoken_languages'] = dataset['spoken_languages'].apply(lambda x: list(map(lambda d: list(d.values())[0], ast.literal_eval(x)) if isinstance(x, str) else []))\n",
    "    data_rel['no_languages'] = data_rel['spoken_languages'].apply(lambda x: len(x))\n",
    "    \n",
    "    data_rel['genres'] = dataset['genres'].apply(lambda x: list(map(lambda d: list(d.values())[1], ast.literal_eval(x)) if isinstance(x, str) else []))\n",
    "    data_rel['no_genres'] = data_rel['genres'].apply(lambda x: len(x))\n",
    "    \n",
    "    data_rel['cast_names'] = dataset['cast'].apply(lambda x: list(map(lambda d: list(d.values())[5], ast.literal_eval(x)) if isinstance(x, str) else []))\n",
    "    data_rel['no_cast'] = data_rel['cast_names'].apply(lambda x: len(x))\n",
    "    \n",
    "    data_rel = data_rel.select_dtypes(exclude=['object'])\n",
    "    return data_rel"
   ]
  },
  {
   "cell_type": "code",
   "execution_count": 39,
   "metadata": {},
   "outputs": [],
   "source": [
    "movies_prep = pipeline(movies)"
   ]
  },
  {
   "cell_type": "code",
   "execution_count": 40,
   "metadata": {},
   "outputs": [
    {
     "name": "stdout",
     "output_type": "stream",
     "text": [
      "<class 'pandas.core.frame.DataFrame'>\n",
      "RangeIndex: 3000 entries, 0 to 2999\n",
      "Data columns (total 15 columns):\n",
      " #   Column          Non-Null Count  Dtype  \n",
      "---  ------          --------------  -----  \n",
      " 0   budget          3000 non-null   int64  \n",
      " 1   popularity      3000 non-null   float64\n",
      " 2   runtime         3000 non-null   float64\n",
      " 3   revenue         3000 non-null   int64  \n",
      " 4   has_collection  3000 non-null   bool   \n",
      " 5   has_homepage    3000 non-null   bool   \n",
      " 6   has_tagline     3000 non-null   bool   \n",
      " 7   titleMatch      3000 non-null   bool   \n",
      " 8   release_month   3000 non-null   int32  \n",
      " 9   release_day     3000 non-null   int32  \n",
      " 10  release_year    3000 non-null   int32  \n",
      " 11  orig_lang_en    3000 non-null   bool   \n",
      " 12  no_languages    3000 non-null   int64  \n",
      " 13  no_genres       3000 non-null   int64  \n",
      " 14  no_cast         3000 non-null   int64  \n",
      "dtypes: bool(5), float64(2), int32(3), int64(5)\n",
      "memory usage: 214.0 KB\n"
     ]
    }
   ],
   "source": [
    "movies_prep.info()"
   ]
  },
  {
   "cell_type": "code",
   "execution_count": 41,
   "metadata": {},
   "outputs": [
    {
     "data": {
      "text/html": [
       "<div>\n",
       "<style scoped>\n",
       "    .dataframe tbody tr th:only-of-type {\n",
       "        vertical-align: middle;\n",
       "    }\n",
       "\n",
       "    .dataframe tbody tr th {\n",
       "        vertical-align: top;\n",
       "    }\n",
       "\n",
       "    .dataframe thead th {\n",
       "        text-align: right;\n",
       "    }\n",
       "</style>\n",
       "<table border=\"1\" class=\"dataframe\">\n",
       "  <thead>\n",
       "    <tr style=\"text-align: right;\">\n",
       "      <th></th>\n",
       "      <th>budget</th>\n",
       "      <th>popularity</th>\n",
       "      <th>runtime</th>\n",
       "      <th>revenue</th>\n",
       "      <th>has_collection</th>\n",
       "      <th>has_homepage</th>\n",
       "      <th>has_tagline</th>\n",
       "      <th>titleMatch</th>\n",
       "      <th>release_month</th>\n",
       "      <th>release_day</th>\n",
       "      <th>release_year</th>\n",
       "      <th>orig_lang_en</th>\n",
       "      <th>no_languages</th>\n",
       "      <th>no_genres</th>\n",
       "      <th>no_cast</th>\n",
       "    </tr>\n",
       "  </thead>\n",
       "  <tbody>\n",
       "    <tr>\n",
       "      <th>0</th>\n",
       "      <td>14000000</td>\n",
       "      <td>6.575393</td>\n",
       "      <td>93.0</td>\n",
       "      <td>12314651</td>\n",
       "      <td>True</td>\n",
       "      <td>False</td>\n",
       "      <td>True</td>\n",
       "      <td>True</td>\n",
       "      <td>2</td>\n",
       "      <td>20</td>\n",
       "      <td>2015</td>\n",
       "      <td>True</td>\n",
       "      <td>1</td>\n",
       "      <td>1</td>\n",
       "      <td>24</td>\n",
       "    </tr>\n",
       "    <tr>\n",
       "      <th>1</th>\n",
       "      <td>40000000</td>\n",
       "      <td>8.248895</td>\n",
       "      <td>113.0</td>\n",
       "      <td>95149435</td>\n",
       "      <td>True</td>\n",
       "      <td>False</td>\n",
       "      <td>True</td>\n",
       "      <td>True</td>\n",
       "      <td>8</td>\n",
       "      <td>6</td>\n",
       "      <td>2004</td>\n",
       "      <td>True</td>\n",
       "      <td>1</td>\n",
       "      <td>4</td>\n",
       "      <td>20</td>\n",
       "    </tr>\n",
       "    <tr>\n",
       "      <th>2</th>\n",
       "      <td>3300000</td>\n",
       "      <td>64.299990</td>\n",
       "      <td>105.0</td>\n",
       "      <td>13092000</td>\n",
       "      <td>False</td>\n",
       "      <td>True</td>\n",
       "      <td>True</td>\n",
       "      <td>True</td>\n",
       "      <td>10</td>\n",
       "      <td>10</td>\n",
       "      <td>2014</td>\n",
       "      <td>True</td>\n",
       "      <td>1</td>\n",
       "      <td>1</td>\n",
       "      <td>51</td>\n",
       "    </tr>\n",
       "    <tr>\n",
       "      <th>3</th>\n",
       "      <td>1200000</td>\n",
       "      <td>3.174936</td>\n",
       "      <td>122.0</td>\n",
       "      <td>16000000</td>\n",
       "      <td>False</td>\n",
       "      <td>True</td>\n",
       "      <td>False</td>\n",
       "      <td>True</td>\n",
       "      <td>3</td>\n",
       "      <td>9</td>\n",
       "      <td>2012</td>\n",
       "      <td>False</td>\n",
       "      <td>2</td>\n",
       "      <td>2</td>\n",
       "      <td>7</td>\n",
       "    </tr>\n",
       "    <tr>\n",
       "      <th>4</th>\n",
       "      <td>0</td>\n",
       "      <td>1.148070</td>\n",
       "      <td>118.0</td>\n",
       "      <td>3923970</td>\n",
       "      <td>False</td>\n",
       "      <td>False</td>\n",
       "      <td>False</td>\n",
       "      <td>False</td>\n",
       "      <td>2</td>\n",
       "      <td>5</td>\n",
       "      <td>2009</td>\n",
       "      <td>False</td>\n",
       "      <td>1</td>\n",
       "      <td>2</td>\n",
       "      <td>4</td>\n",
       "    </tr>\n",
       "    <tr>\n",
       "      <th>5</th>\n",
       "      <td>8000000</td>\n",
       "      <td>0.743274</td>\n",
       "      <td>83.0</td>\n",
       "      <td>3261638</td>\n",
       "      <td>False</td>\n",
       "      <td>False</td>\n",
       "      <td>False</td>\n",
       "      <td>True</td>\n",
       "      <td>8</td>\n",
       "      <td>6</td>\n",
       "      <td>1987</td>\n",
       "      <td>True</td>\n",
       "      <td>1</td>\n",
       "      <td>3</td>\n",
       "      <td>4</td>\n",
       "    </tr>\n",
       "    <tr>\n",
       "      <th>6</th>\n",
       "      <td>14000000</td>\n",
       "      <td>7.286477</td>\n",
       "      <td>92.0</td>\n",
       "      <td>85446075</td>\n",
       "      <td>False</td>\n",
       "      <td>True</td>\n",
       "      <td>True</td>\n",
       "      <td>True</td>\n",
       "      <td>8</td>\n",
       "      <td>30</td>\n",
       "      <td>2012</td>\n",
       "      <td>True</td>\n",
       "      <td>1</td>\n",
       "      <td>2</td>\n",
       "      <td>14</td>\n",
       "    </tr>\n",
       "    <tr>\n",
       "      <th>7</th>\n",
       "      <td>0</td>\n",
       "      <td>1.949044</td>\n",
       "      <td>84.0</td>\n",
       "      <td>2586511</td>\n",
       "      <td>False</td>\n",
       "      <td>False</td>\n",
       "      <td>True</td>\n",
       "      <td>True</td>\n",
       "      <td>1</td>\n",
       "      <td>15</td>\n",
       "      <td>2004</td>\n",
       "      <td>True</td>\n",
       "      <td>2</td>\n",
       "      <td>1</td>\n",
       "      <td>4</td>\n",
       "    </tr>\n",
       "    <tr>\n",
       "      <th>8</th>\n",
       "      <td>0</td>\n",
       "      <td>6.902423</td>\n",
       "      <td>100.0</td>\n",
       "      <td>34327391</td>\n",
       "      <td>True</td>\n",
       "      <td>False</td>\n",
       "      <td>True</td>\n",
       "      <td>True</td>\n",
       "      <td>2</td>\n",
       "      <td>16</td>\n",
       "      <td>1996</td>\n",
       "      <td>True</td>\n",
       "      <td>1</td>\n",
       "      <td>5</td>\n",
       "      <td>12</td>\n",
       "    </tr>\n",
       "    <tr>\n",
       "      <th>9</th>\n",
       "      <td>6000000</td>\n",
       "      <td>4.672036</td>\n",
       "      <td>91.0</td>\n",
       "      <td>18750246</td>\n",
       "      <td>False</td>\n",
       "      <td>False</td>\n",
       "      <td>True</td>\n",
       "      <td>True</td>\n",
       "      <td>4</td>\n",
       "      <td>16</td>\n",
       "      <td>2003</td>\n",
       "      <td>True</td>\n",
       "      <td>1</td>\n",
       "      <td>2</td>\n",
       "      <td>20</td>\n",
       "    </tr>\n",
       "  </tbody>\n",
       "</table>\n",
       "</div>"
      ],
      "text/plain": [
       "     budget  popularity  runtime   revenue  has_collection  has_homepage  \\\n",
       "0  14000000    6.575393     93.0  12314651            True         False   \n",
       "1  40000000    8.248895    113.0  95149435            True         False   \n",
       "2   3300000   64.299990    105.0  13092000           False          True   \n",
       "3   1200000    3.174936    122.0  16000000           False          True   \n",
       "4         0    1.148070    118.0   3923970           False         False   \n",
       "5   8000000    0.743274     83.0   3261638           False         False   \n",
       "6  14000000    7.286477     92.0  85446075           False          True   \n",
       "7         0    1.949044     84.0   2586511           False         False   \n",
       "8         0    6.902423    100.0  34327391            True         False   \n",
       "9   6000000    4.672036     91.0  18750246           False         False   \n",
       "\n",
       "   has_tagline  titleMatch  release_month  release_day  release_year  \\\n",
       "0         True        True              2           20          2015   \n",
       "1         True        True              8            6          2004   \n",
       "2         True        True             10           10          2014   \n",
       "3        False        True              3            9          2012   \n",
       "4        False       False              2            5          2009   \n",
       "5        False        True              8            6          1987   \n",
       "6         True        True              8           30          2012   \n",
       "7         True        True              1           15          2004   \n",
       "8         True        True              2           16          1996   \n",
       "9         True        True              4           16          2003   \n",
       "\n",
       "   orig_lang_en  no_languages  no_genres  no_cast  \n",
       "0          True             1          1       24  \n",
       "1          True             1          4       20  \n",
       "2          True             1          1       51  \n",
       "3         False             2          2        7  \n",
       "4         False             1          2        4  \n",
       "5          True             1          3        4  \n",
       "6          True             1          2       14  \n",
       "7          True             2          1        4  \n",
       "8          True             1          5       12  \n",
       "9          True             1          2       20  "
      ]
     },
     "execution_count": 41,
     "metadata": {},
     "output_type": "execute_result"
    }
   ],
   "source": [
    "movies_prep.head(10)"
   ]
  },
  {
   "cell_type": "code",
   "execution_count": 42,
   "metadata": {},
   "outputs": [
    {
     "data": {
      "text/plain": [
       "revenue           1.000000\n",
       "budget            0.752965\n",
       "popularity        0.461460\n",
       "has_collection    0.339425\n",
       "no_cast           0.335737\n",
       "has_homepage      0.263179\n",
       "runtime           0.216363\n",
       "has_tagline       0.180366\n",
       "no_genres         0.163654\n",
       "orig_lang_en      0.142130\n",
       "release_year      0.137933\n",
       "titleMatch        0.123204\n",
       "no_languages      0.064961\n",
       "release_day       0.045699\n",
       "release_month     0.020164\n",
       "Name: revenue, dtype: float64"
      ]
     },
     "execution_count": 42,
     "metadata": {},
     "output_type": "execute_result"
    }
   ],
   "source": [
    "corr_matrix = movies_prep.corr()\n",
    "corr_matrix[\"revenue\"].sort_values(ascending=False)"
   ]
  },
  {
   "cell_type": "markdown",
   "metadata": {},
   "source": [
    "After handling object datatypes and dropping some features all together, the dataset consist of 13 features, not counting the revenue. There are a lot more work that can be done to the dataset, but this simplistic version will be used to train a  model. "
   ]
  },
  {
   "cell_type": "markdown",
   "metadata": {},
   "source": [
    "# 5. Explore different models"
   ]
  },
  {
   "cell_type": "markdown",
   "metadata": {},
   "source": [
    "The skewed features budget and revenue need to be normalized by algorithm. The training data (X) will be stored in data_prepared, and the labels (y) will be stored in data_labels. "
   ]
  },
  {
   "cell_type": "code",
   "execution_count": 127,
   "metadata": {},
   "outputs": [
    {
     "name": "stdout",
     "output_type": "stream",
     "text": [
      "<class 'pandas.core.frame.DataFrame'>\n",
      "RangeIndex: 3000 entries, 0 to 2999\n",
      "Data columns (total 14 columns):\n",
      " #   Column          Non-Null Count  Dtype  \n",
      "---  ------          --------------  -----  \n",
      " 0   budget          3000 non-null   int64  \n",
      " 1   popularity      3000 non-null   float64\n",
      " 2   runtime         3000 non-null   float64\n",
      " 3   has_collection  3000 non-null   bool   \n",
      " 4   has_homepage    3000 non-null   bool   \n",
      " 5   has_tagline     3000 non-null   bool   \n",
      " 6   titleMatch      3000 non-null   bool   \n",
      " 7   release_month   3000 non-null   int32  \n",
      " 8   release_day     3000 non-null   int32  \n",
      " 9   release_year    3000 non-null   int32  \n",
      " 10  orig_lang_en    3000 non-null   bool   \n",
      " 11  no_languages    3000 non-null   int64  \n",
      " 12  no_genres       3000 non-null   int64  \n",
      " 13  no_cast         3000 non-null   int64  \n",
      "dtypes: bool(5), float64(2), int32(3), int64(4)\n",
      "memory usage: 190.6 KB\n"
     ]
    }
   ],
   "source": [
    "data_labels = movies['revenue']\n",
    "data_prepared = pipeline(movies)\n",
    "data_prepared.drop('revenue',axis=1, inplace=True)\n",
    "data_prepared.info()\n",
    "data_prepared['budget'] = np.log1p(data_prepared['budget'])\n",
    "data_prepared['popularity'] = np.log1p(data_prepared['popularity'])\n",
    "data_labels_log = np.log1p(data_labels)"
   ]
  },
  {
   "cell_type": "markdown",
   "metadata": {},
   "source": [
    "#### Displaying scores"
   ]
  },
  {
   "cell_type": "code",
   "execution_count": 128,
   "metadata": {},
   "outputs": [],
   "source": [
    "def display_scores(scores):\n",
    "    print(\"Scores: \", scores)\n",
    "    print(\"Mean: \", scores.mean())\n",
    "    print(\"Standard deviation: \", scores.std())"
   ]
  },
  {
   "cell_type": "markdown",
   "metadata": {},
   "source": [
    "#### Linear regressor"
   ]
  },
  {
   "cell_type": "code",
   "execution_count": 129,
   "metadata": {},
   "outputs": [
    {
     "data": {
      "text/plain": [
       "LinearRegression()"
      ]
     },
     "execution_count": 129,
     "metadata": {},
     "output_type": "execute_result"
    }
   ],
   "source": [
    "from sklearn.linear_model import LinearRegression\n",
    "lin_reg = LinearRegression()\n",
    "lin_reg.fit(data_prepared, data_labels_log)"
   ]
  },
  {
   "cell_type": "code",
   "execution_count": 130,
   "metadata": {},
   "outputs": [
    {
     "name": "stdout",
     "output_type": "stream",
     "text": [
      "Scores:  [2.35259627 2.51962431 2.35144946 2.47847289 2.06407081 2.7176309\n",
      " 2.58436775 2.13957562 2.16069584 2.46889813 2.15182874 2.52332319\n",
      " 2.32991382 2.00779903 2.0066179 ]\n",
      "Mean:  2.323790977354082\n",
      "Standard deviation:  0.21691769644437378\n"
     ]
    }
   ],
   "source": [
    "from sklearn.metrics import mean_squared_error\n",
    "from sklearn.model_selection import cross_val_score\n",
    "lin_scores = cross_val_score(lin_reg, data_prepared, data_labels_log, scoring=\"neg_mean_squared_error\", cv=15)\n",
    "lin_rmse_scores = np.sqrt(-lin_scores)\n",
    "display_scores(lin_rmse_scores)"
   ]
  },
  {
   "cell_type": "markdown",
   "metadata": {},
   "source": [
    "#### Random forest regressor"
   ]
  },
  {
   "cell_type": "code",
   "execution_count": 131,
   "metadata": {},
   "outputs": [],
   "source": [
    "from sklearn.ensemble import RandomForestRegressor\n",
    "rf_reg = RandomForestRegressor(n_estimators=120, random_state=seed)"
   ]
  },
  {
   "cell_type": "code",
   "execution_count": 132,
   "metadata": {},
   "outputs": [
    {
     "name": "stdout",
     "output_type": "stream",
     "text": [
      "Scores:  [2.15982941 2.38776652 2.2588913  2.3057158  1.9959781  2.61504302\n",
      " 2.28167264 1.92210902 2.03619605 2.22424378 1.8893089  2.23391175\n",
      " 2.21220334 2.00379953 2.03320536]\n",
      "Mean:  2.1706583021628414\n",
      "Standard deviation:  0.18760629832321896\n"
     ]
    }
   ],
   "source": [
    "rf_scores = cross_val_score(rf_reg, data_prepared, data_labels_log, scoring=\"neg_mean_squared_error\", cv=15)\n",
    "rf_rmse_scores = np.sqrt(-rf_scores)\n",
    "display_scores(rf_rmse_scores)"
   ]
  },
  {
   "cell_type": "markdown",
   "metadata": {},
   "source": [
    "#### Decision tree and Ada boost regressor"
   ]
  },
  {
   "cell_type": "code",
   "execution_count": 133,
   "metadata": {},
   "outputs": [
    {
     "data": {
      "text/plain": [
       "DecisionTreeRegressor(max_depth=1, random_state=42)"
      ]
     },
     "execution_count": 133,
     "metadata": {},
     "output_type": "execute_result"
    }
   ],
   "source": [
    "from sklearn.ensemble import AdaBoostRegressor\n",
    "from sklearn.tree import DecisionTreeRegressor\n",
    "\n",
    "dt_reg = DecisionTreeRegressor(max_depth=1, random_state=seed)\n",
    "dt_reg.fit(data_prepared, data_labels_log)"
   ]
  },
  {
   "cell_type": "code",
   "execution_count": 134,
   "metadata": {},
   "outputs": [
    {
     "name": "stdout",
     "output_type": "stream",
     "text": [
      "Scores:  [2.61838863 2.90834277 2.69012056 2.67650748 2.32694911 2.94127094\n",
      " 2.78692063 2.31699656 2.49126918 2.87923482 2.42107881 2.75795374\n",
      " 2.52838262 2.16704753 2.26360775]\n",
      "Mean:  2.584938074359944\n",
      "Standard deviation:  0.24007384879317836\n"
     ]
    }
   ],
   "source": [
    "dt_scores = cross_val_score(dt_reg, data_prepared, data_labels_log, scoring=\"neg_mean_squared_error\", cv=15)\n",
    "dt_rmse_scores = np.sqrt(-dt_scores)\n",
    "display_scores(dt_rmse_scores)"
   ]
  },
  {
   "cell_type": "code",
   "execution_count": 135,
   "metadata": {},
   "outputs": [
    {
     "data": {
      "text/plain": [
       "AdaBoostRegressor(base_estimator=DecisionTreeRegressor(max_depth=1),\n",
       "                  n_estimators=120, random_state=42)"
      ]
     },
     "execution_count": 135,
     "metadata": {},
     "output_type": "execute_result"
    }
   ],
   "source": [
    "ada_reg = AdaBoostRegressor(base_estimator=DecisionTreeRegressor(max_depth=1), n_estimators=120, random_state=seed)\n",
    "ada_reg.fit(data_prepared, data_labels_log)"
   ]
  },
  {
   "cell_type": "code",
   "execution_count": 136,
   "metadata": {},
   "outputs": [
    {
     "name": "stdout",
     "output_type": "stream",
     "text": [
      "Scores:  [2.54065792 2.81255533 2.5256387  2.70717027 2.53602238 2.85169205\n",
      " 2.71839039 2.34030068 2.36917008 2.66271522 2.28279197 2.67986024\n",
      " 2.74450219 2.24004151 2.18218822]\n",
      "Mean:  2.546246477760683\n",
      "Standard deviation:  0.2098425863284577\n"
     ]
    }
   ],
   "source": [
    "ada_scores = cross_val_score(ada_reg, data_prepared, data_labels_log, scoring=\"neg_mean_squared_error\", cv=15)\n",
    "ada_rmse_scores = np.sqrt(-ada_scores)\n",
    "display_scores(ada_rmse_scores)"
   ]
  },
  {
   "cell_type": "markdown",
   "metadata": {},
   "source": [
    "#### Gradient Boosting regressor"
   ]
  },
  {
   "cell_type": "code",
   "execution_count": 137,
   "metadata": {},
   "outputs": [
    {
     "data": {
      "text/plain": [
       "GradientBoostingRegressor(random_state=42)"
      ]
     },
     "execution_count": 137,
     "metadata": {},
     "output_type": "execute_result"
    }
   ],
   "source": [
    "from sklearn.ensemble import GradientBoostingRegressor\n",
    "\n",
    "gb_reg = GradientBoostingRegressor(random_state=seed)\n",
    "gb_reg.fit(data_prepared, data_labels_log)"
   ]
  },
  {
   "cell_type": "code",
   "execution_count": 138,
   "metadata": {},
   "outputs": [
    {
     "name": "stdout",
     "output_type": "stream",
     "text": [
      "Scores:  [2.13986915 2.4158547  2.25968038 2.2633587  1.9056665  2.53637827\n",
      " 2.28319956 1.86808133 1.88450811 2.05524346 1.84931061 2.1938229\n",
      " 2.16263491 1.89706362 1.8872093 ]\n",
      "Mean:  2.106792101044711\n",
      "Standard deviation:  0.21273763020759456\n"
     ]
    }
   ],
   "source": [
    "gb_scores = cross_val_score(gb_reg, data_prepared, data_labels_log, scoring=\"neg_mean_squared_error\", cv=15)\n",
    "gb_rmse_scores = np.sqrt(-gb_scores)\n",
    "display_scores(gb_rmse_scores)"
   ]
  },
  {
   "cell_type": "markdown",
   "metadata": {},
   "source": [
    "#### XGBoost"
   ]
  },
  {
   "cell_type": "code",
   "execution_count": 139,
   "metadata": {},
   "outputs": [
    {
     "data": {
      "text/plain": [
       "XGBRegressor(base_score=0.5, booster='gbtree', colsample_bylevel=1,\n",
       "             colsample_bynode=1, colsample_bytree=1, gamma=0, gpu_id=-1,\n",
       "             importance_type='gain', interaction_constraints='',\n",
       "             learning_rate=0.300000012, max_delta_step=0, max_depth=6,\n",
       "             min_child_weight=1, missing=nan, monotone_constraints='()',\n",
       "             n_estimators=100, n_jobs=0, num_parallel_tree=1, random_state=0,\n",
       "             reg_alpha=0, reg_lambda=1, scale_pos_weight=1, subsample=1,\n",
       "             tree_method='exact', validate_parameters=1, verbosity=None)"
      ]
     },
     "execution_count": 139,
     "metadata": {},
     "output_type": "execute_result"
    }
   ],
   "source": [
    "import xgboost\n",
    "xgb_reg = xgboost.XGBRegressor()\n",
    "xgb_reg.fit(data_prepared, data_labels)"
   ]
  },
  {
   "cell_type": "code",
   "execution_count": 140,
   "metadata": {},
   "outputs": [
    {
     "name": "stdout",
     "output_type": "stream",
     "text": [
      "Scores:  [2.33100469 2.51086934 2.35387627 2.24372282 1.98782445 2.53062466\n",
      " 2.34867453 2.08374718 2.14820014 2.00044945 2.05689665 2.24756995\n",
      " 2.29248136 2.03010083 2.1879862 ]\n",
      "Mean:  2.2236019001753733\n",
      "Standard deviation:  0.1680860413701169\n"
     ]
    }
   ],
   "source": [
    "xgb_scores = cross_val_score(xgb_reg, data_prepared, data_labels_log, scoring=\"neg_mean_squared_error\", cv=15)\n",
    "xgb_rmse_scores = np.sqrt(-xgb_scores)\n",
    "display_scores(xgb_rmse_scores)"
   ]
  },
  {
   "cell_type": "markdown",
   "metadata": {},
   "source": [
    "#### Voting regressor"
   ]
  },
  {
   "cell_type": "markdown",
   "metadata": {},
   "source": [
    "A voting regressor is an ensemble meta-estimator that fits several base regressors, each on the whole dataset. Then it averages the individual predictions to form a final prediction.<br><br>\n",
    "Ensemble methods, like the voting regressor, works best when the predictors are diverse, ie trained with different algorithms. Because this increases the chance that they will make very different types of errors, the ensemble's accuracy is improved. "
   ]
  },
  {
   "cell_type": "code",
   "execution_count": 141,
   "metadata": {},
   "outputs": [
    {
     "data": {
      "text/plain": [
       "VotingRegressor(estimators=[('randfor',\n",
       "                             RandomForestRegressor(n_estimators=120,\n",
       "                                                   random_state=42)),\n",
       "                            ('gradbost',\n",
       "                             GradientBoostingRegressor(random_state=42)),\n",
       "                            ('xgb',\n",
       "                             XGBRegressor(base_score=0.5, booster='gbtree',\n",
       "                                          colsample_bylevel=1,\n",
       "                                          colsample_bynode=1,\n",
       "                                          colsample_bytree=1, gamma=0,\n",
       "                                          gpu_id=-1, importance_type='gain',\n",
       "                                          interaction_constraints='',\n",
       "                                          learning_rate=0.3000...\n",
       "                                          min_child_weight=1, missing=nan,\n",
       "                                          monotone_constraints='()',\n",
       "                                          n_estimators=100, n_jobs=0,\n",
       "                                          num_parallel_tree=1, random_state=0,\n",
       "                                          reg_alpha=0, reg_lambda=1,\n",
       "                                          scale_pos_weight=1, subsample=1,\n",
       "                                          tree_method='exact',\n",
       "                                          validate_parameters=1,\n",
       "                                          verbosity=None)),\n",
       "                            ('ada',\n",
       "                             AdaBoostRegressor(base_estimator=DecisionTreeRegressor(max_depth=1),\n",
       "                                               n_estimators=120,\n",
       "                                               random_state=42)),\n",
       "                            ('lin', LinearRegression())])"
      ]
     },
     "execution_count": 141,
     "metadata": {},
     "output_type": "execute_result"
    }
   ],
   "source": [
    "from sklearn.ensemble import VotingRegressor\n",
    "vot_reg = VotingRegressor(estimators=[('randfor', rf_reg), ('gradbost', gb_reg), ('xgb', xgb_reg), ('ada', ada_reg), ('lin', lin_reg)])\n",
    "vot_reg.fit(data_prepared, data_labels_log)"
   ]
  },
  {
   "cell_type": "code",
   "execution_count": 142,
   "metadata": {},
   "outputs": [
    {
     "name": "stdout",
     "output_type": "stream",
     "text": [
      "Scores:  [2.17070664 2.40795103 2.23956477 2.25306317 1.95425499 2.52572608\n",
      " 2.30199364 1.9084955  1.97426692 2.13814446 1.87620469 2.26190736\n",
      " 2.20050001 1.88000377 1.90037542]\n",
      "Mean:  2.132877230398813\n",
      "Standard deviation:  0.19973259706043597\n"
     ]
    }
   ],
   "source": [
    "vot_scores = cross_val_score(vot_reg, data_prepared, data_labels_log, scoring=\"neg_mean_squared_error\", cv=15)\n",
    "vot_rmse_scores = np.sqrt(-vot_scores)\n",
    "display_scores(vot_rmse_scores)"
   ]
  },
  {
   "cell_type": "markdown",
   "metadata": {},
   "source": [
    "The voting regressor has a higher RMSE score than Gradient Boosting. \n",
    "\n",
    "The voting ensemble is not guaranteed to provide better performance than any single model used in the ensemble. Since Gradient Boosting performed better than the voting ensemble, it will be used instead of the voting ensemble."
   ]
  },
  {
   "cell_type": "markdown",
   "metadata": {},
   "source": [
    "## 6. Fine-tune the models "
   ]
  },
  {
   "cell_type": "markdown",
   "metadata": {},
   "source": [
    "### Grid search"
   ]
  },
  {
   "cell_type": "markdown",
   "metadata": {},
   "source": [
    "Instead of manually changing the hyperparameters until finding a great combination, one option is to perform a grid search. This method uses cross-validation to evaluate possible combinations of selected hyperparameters values.<br><br>\n",
    "Gradient boosting performed best in the previous section and will be chosen for fine-tuning."
   ]
  },
  {
   "cell_type": "code",
   "execution_count": 143,
   "metadata": {},
   "outputs": [
    {
     "data": {
      "text/plain": [
       "GridSearchCV(cv=5, estimator=GradientBoostingRegressor(random_state=42),\n",
       "             param_grid=[{'learning_rate': [0.15, 0.1, 0.05],\n",
       "                          'max_depth': [2, 4, 8], 'max_features': [2, 3, 4],\n",
       "                          'n_estimators': [10, 100, 1000]}],\n",
       "             return_train_score=True, scoring='neg_mean_squared_error')"
      ]
     },
     "execution_count": 143,
     "metadata": {},
     "output_type": "execute_result"
    }
   ],
   "source": [
    "from sklearn.model_selection import GridSearchCV\n",
    "\n",
    "param_grid = [{'n_estimators':[10,100,1000], \n",
    "     'learning_rate':[0.15,0.1,0.05], \n",
    "     'max_features': [2,3,4],\n",
    "     'max_depth':[2,4,8], \n",
    "     #'max_leaf_nodes':[5,20],\n",
    "}]\n",
    "\n",
    "grid_search = GridSearchCV(gb_reg, param_grid, cv = 5, scoring = 'neg_mean_squared_error', return_train_score=True)\n",
    "grid_search.fit(data_prepared, data_labels_log)"
   ]
  },
  {
   "cell_type": "code",
   "execution_count": 144,
   "metadata": {},
   "outputs": [
    {
     "data": {
      "text/plain": [
       "{'learning_rate': 0.05,\n",
       " 'max_depth': 2,\n",
       " 'max_features': 4,\n",
       " 'n_estimators': 1000}"
      ]
     },
     "execution_count": 144,
     "metadata": {},
     "output_type": "execute_result"
    }
   ],
   "source": [
    "grid_search.best_params_"
   ]
  },
  {
   "cell_type": "code",
   "execution_count": 167,
   "metadata": {},
   "outputs": [
    {
     "data": {
      "text/plain": [
       "GradientBoostingRegressor(learning_rate=0.05, max_depth=2, max_features=4,\n",
       "                          n_estimators=1000)"
      ]
     },
     "execution_count": 167,
     "metadata": {},
     "output_type": "execute_result"
    }
   ],
   "source": [
    "gb_best = GradientBoostingRegressor(learning_rate=0.05, max_depth=2, max_features=4, n_estimators=1000)\n",
    "gb_best.fit(data_prepared, data_labels_log)"
   ]
  },
  {
   "cell_type": "code",
   "execution_count": 169,
   "metadata": {},
   "outputs": [
    {
     "data": {
      "text/plain": [
       "array([14.66745662, 14.40525325, 15.0446472 , ..., 17.6878332 ,\n",
       "       15.23062747, 13.26874314])"
      ]
     },
     "execution_count": 169,
     "metadata": {},
     "output_type": "execute_result"
    }
   ],
   "source": [
    "test_prepared = pipeline(test)\n",
    "test_prepared['budget'] = np.log1p(test_prepared['budget'])\n",
    "test_prepared['popularity'] = np.log1p(test_prepared['popularity'])\n",
    "\n",
    "final_prediction = gb_best.predict(test_prepared)\n",
    "final_prediction"
   ]
  },
  {
   "cell_type": "code",
   "execution_count": 170,
   "metadata": {},
   "outputs": [
    {
     "name": "stdout",
     "output_type": "stream",
     "text": [
      "Scores:  [2.21482671 2.37382429 2.26005227 2.18716573 1.97599151 2.40777268\n",
      " 2.18166744 1.95892981 1.89130375 2.15620592 1.785207   2.1595468\n",
      " 2.16074098 1.97290265 1.87370064]\n",
      "Mean:  2.1039892117817742\n",
      "Standard deviation:  0.1785537432023775\n"
     ]
    }
   ],
   "source": [
    "scores = cross_val_score(gb_best, data_prepared, data_labels_log, scoring=\"neg_mean_squared_error\", cv=15)\n",
    "rmse_scores = np.sqrt(-scores)\n",
    "display_scores(rmse_scores)"
   ]
  },
  {
   "cell_type": "markdown",
   "metadata": {},
   "source": [
    "__The mean RMSE is the same as before fine-tuning. Not much help in fine-tuning?__"
   ]
  },
  {
   "cell_type": "markdown",
   "metadata": {},
   "source": [
    "## 7. Present the solution"
   ]
  },
  {
   "cell_type": "markdown",
   "metadata": {},
   "source": [
    "RMSLE score at Kaggle: 2.09."
   ]
  },
  {
   "cell_type": "code",
   "execution_count": 171,
   "metadata": {},
   "outputs": [
    {
     "data": {
      "text/plain": [
       "array([ 2344204.3776861 ,  1803524.28967529,  3418277.07934749, ...,\n",
       "       48053868.48538119,  4116967.74246227,   578817.8675291 ])"
      ]
     },
     "execution_count": 171,
     "metadata": {},
     "output_type": "execute_result"
    }
   ],
   "source": [
    "final_pred_norm = np.exp(final_prediction)\n",
    "final_pred_norm"
   ]
  },
  {
   "cell_type": "code",
   "execution_count": 172,
   "metadata": {},
   "outputs": [
    {
     "data": {
      "text/plain": [
       "54138254.09482281"
      ]
     },
     "execution_count": 172,
     "metadata": {},
     "output_type": "execute_result"
    }
   ],
   "source": [
    "np.mean(final_pred_norm)"
   ]
  },
  {
   "cell_type": "code",
   "execution_count": 173,
   "metadata": {},
   "outputs": [
    {
     "data": {
      "text/plain": [
       "4398"
      ]
     },
     "execution_count": 173,
     "metadata": {},
     "output_type": "execute_result"
    }
   ],
   "source": [
    "result = pd.DataFrame(final_pred_norm)\n",
    "result.columns = ['revenue']\n",
    "result.index = test['id']\n",
    "result.to_csv('./data/submission_box_office.csv')\n",
    "len(result)"
   ]
  },
  {
   "cell_type": "code",
   "execution_count": 174,
   "metadata": {},
   "outputs": [
    {
     "data": {
      "text/html": [
       "<div>\n",
       "<style scoped>\n",
       "    .dataframe tbody tr th:only-of-type {\n",
       "        vertical-align: middle;\n",
       "    }\n",
       "\n",
       "    .dataframe tbody tr th {\n",
       "        vertical-align: top;\n",
       "    }\n",
       "\n",
       "    .dataframe thead th {\n",
       "        text-align: right;\n",
       "    }\n",
       "</style>\n",
       "<table border=\"1\" class=\"dataframe\">\n",
       "  <thead>\n",
       "    <tr style=\"text-align: right;\">\n",
       "      <th></th>\n",
       "      <th>revenue</th>\n",
       "    </tr>\n",
       "    <tr>\n",
       "      <th>id</th>\n",
       "      <th></th>\n",
       "    </tr>\n",
       "  </thead>\n",
       "  <tbody>\n",
       "    <tr>\n",
       "      <th>3001</th>\n",
       "      <td>2.344204e+06</td>\n",
       "    </tr>\n",
       "    <tr>\n",
       "      <th>3002</th>\n",
       "      <td>1.803524e+06</td>\n",
       "    </tr>\n",
       "    <tr>\n",
       "      <th>3003</th>\n",
       "      <td>3.418277e+06</td>\n",
       "    </tr>\n",
       "    <tr>\n",
       "      <th>3004</th>\n",
       "      <td>7.962947e+06</td>\n",
       "    </tr>\n",
       "    <tr>\n",
       "      <th>3005</th>\n",
       "      <td>9.905685e+05</td>\n",
       "    </tr>\n",
       "    <tr>\n",
       "      <th>3006</th>\n",
       "      <td>1.857461e+06</td>\n",
       "    </tr>\n",
       "    <tr>\n",
       "      <th>3007</th>\n",
       "      <td>1.794535e+06</td>\n",
       "    </tr>\n",
       "    <tr>\n",
       "      <th>3008</th>\n",
       "      <td>1.757078e+07</td>\n",
       "    </tr>\n",
       "    <tr>\n",
       "      <th>3009</th>\n",
       "      <td>2.629925e+07</td>\n",
       "    </tr>\n",
       "    <tr>\n",
       "      <th>3010</th>\n",
       "      <td>4.322976e+08</td>\n",
       "    </tr>\n",
       "  </tbody>\n",
       "</table>\n",
       "</div>"
      ],
      "text/plain": [
       "           revenue\n",
       "id                \n",
       "3001  2.344204e+06\n",
       "3002  1.803524e+06\n",
       "3003  3.418277e+06\n",
       "3004  7.962947e+06\n",
       "3005  9.905685e+05\n",
       "3006  1.857461e+06\n",
       "3007  1.794535e+06\n",
       "3008  1.757078e+07\n",
       "3009  2.629925e+07\n",
       "3010  4.322976e+08"
      ]
     },
     "execution_count": 174,
     "metadata": {},
     "output_type": "execute_result"
    }
   ],
   "source": [
    "result.head(10)"
   ]
  },
  {
   "cell_type": "markdown",
   "metadata": {},
   "source": [
    "## 8. Launch, monitor and maintain the system"
   ]
  },
  {
   "cell_type": "markdown",
   "metadata": {},
   "source": []
  },
  {
   "cell_type": "markdown",
   "metadata": {},
   "source": []
  },
  {
   "cell_type": "markdown",
   "metadata": {},
   "source": []
  }
 ],
 "metadata": {
  "kernelspec": {
   "display_name": "Python 3",
   "language": "python",
   "name": "python3"
  },
  "language_info": {
   "codemirror_mode": {
    "name": "ipython",
    "version": 3
   },
   "file_extension": ".py",
   "mimetype": "text/x-python",
   "name": "python",
   "nbconvert_exporter": "python",
   "pygments_lexer": "ipython3",
   "version": "3.8.3"
  }
 },
 "nbformat": 4,
 "nbformat_minor": 4
}
